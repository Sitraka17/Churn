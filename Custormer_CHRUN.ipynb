{
  "nbformat": 4,
  "nbformat_minor": 0,
  "metadata": {
    "colab": {
      "name": "Custormer CHRUN.ipynb",
      "provenance": [],
      "collapsed_sections": [],
      "toc_visible": true,
      "authorship_tag": "ABX9TyNRX09Xm/pj1UB+FUZibZg7",
      "include_colab_link": true
    },
    "kernelspec": {
      "name": "python3",
      "display_name": "Python 3"
    },
    "language_info": {
      "name": "python"
    }
  },
  "cells": [
    {
      "cell_type": "markdown",
      "metadata": {
        "id": "view-in-github",
        "colab_type": "text"
      },
      "source": [
        "<a href=\"https://colab.research.google.com/github/Sitraka17/Churn/blob/main/Custormer_CHRUN.ipynb\" target=\"_parent\"><img src=\"https://colab.research.google.com/assets/colab-badge.svg\" alt=\"Open In Colab\"/></a>"
      ]
    },
    {
      "cell_type": "markdown",
      "metadata": {
        "id": "JYk9yPvE3Lsq"
      },
      "source": [
        "#Jetro"
      ]
    },
    {
      "cell_type": "code",
      "metadata": {
        "id": "B6HfZbtV3l1q"
      },
      "source": [
        "#Python to CUSTOMER CHURN"
      ],
      "execution_count": null,
      "outputs": []
    },
    {
      "cell_type": "code",
      "metadata": {
        "id": "fuMH3rg33wJY"
      },
      "source": [
        "#IMPORT CELL\n",
        "import pandas as pd\n",
        "import numpy as np\n",
        "import sklearn\n",
        "import matplotlib.pyplot as plt\n",
        "import seaborn as sns\n",
        "from sklearn.preprocessing import LabelEncoder\n",
        "from sklearn.preprocessing import StandardScaler\n",
        "from sklearn.metrics import classification_report\n",
        "from sklearn.linear_model import LogisticRegression\n",
        "from sklearn.model_selection import train_test_split"
      ],
      "execution_count": 80,
      "outputs": []
    },
    {
      "cell_type": "code",
      "metadata": {
        "id": "6nFK0uzR4Uoy",
        "colab": {
          "resources": {
            "http://localhost:8080/nbextensions/google.colab/files.js": {
              "data": "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",
              "ok": true,
              "headers": [
                [
                  "content-type",
                  "application/javascript"
                ]
              ],
              "status": 200,
              "status_text": ""
            }
          },
          "base_uri": "https://localhost:8080/",
          "height": 72
        },
        "outputId": "cbc3fa0a-f7b2-4b05-8598-a7d4c7bfb8f0"
      },
      "source": [
        "#Load the data \n",
        "from google.colab import files # Use to load data on Google Colab \n",
        "uploaded = files.upload() # Use to load data on Google Colab "
      ],
      "execution_count": 81,
      "outputs": [
        {
          "output_type": "display_data",
          "data": {
            "text/html": [
              "\n",
              "     <input type=\"file\" id=\"files-45ad30ee-ac92-4780-abfe-57ab8d141560\" name=\"files[]\" multiple disabled\n",
              "        style=\"border:none\" />\n",
              "     <output id=\"result-45ad30ee-ac92-4780-abfe-57ab8d141560\">\n",
              "      Upload widget is only available when the cell has been executed in the\n",
              "      current browser session. Please rerun this cell to enable.\n",
              "      </output>\n",
              "      <script src=\"/nbextensions/google.colab/files.js\"></script> "
            ],
            "text/plain": [
              "<IPython.core.display.HTML object>"
            ]
          },
          "metadata": {
            "tags": []
          }
        },
        {
          "output_type": "stream",
          "text": [
            "Saving Dashbaord Jetro (1).xlsx to Dashbaord Jetro (1) (1).xlsx\n"
          ],
          "name": "stdout"
        }
      ]
    },
    {
      "cell_type": "code",
      "metadata": {
        "colab": {
          "base_uri": "https://localhost:8080/",
          "height": 541
        },
        "id": "XVtCbWOG6OwF",
        "outputId": "a7658dc5-76a7-4f01-fffb-49a42424f44c"
      },
      "source": [
        "#Load the data into the data frame\n",
        "df = pd.read_excel('Dashbaord Jetro (1).xlsx')\n",
        "df.head(7)"
      ],
      "execution_count": 110,
      "outputs": [
        {
          "output_type": "execute_result",
          "data": {
            "text/html": [
              "<div>\n",
              "<style scoped>\n",
              "    .dataframe tbody tr th:only-of-type {\n",
              "        vertical-align: middle;\n",
              "    }\n",
              "\n",
              "    .dataframe tbody tr th {\n",
              "        vertical-align: top;\n",
              "    }\n",
              "\n",
              "    .dataframe thead th {\n",
              "        text-align: right;\n",
              "    }\n",
              "</style>\n",
              "<table border=\"1\" class=\"dataframe\">\n",
              "  <thead>\n",
              "    <tr style=\"text-align: right;\">\n",
              "      <th></th>\n",
              "      <th>Portal &amp; REF</th>\n",
              "      <th>Portal</th>\n",
              "      <th>Ref fiche</th>\n",
              "      <th>Online since</th>\n",
              "      <th>Company name</th>\n",
              "      <th>Data collection date / per month</th>\n",
              "      <th>Month</th>\n",
              "      <th>URL statco</th>\n",
              "      <th>Online stand URL</th>\n",
              "      <th>Main category</th>\n",
              "      <th>Portal&amp;MainCat</th>\n",
              "      <th>Number of product pages</th>\n",
              "      <th>View\\ndisplay</th>\n",
              "      <th>Click</th>\n",
              "      <th>STAND\\n CONTENT HIGHLIGHT\\nDisplay</th>\n",
              "      <th>STAND\\n CONTENT HIGHLIGHT\\nClick</th>\n",
              "      <th>ADVERTISEMENT\\nDisplay</th>\n",
              "      <th>ADVERTISEMENT\\nClick</th>\n",
              "      <th>Sourcing &amp; Website Traffic\\nSearch Results page prospects</th>\n",
              "      <th>Sourcing &amp; Website Traffic\\nClick Throughs</th>\n",
              "      <th>Unique Visitor\\nstand prospect</th>\n",
              "      <th>See\\n Price Options/Where to Buy Prospects</th>\n",
              "      <th>Requests</th>\n",
              "      <th>RFQ\\nList of my request for quotation</th>\n",
              "      <th></th>\n",
              "      <th>.1</th>\n",
              "      <th>.2</th>\n",
              "      <th>.3</th>\n",
              "      <th>.4</th>\n",
              "      <th>.5</th>\n",
              "      <th>.6</th>\n",
              "    </tr>\n",
              "  </thead>\n",
              "  <tbody>\n",
              "    <tr>\n",
              "      <th>0</th>\n",
              "      <td>AE133867</td>\n",
              "      <td>AE</td>\n",
              "      <td>133867</td>\n",
              "      <td>2021-02-11</td>\n",
              "      <td>USTECH CORPORATION</td>\n",
              "      <td>2021-02-28</td>\n",
              "      <td>2</td>\n",
              "      <td>https://secure.archiexpo.com/statsco-backoffic...</td>\n",
              "      <td>https://www.archiexpo.com/prod/ustech-corporat...</td>\n",
              "      <td>Bathroom</td>\n",
              "      <td>AE-Bathroom</td>\n",
              "      <td>3</td>\n",
              "      <td>9810</td>\n",
              "      <td>205</td>\n",
              "      <td>0.0</td>\n",
              "      <td>0.0</td>\n",
              "      <td>2334</td>\n",
              "      <td>1</td>\n",
              "      <td>61</td>\n",
              "      <td>2</td>\n",
              "      <td>13</td>\n",
              "      <td>0</td>\n",
              "      <td>0</td>\n",
              "      <td>0.0</td>\n",
              "      <td>NaN</td>\n",
              "      <td>NaN</td>\n",
              "      <td>NaN</td>\n",
              "      <td>NaN</td>\n",
              "      <td>NaN</td>\n",
              "      <td>NaN</td>\n",
              "      <td>NaN</td>\n",
              "    </tr>\n",
              "    <tr>\n",
              "      <th>1</th>\n",
              "      <td>AE133867</td>\n",
              "      <td>AE</td>\n",
              "      <td>133867</td>\n",
              "      <td>2021-02-11</td>\n",
              "      <td>USTECH CORPORATION</td>\n",
              "      <td>2021-03-16</td>\n",
              "      <td>3</td>\n",
              "      <td>https://secure.archiexpo.com/statsco-backoffic...</td>\n",
              "      <td>https://www.archiexpo.com/prod/ustech-corporat...</td>\n",
              "      <td>Bathroom</td>\n",
              "      <td>AE-Bathroom</td>\n",
              "      <td>3</td>\n",
              "      <td>2825</td>\n",
              "      <td>82</td>\n",
              "      <td>0.0</td>\n",
              "      <td>0.0</td>\n",
              "      <td>5684</td>\n",
              "      <td>13</td>\n",
              "      <td>57</td>\n",
              "      <td>3</td>\n",
              "      <td>6</td>\n",
              "      <td>0</td>\n",
              "      <td>0</td>\n",
              "      <td>0.0</td>\n",
              "      <td>NaN</td>\n",
              "      <td>NaN</td>\n",
              "      <td>NaN</td>\n",
              "      <td>NaN</td>\n",
              "      <td>NaN</td>\n",
              "      <td>NaN</td>\n",
              "      <td>NaN</td>\n",
              "    </tr>\n",
              "    <tr>\n",
              "      <th>2</th>\n",
              "      <td>AE162535</td>\n",
              "      <td>AE</td>\n",
              "      <td>162535</td>\n",
              "      <td>2020-12-01</td>\n",
              "      <td>O.N. Industries Ltd.</td>\n",
              "      <td>2020-12-31</td>\n",
              "      <td>12</td>\n",
              "      <td>https://secure.archiexpo.com/statsco-backoffic...</td>\n",
              "      <td>https://www.archiexpo.com/prod/industries-ltd-...</td>\n",
              "      <td>Planting and accessories</td>\n",
              "      <td>AE-Planting and accessories</td>\n",
              "      <td>2</td>\n",
              "      <td>8183</td>\n",
              "      <td>49</td>\n",
              "      <td>0.0</td>\n",
              "      <td>0.0</td>\n",
              "      <td>1972</td>\n",
              "      <td>3</td>\n",
              "      <td>0</td>\n",
              "      <td>2</td>\n",
              "      <td>0</td>\n",
              "      <td>0</td>\n",
              "      <td>0</td>\n",
              "      <td>0.0</td>\n",
              "      <td>NaN</td>\n",
              "      <td>NaN</td>\n",
              "      <td>NaN</td>\n",
              "      <td>NaN</td>\n",
              "      <td>NaN</td>\n",
              "      <td>NaN</td>\n",
              "      <td>NaN</td>\n",
              "    </tr>\n",
              "    <tr>\n",
              "      <th>3</th>\n",
              "      <td>AE162535</td>\n",
              "      <td>AE</td>\n",
              "      <td>162535</td>\n",
              "      <td>2020-12-01</td>\n",
              "      <td>O.N. Industries Ltd.</td>\n",
              "      <td>2021-01-31</td>\n",
              "      <td>1</td>\n",
              "      <td>https://secure.archiexpo.com/statsco-backoffic...</td>\n",
              "      <td>https://www.archiexpo.com/prod/industries-ltd-...</td>\n",
              "      <td>Planting and accessories</td>\n",
              "      <td>AE-Planting and accessories</td>\n",
              "      <td>2</td>\n",
              "      <td>7735</td>\n",
              "      <td>36</td>\n",
              "      <td>72433.0</td>\n",
              "      <td>75.0</td>\n",
              "      <td>4119</td>\n",
              "      <td>7</td>\n",
              "      <td>3</td>\n",
              "      <td>4</td>\n",
              "      <td>64</td>\n",
              "      <td>3</td>\n",
              "      <td>1</td>\n",
              "      <td>0.0</td>\n",
              "      <td>NaN</td>\n",
              "      <td>NaN</td>\n",
              "      <td>NaN</td>\n",
              "      <td>NaN</td>\n",
              "      <td>NaN</td>\n",
              "      <td>NaN</td>\n",
              "      <td>NaN</td>\n",
              "    </tr>\n",
              "    <tr>\n",
              "      <th>4</th>\n",
              "      <td>AE162535</td>\n",
              "      <td>AE</td>\n",
              "      <td>162535</td>\n",
              "      <td>2020-12-01</td>\n",
              "      <td>O.N. Industries Ltd.</td>\n",
              "      <td>2021-02-28</td>\n",
              "      <td>2</td>\n",
              "      <td>https://secure.archiexpo.com/statsco-backoffic...</td>\n",
              "      <td>https://www.archiexpo.com/prod/industries-ltd-...</td>\n",
              "      <td>Planting and accessories</td>\n",
              "      <td>AE-Planting and accessories</td>\n",
              "      <td>2</td>\n",
              "      <td>170</td>\n",
              "      <td>9</td>\n",
              "      <td>4702.0</td>\n",
              "      <td>2.0</td>\n",
              "      <td>3504</td>\n",
              "      <td>6</td>\n",
              "      <td>0</td>\n",
              "      <td>2</td>\n",
              "      <td>1</td>\n",
              "      <td>0</td>\n",
              "      <td>0</td>\n",
              "      <td>0.0</td>\n",
              "      <td>NaN</td>\n",
              "      <td>NaN</td>\n",
              "      <td>NaN</td>\n",
              "      <td>NaN</td>\n",
              "      <td>NaN</td>\n",
              "      <td>NaN</td>\n",
              "      <td>NaN</td>\n",
              "    </tr>\n",
              "    <tr>\n",
              "      <th>5</th>\n",
              "      <td>AE162535</td>\n",
              "      <td>AE</td>\n",
              "      <td>162535</td>\n",
              "      <td>2020-12-01</td>\n",
              "      <td>O.N. Industries Ltd.</td>\n",
              "      <td>2021-03-16</td>\n",
              "      <td>3</td>\n",
              "      <td>https://secure.archiexpo.com/statsco-backoffic...</td>\n",
              "      <td>https://www.archiexpo.com/prod/industries-ltd-...</td>\n",
              "      <td>Planting and accessories</td>\n",
              "      <td>AE-Planting and accessories</td>\n",
              "      <td>2</td>\n",
              "      <td>-32</td>\n",
              "      <td>17</td>\n",
              "      <td>206213.0</td>\n",
              "      <td>536.0</td>\n",
              "      <td>16</td>\n",
              "      <td>1</td>\n",
              "      <td>3</td>\n",
              "      <td>15</td>\n",
              "      <td>195</td>\n",
              "      <td>0</td>\n",
              "      <td>11</td>\n",
              "      <td>0.0</td>\n",
              "      <td>NaN</td>\n",
              "      <td>NaN</td>\n",
              "      <td>NaN</td>\n",
              "      <td>NaN</td>\n",
              "      <td>NaN</td>\n",
              "      <td>NaN</td>\n",
              "      <td>NaN</td>\n",
              "    </tr>\n",
              "    <tr>\n",
              "      <th>6</th>\n",
              "      <td>AE167235</td>\n",
              "      <td>AE</td>\n",
              "      <td>167235</td>\n",
              "      <td>2020-12-07</td>\n",
              "      <td>Conde House</td>\n",
              "      <td>2020-12-31</td>\n",
              "      <td>12</td>\n",
              "      <td>https://secure.archiexpo.com/statsco-backoffic...</td>\n",
              "      <td>https://www.archiexpo.com/prod/conde-house-167...</td>\n",
              "      <td>Tables</td>\n",
              "      <td>AE-Tables</td>\n",
              "      <td>54</td>\n",
              "      <td>18892</td>\n",
              "      <td>214</td>\n",
              "      <td>0.0</td>\n",
              "      <td>0.0</td>\n",
              "      <td>18078</td>\n",
              "      <td>14</td>\n",
              "      <td>269</td>\n",
              "      <td>7</td>\n",
              "      <td>15</td>\n",
              "      <td>0</td>\n",
              "      <td>10</td>\n",
              "      <td>0.0</td>\n",
              "      <td>NaN</td>\n",
              "      <td>NaN</td>\n",
              "      <td>NaN</td>\n",
              "      <td>NaN</td>\n",
              "      <td>NaN</td>\n",
              "      <td>NaN</td>\n",
              "      <td>NaN</td>\n",
              "    </tr>\n",
              "  </tbody>\n",
              "</table>\n",
              "</div>"
            ],
            "text/plain": [
              "  Portal & REF Portal  Ref fiche Online since  ...  .3  .4   .5  .6\n",
              "0     AE133867     AE     133867   2021-02-11  ... NaN NaN  NaN NaN\n",
              "1     AE133867     AE     133867   2021-02-11  ... NaN NaN  NaN NaN\n",
              "2     AE162535     AE     162535   2020-12-01  ... NaN NaN  NaN NaN\n",
              "3     AE162535     AE     162535   2020-12-01  ... NaN NaN  NaN NaN\n",
              "4     AE162535     AE     162535   2020-12-01  ... NaN NaN  NaN NaN\n",
              "5     AE162535     AE     162535   2020-12-01  ... NaN NaN  NaN NaN\n",
              "6     AE167235     AE     167235   2020-12-07  ... NaN NaN  NaN NaN\n",
              "\n",
              "[7 rows x 31 columns]"
            ]
          },
          "metadata": {
            "tags": []
          },
          "execution_count": 110
        }
      ]
    },
    {
      "cell_type": "markdown",
      "metadata": {
        "id": "8cw0JH-PsHQD"
      },
      "source": [
        "# Graphs of df"
      ]
    },
    {
      "cell_type": "code",
      "metadata": {
        "colab": {
          "base_uri": "https://localhost:8080/",
          "height": 542
        },
        "id": "RzpOYJAGroFq",
        "outputId": "c00fbea3-b2eb-47c6-9b64-6ca64b5b16ca"
      },
      "source": [
        "import plotly.express as px\n",
        "fig = px.line(df, 'Portal', 'Click', title='Nombres de clicks par portails ')\n",
        "fig.show() "
      ],
      "execution_count": 90,
      "outputs": [
        {
          "output_type": "display_data",
          "data": {
            "text/html": [
              "<html>\n",
              "<head><meta charset=\"utf-8\" /></head>\n",
              "<body>\n",
              "    <div>\n",
              "            <script src=\"https://cdnjs.cloudflare.com/ajax/libs/mathjax/2.7.5/MathJax.js?config=TeX-AMS-MML_SVG\"></script><script type=\"text/javascript\">if (window.MathJax) {MathJax.Hub.Config({SVG: {font: \"STIX-Web\"}});}</script>\n",
              "                <script type=\"text/javascript\">window.PlotlyConfig = {MathJaxConfig: 'local'};</script>\n",
              "        <script src=\"https://cdn.plot.ly/plotly-latest.min.js\"></script>    \n",
              "            <div id=\"7d228323-297b-40fb-b363-6f62214c6c52\" class=\"plotly-graph-div\" style=\"height:525px; width:100%;\"></div>\n",
              "            <script type=\"text/javascript\">\n",
              "                \n",
              "                    window.PLOTLYENV=window.PLOTLYENV || {};\n",
              "                    \n",
              "                if (document.getElementById(\"7d228323-297b-40fb-b363-6f62214c6c52\")) {\n",
              "                    Plotly.newPlot(\n",
              "                        '7d228323-297b-40fb-b363-6f62214c6c52',\n",
              "                        [{\"hoverlabel\": {\"namelength\": 0}, \"hovertemplate\": \"Portal=%{x}<br>Click=%{y}\", \"legendgroup\": \"\", \"line\": {\"color\": \"#636efa\", \"dash\": \"solid\"}, \"mode\": \"lines\", \"name\": \"\", \"showlegend\": false, \"type\": \"scatter\", \"x\": [\"AE\", \"AE\", \"AE\", \"AE\", \"AE\", \"AE\", \"AE\", \"AE\", \"AE\", \"AE\", \"AE\", \"AE\", \"AE\", \"AE\", \"AE\", \"AE\", \"AE\", \"AE\", \"AE\", \"AE\", \"AE\", \"AE\", \"AE\", \"AE\", \"AE\", \"AE\", \"AE\", \"AE\", \"AE\", \"AE\", \"AE\", \"AE\", \"AE\", \"AE\", \"AE\", \"AE\", \"AE\", \"AE\", \"AE\", \"AE\", \"AE\", \"AE\", \"AE\", \"AE\", \"AE\", \"AG\", \"AG\", \"AG\", \"AG\", \"AG\", \"AG\", \"AG\", \"AG\", \"AG\", \"AG\", \"AG\", \"AG\", \"AG\", \"AG\", \"AR\", \"AR\", \"DI\", \"DI\", \"DI\", \"DI\", \"DI\", \"DI\", \"DI\", \"DI\", \"DI\", \"DI\", \"DI\", \"DI\", \"DI\", \"DI\", \"DI\", \"DI\", \"DI\", \"DI\", \"DI\", \"DI\", \"DI\", \"DI\", \"DI\", \"DI\", \"DI\", \"DI\", \"DI\", \"DI\", \"DI\", \"DI\", \"DI\", \"DI\", \"DI\", \"DI\", \"DI\", \"DI\", \"DI\", \"DI\", \"DI\", \"DI\", \"DI\", \"DI\", \"DI\", \"DI\", \"DI\", \"DI\", \"DI\", \"DI\", \"DI\", \"DI\", \"DI\", \"DI\", \"DI\", \"DI\", \"DI\", \"DI\", \"DI\", \"DI\", \"DI\", \"DI\", \"DI\", \"DI\", \"DI\", \"DI\", \"DI\", \"DI\", \"DI\", \"DI\", \"DI\", \"DI\", \"DI\", \"DI\", \"DI\", \"DI\", \"DI\", \"DI\", \"DI\", \"DI\", \"DI\", \"DI\", \"DI\", \"DI\", \"DI\", \"DI\", \"DI\", \"DI\", \"DI\", \"DI\", \"DI\", \"DI\", \"DI\", \"DI\", \"DI\", \"DI\", \"DI\", \"DI\", \"DI\", \"DI\", \"DI\", \"DI\", \"DI\", \"DI\", \"DI\", \"DI\", \"DI\", \"DI\", \"DI\", \"DI\", \"DI\", \"DI\", \"DI\", \"DI\", \"ME\", \"ME\", \"ME\", \"ME\", \"ME\", \"ME\", \"ME\", \"ME\", \"ME\", \"ME\", \"ME\", \"ME\", \"ME\", \"ME\", \"ME\", \"ME\", \"ME\", \"ME\", \"ME\", \"ME\", \"ME\", \"ME\", \"ME\", \"ME\", \"ME\", \"ME\", \"ME\", \"ME\", \"NE\", \"NE\", \"NE\", \"NE\", \"NE\", \"NE\"], \"xaxis\": \"x\", \"y\": [205, 82, 49, 36, 9, 17, 214, 371, 241, 76, 81, 137, 114, 28, 35, 59, 34, 56, 69, 137, 98, 79, 135, 72, 37, 182, 122, 15, 30, 5, 24, 62, 29, 51, 49, 84, 49, 60, 89, 59, 104, 46, 12, 14, 3, 121, 800, 93, 519, 152, 239, 164, 23, 55, 36, 92, 70, 162, 153, 59, 52, 19, 22, 21, 4, 15, 15, 62, 74, 57, 132, 36, 11, 8, 50, 0, 36, 68, 193, 227, 88, 21, 41, 74, 30, 54, 41, 30, 3, 15, 18, 32, 14, 31, 33, 48, 20, 85, 67, 56, 24, 135, 255, 12, 22, 21, 1, 59, 21, 8, 4, 24, 44, 46, 31, 130, 87, 108, 10, 367, 123, 171, 161, 15, 47, 66, 49, 26, 51, 34, 2, 7, 70, 75, 68, 28, 7, 104, 113, 48, 88, 17, 49, 204, 124, 38, 25, 178, 19, 131, 28, 7, 9, 70, 52, 158, 93, 40, 14, 66, 19, 28, 16, 43, 64, 12, 3, 12, 7, 74, 3793, 632, 4917, 44, 78, 76, 32, 142, 108, 94, 58, 13, 21, 10, 16, 36, 52, 104, 59, 11, 6, 95, 67, 31, 50, 40, 92, 137, 238, 213, 201, 183, 268, 380, 198, 15, 43], \"yaxis\": \"y\"}],\n",
              "                        {\"legend\": {\"tracegroupgap\": 0}, \"template\": {\"data\": {\"bar\": [{\"error_x\": {\"color\": \"#2a3f5f\"}, \"error_y\": {\"color\": \"#2a3f5f\"}, \"marker\": {\"line\": {\"color\": \"#E5ECF6\", \"width\": 0.5}}, \"type\": \"bar\"}], \"barpolar\": [{\"marker\": {\"line\": {\"color\": \"#E5ECF6\", \"width\": 0.5}}, \"type\": \"barpolar\"}], \"carpet\": [{\"aaxis\": {\"endlinecolor\": \"#2a3f5f\", \"gridcolor\": \"white\", \"linecolor\": \"white\", \"minorgridcolor\": \"white\", \"startlinecolor\": \"#2a3f5f\"}, \"baxis\": {\"endlinecolor\": \"#2a3f5f\", \"gridcolor\": \"white\", \"linecolor\": \"white\", \"minorgridcolor\": \"white\", \"startlinecolor\": \"#2a3f5f\"}, \"type\": \"carpet\"}], \"choropleth\": [{\"colorbar\": {\"outlinewidth\": 0, \"ticks\": \"\"}, \"type\": \"choropleth\"}], \"contour\": [{\"colorbar\": {\"outlinewidth\": 0, \"ticks\": \"\"}, \"colorscale\": [[0.0, \"#0d0887\"], [0.1111111111111111, \"#46039f\"], [0.2222222222222222, \"#7201a8\"], [0.3333333333333333, \"#9c179e\"], [0.4444444444444444, \"#bd3786\"], [0.5555555555555556, \"#d8576b\"], [0.6666666666666666, \"#ed7953\"], [0.7777777777777778, \"#fb9f3a\"], [0.8888888888888888, \"#fdca26\"], [1.0, \"#f0f921\"]], \"type\": \"contour\"}], \"contourcarpet\": [{\"colorbar\": {\"outlinewidth\": 0, \"ticks\": \"\"}, \"type\": \"contourcarpet\"}], \"heatmap\": [{\"colorbar\": {\"outlinewidth\": 0, \"ticks\": \"\"}, \"colorscale\": [[0.0, \"#0d0887\"], [0.1111111111111111, \"#46039f\"], [0.2222222222222222, \"#7201a8\"], [0.3333333333333333, \"#9c179e\"], [0.4444444444444444, \"#bd3786\"], [0.5555555555555556, \"#d8576b\"], [0.6666666666666666, \"#ed7953\"], [0.7777777777777778, \"#fb9f3a\"], [0.8888888888888888, \"#fdca26\"], [1.0, \"#f0f921\"]], \"type\": \"heatmap\"}], \"heatmapgl\": [{\"colorbar\": {\"outlinewidth\": 0, \"ticks\": \"\"}, \"colorscale\": [[0.0, \"#0d0887\"], [0.1111111111111111, \"#46039f\"], [0.2222222222222222, \"#7201a8\"], [0.3333333333333333, \"#9c179e\"], [0.4444444444444444, \"#bd3786\"], [0.5555555555555556, \"#d8576b\"], [0.6666666666666666, \"#ed7953\"], [0.7777777777777778, \"#fb9f3a\"], [0.8888888888888888, \"#fdca26\"], [1.0, \"#f0f921\"]], \"type\": \"heatmapgl\"}], \"histogram\": [{\"marker\": {\"colorbar\": {\"outlinewidth\": 0, \"ticks\": \"\"}}, \"type\": \"histogram\"}], \"histogram2d\": [{\"colorbar\": {\"outlinewidth\": 0, \"ticks\": \"\"}, \"colorscale\": [[0.0, \"#0d0887\"], [0.1111111111111111, \"#46039f\"], [0.2222222222222222, \"#7201a8\"], [0.3333333333333333, \"#9c179e\"], [0.4444444444444444, \"#bd3786\"], [0.5555555555555556, \"#d8576b\"], [0.6666666666666666, \"#ed7953\"], [0.7777777777777778, \"#fb9f3a\"], [0.8888888888888888, \"#fdca26\"], [1.0, \"#f0f921\"]], \"type\": \"histogram2d\"}], \"histogram2dcontour\": [{\"colorbar\": {\"outlinewidth\": 0, \"ticks\": \"\"}, \"colorscale\": [[0.0, \"#0d0887\"], [0.1111111111111111, \"#46039f\"], [0.2222222222222222, \"#7201a8\"], [0.3333333333333333, \"#9c179e\"], [0.4444444444444444, \"#bd3786\"], [0.5555555555555556, \"#d8576b\"], [0.6666666666666666, \"#ed7953\"], [0.7777777777777778, \"#fb9f3a\"], [0.8888888888888888, \"#fdca26\"], [1.0, \"#f0f921\"]], \"type\": \"histogram2dcontour\"}], \"mesh3d\": [{\"colorbar\": {\"outlinewidth\": 0, \"ticks\": \"\"}, \"type\": \"mesh3d\"}], \"parcoords\": [{\"line\": {\"colorbar\": {\"outlinewidth\": 0, \"ticks\": \"\"}}, \"type\": \"parcoords\"}], \"pie\": [{\"automargin\": true, \"type\": \"pie\"}], \"scatter\": [{\"marker\": {\"colorbar\": {\"outlinewidth\": 0, \"ticks\": \"\"}}, \"type\": \"scatter\"}], \"scatter3d\": [{\"line\": {\"colorbar\": {\"outlinewidth\": 0, \"ticks\": \"\"}}, \"marker\": {\"colorbar\": {\"outlinewidth\": 0, \"ticks\": \"\"}}, \"type\": \"scatter3d\"}], \"scattercarpet\": [{\"marker\": {\"colorbar\": {\"outlinewidth\": 0, \"ticks\": \"\"}}, \"type\": \"scattercarpet\"}], \"scattergeo\": [{\"marker\": {\"colorbar\": {\"outlinewidth\": 0, \"ticks\": \"\"}}, \"type\": \"scattergeo\"}], \"scattergl\": [{\"marker\": {\"colorbar\": {\"outlinewidth\": 0, \"ticks\": \"\"}}, \"type\": \"scattergl\"}], \"scattermapbox\": [{\"marker\": {\"colorbar\": {\"outlinewidth\": 0, \"ticks\": \"\"}}, \"type\": \"scattermapbox\"}], \"scatterpolar\": [{\"marker\": {\"colorbar\": {\"outlinewidth\": 0, \"ticks\": \"\"}}, \"type\": \"scatterpolar\"}], \"scatterpolargl\": [{\"marker\": {\"colorbar\": {\"outlinewidth\": 0, \"ticks\": \"\"}}, \"type\": \"scatterpolargl\"}], \"scatterternary\": [{\"marker\": {\"colorbar\": {\"outlinewidth\": 0, \"ticks\": \"\"}}, \"type\": \"scatterternary\"}], \"surface\": [{\"colorbar\": {\"outlinewidth\": 0, \"ticks\": \"\"}, \"colorscale\": [[0.0, \"#0d0887\"], [0.1111111111111111, \"#46039f\"], [0.2222222222222222, \"#7201a8\"], [0.3333333333333333, \"#9c179e\"], [0.4444444444444444, \"#bd3786\"], [0.5555555555555556, \"#d8576b\"], [0.6666666666666666, \"#ed7953\"], [0.7777777777777778, \"#fb9f3a\"], [0.8888888888888888, \"#fdca26\"], [1.0, \"#f0f921\"]], \"type\": \"surface\"}], \"table\": [{\"cells\": {\"fill\": {\"color\": \"#EBF0F8\"}, \"line\": {\"color\": \"white\"}}, \"header\": {\"fill\": {\"color\": \"#C8D4E3\"}, \"line\": {\"color\": \"white\"}}, \"type\": \"table\"}]}, \"layout\": {\"annotationdefaults\": {\"arrowcolor\": \"#2a3f5f\", \"arrowhead\": 0, \"arrowwidth\": 1}, \"coloraxis\": {\"colorbar\": {\"outlinewidth\": 0, \"ticks\": \"\"}}, \"colorscale\": {\"diverging\": [[0, \"#8e0152\"], [0.1, \"#c51b7d\"], [0.2, \"#de77ae\"], [0.3, \"#f1b6da\"], [0.4, \"#fde0ef\"], [0.5, \"#f7f7f7\"], [0.6, \"#e6f5d0\"], [0.7, \"#b8e186\"], [0.8, \"#7fbc41\"], [0.9, \"#4d9221\"], [1, \"#276419\"]], \"sequential\": [[0.0, \"#0d0887\"], [0.1111111111111111, \"#46039f\"], [0.2222222222222222, \"#7201a8\"], [0.3333333333333333, \"#9c179e\"], [0.4444444444444444, \"#bd3786\"], [0.5555555555555556, \"#d8576b\"], [0.6666666666666666, \"#ed7953\"], [0.7777777777777778, \"#fb9f3a\"], [0.8888888888888888, \"#fdca26\"], [1.0, \"#f0f921\"]], \"sequentialminus\": [[0.0, \"#0d0887\"], [0.1111111111111111, \"#46039f\"], [0.2222222222222222, \"#7201a8\"], [0.3333333333333333, \"#9c179e\"], [0.4444444444444444, \"#bd3786\"], [0.5555555555555556, \"#d8576b\"], [0.6666666666666666, \"#ed7953\"], [0.7777777777777778, \"#fb9f3a\"], [0.8888888888888888, \"#fdca26\"], [1.0, \"#f0f921\"]]}, \"colorway\": [\"#636efa\", \"#EF553B\", \"#00cc96\", \"#ab63fa\", \"#FFA15A\", \"#19d3f3\", \"#FF6692\", \"#B6E880\", \"#FF97FF\", \"#FECB52\"], \"font\": {\"color\": \"#2a3f5f\"}, \"geo\": {\"bgcolor\": \"white\", \"lakecolor\": \"white\", \"landcolor\": \"#E5ECF6\", \"showlakes\": true, \"showland\": true, \"subunitcolor\": \"white\"}, \"hoverlabel\": {\"align\": \"left\"}, \"hovermode\": \"closest\", \"mapbox\": {\"style\": \"light\"}, \"paper_bgcolor\": \"white\", \"plot_bgcolor\": \"#E5ECF6\", \"polar\": {\"angularaxis\": {\"gridcolor\": \"white\", \"linecolor\": \"white\", \"ticks\": \"\"}, \"bgcolor\": \"#E5ECF6\", \"radialaxis\": {\"gridcolor\": \"white\", \"linecolor\": \"white\", \"ticks\": \"\"}}, \"scene\": {\"xaxis\": {\"backgroundcolor\": \"#E5ECF6\", \"gridcolor\": \"white\", \"gridwidth\": 2, \"linecolor\": \"white\", \"showbackground\": true, \"ticks\": \"\", \"zerolinecolor\": \"white\"}, \"yaxis\": {\"backgroundcolor\": \"#E5ECF6\", \"gridcolor\": \"white\", \"gridwidth\": 2, \"linecolor\": \"white\", \"showbackground\": true, \"ticks\": \"\", \"zerolinecolor\": \"white\"}, \"zaxis\": {\"backgroundcolor\": \"#E5ECF6\", \"gridcolor\": \"white\", \"gridwidth\": 2, \"linecolor\": \"white\", \"showbackground\": true, \"ticks\": \"\", \"zerolinecolor\": \"white\"}}, \"shapedefaults\": {\"line\": {\"color\": \"#2a3f5f\"}}, \"ternary\": {\"aaxis\": {\"gridcolor\": \"white\", \"linecolor\": \"white\", \"ticks\": \"\"}, \"baxis\": {\"gridcolor\": \"white\", \"linecolor\": \"white\", \"ticks\": \"\"}, \"bgcolor\": \"#E5ECF6\", \"caxis\": {\"gridcolor\": \"white\", \"linecolor\": \"white\", \"ticks\": \"\"}}, \"title\": {\"x\": 0.05}, \"xaxis\": {\"automargin\": true, \"gridcolor\": \"white\", \"linecolor\": \"white\", \"ticks\": \"\", \"title\": {\"standoff\": 15}, \"zerolinecolor\": \"white\", \"zerolinewidth\": 2}, \"yaxis\": {\"automargin\": true, \"gridcolor\": \"white\", \"linecolor\": \"white\", \"ticks\": \"\", \"title\": {\"standoff\": 15}, \"zerolinecolor\": \"white\", \"zerolinewidth\": 2}}}, \"title\": {\"text\": \"Tentative \"}, \"xaxis\": {\"anchor\": \"y\", \"domain\": [0.0, 1.0], \"title\": {\"text\": \"Portal\"}}, \"yaxis\": {\"anchor\": \"x\", \"domain\": [0.0, 1.0], \"title\": {\"text\": \"Click\"}}},\n",
              "                        {\"responsive\": true}\n",
              "                    ).then(function(){\n",
              "                            \n",
              "var gd = document.getElementById('7d228323-297b-40fb-b363-6f62214c6c52');\n",
              "var x = new MutationObserver(function (mutations, observer) {{\n",
              "        var display = window.getComputedStyle(gd).display;\n",
              "        if (!display || display === 'none') {{\n",
              "            console.log([gd, 'removed!']);\n",
              "            Plotly.purge(gd);\n",
              "            observer.disconnect();\n",
              "        }}\n",
              "}});\n",
              "\n",
              "// Listen for the removal of the full notebook cells\n",
              "var notebookContainer = gd.closest('#notebook-container');\n",
              "if (notebookContainer) {{\n",
              "    x.observe(notebookContainer, {childList: true});\n",
              "}}\n",
              "\n",
              "// Listen for the clearing of the current output cell\n",
              "var outputEl = gd.closest('.output');\n",
              "if (outputEl) {{\n",
              "    x.observe(outputEl, {childList: true});\n",
              "}}\n",
              "\n",
              "                        })\n",
              "                };\n",
              "                \n",
              "            </script>\n",
              "        </div>\n",
              "</body>\n",
              "</html>"
            ]
          },
          "metadata": {
            "tags": []
          }
        }
      ]
    },
    {
      "cell_type": "code",
      "metadata": {
        "colab": {
          "base_uri": "https://localhost:8080/",
          "height": 542
        },
        "id": "kAQunIaPsF4t",
        "outputId": "037b2ac8-0ffb-440f-b6a3-62e8be44f883"
      },
      "source": [
        "import plotly.express as px\n",
        "fig = px.line(df, 'Portal', 'Click', title='Nb de clicks par portails et stands',color='Ref fiche')\n",
        "fig.show() "
      ],
      "execution_count": 91,
      "outputs": [
        {
          "output_type": "display_data",
          "data": {
            "text/html": [
              "<html>\n",
              "<head><meta charset=\"utf-8\" /></head>\n",
              "<body>\n",
              "    <div>\n",
              "            <script src=\"https://cdnjs.cloudflare.com/ajax/libs/mathjax/2.7.5/MathJax.js?config=TeX-AMS-MML_SVG\"></script><script type=\"text/javascript\">if (window.MathJax) {MathJax.Hub.Config({SVG: {font: \"STIX-Web\"}});}</script>\n",
              "                <script type=\"text/javascript\">window.PlotlyConfig = {MathJaxConfig: 'local'};</script>\n",
              "        <script src=\"https://cdn.plot.ly/plotly-latest.min.js\"></script>    \n",
              "            <div id=\"b0a677cb-e9f6-418c-81b0-6e97ef2fd040\" class=\"plotly-graph-div\" style=\"height:525px; width:100%;\"></div>\n",
              "            <script type=\"text/javascript\">\n",
              "                \n",
              "                    window.PLOTLYENV=window.PLOTLYENV || {};\n",
              "                    \n",
              "                if (document.getElementById(\"b0a677cb-e9f6-418c-81b0-6e97ef2fd040\")) {\n",
              "                    Plotly.newPlot(\n",
              "                        'b0a677cb-e9f6-418c-81b0-6e97ef2fd040',\n",
              "                        [{\"hoverlabel\": {\"namelength\": 0}, \"hovertemplate\": \"Ref fiche=133867<br>Portal=%{x}<br>Click=%{y}\", \"legendgroup\": \"Ref fiche=133867\", \"line\": {\"color\": \"#636efa\", \"dash\": \"solid\"}, \"mode\": \"lines\", \"name\": \"Ref fiche=133867\", \"showlegend\": true, \"type\": \"scatter\", \"x\": [\"AE\", \"AE\"], \"xaxis\": \"x\", \"y\": [205, 82], \"yaxis\": \"y\"}, {\"hoverlabel\": {\"namelength\": 0}, \"hovertemplate\": \"Ref fiche=162535<br>Portal=%{x}<br>Click=%{y}\", \"legendgroup\": \"Ref fiche=162535\", \"line\": {\"color\": \"#EF553B\", \"dash\": \"solid\"}, \"mode\": \"lines\", \"name\": \"Ref fiche=162535\", \"showlegend\": true, \"type\": \"scatter\", \"x\": [\"AE\", \"AE\", \"AE\", \"AE\"], \"xaxis\": \"x\", \"y\": [49, 36, 9, 17], \"yaxis\": \"y\"}, {\"hoverlabel\": {\"namelength\": 0}, \"hovertemplate\": \"Ref fiche=167235<br>Portal=%{x}<br>Click=%{y}\", \"legendgroup\": \"Ref fiche=167235\", \"line\": {\"color\": \"#00cc96\", \"dash\": \"solid\"}, \"mode\": \"lines\", \"name\": \"Ref fiche=167235\", \"showlegend\": true, \"type\": \"scatter\", \"x\": [\"AE\", \"AE\", \"AE\", \"AE\"], \"xaxis\": \"x\", \"y\": [214, 371, 241, 76], \"yaxis\": \"y\"}, {\"hoverlabel\": {\"namelength\": 0}, \"hovertemplate\": \"Ref fiche=167236<br>Portal=%{x}<br>Click=%{y}\", \"legendgroup\": \"Ref fiche=167236\", \"line\": {\"color\": \"#ab63fa\", \"dash\": \"solid\"}, \"mode\": \"lines\", \"name\": \"Ref fiche=167236\", \"showlegend\": true, \"type\": \"scatter\", \"x\": [\"AE\", \"AE\", \"AE\", \"AE\"], \"xaxis\": \"x\", \"y\": [81, 137, 114, 28], \"yaxis\": \"y\"}, {\"hoverlabel\": {\"namelength\": 0}, \"hovertemplate\": \"Ref fiche=167299<br>Portal=%{x}<br>Click=%{y}\", \"legendgroup\": \"Ref fiche=167299\", \"line\": {\"color\": \"#FFA15A\", \"dash\": \"solid\"}, \"mode\": \"lines\", \"name\": \"Ref fiche=167299\", \"showlegend\": true, \"type\": \"scatter\", \"x\": [\"AE\", \"AE\", \"AE\", \"AE\"], \"xaxis\": \"x\", \"y\": [35, 59, 34, 56], \"yaxis\": \"y\"}, {\"hoverlabel\": {\"namelength\": 0}, \"hovertemplate\": \"Ref fiche=167300<br>Portal=%{x}<br>Click=%{y}\", \"legendgroup\": \"Ref fiche=167300\", \"line\": {\"color\": \"#19d3f3\", \"dash\": \"solid\"}, \"mode\": \"lines\", \"name\": \"Ref fiche=167300\", \"showlegend\": true, \"type\": \"scatter\", \"x\": [\"AE\", \"AE\", \"AE\", \"AE\"], \"xaxis\": \"x\", \"y\": [69, 98, 182, 122], \"yaxis\": \"y\"}, {\"hoverlabel\": {\"namelength\": 0}, \"hovertemplate\": \"Ref fiche=167301<br>Portal=%{x}<br>Click=%{y}\", \"legendgroup\": \"Ref fiche=167301\", \"line\": {\"color\": \"#FF6692\", \"dash\": \"solid\"}, \"mode\": \"lines\", \"name\": \"Ref fiche=167301\", \"showlegend\": true, \"type\": \"scatter\", \"x\": [\"AE\", \"AE\", \"AE\", \"AE\", \"AE\"], \"xaxis\": \"x\", \"y\": [137, 79, 135, 72, 37], \"yaxis\": \"y\"}, {\"hoverlabel\": {\"namelength\": 0}, \"hovertemplate\": \"Ref fiche=167487<br>Portal=%{x}<br>Click=%{y}\", \"legendgroup\": \"Ref fiche=167487\", \"line\": {\"color\": \"#B6E880\", \"dash\": \"solid\"}, \"mode\": \"lines\", \"name\": \"Ref fiche=167487\", \"showlegend\": true, \"type\": \"scatter\", \"x\": [\"AE\", \"AE\"], \"xaxis\": \"x\", \"y\": [15, 30], \"yaxis\": \"y\"}, {\"hoverlabel\": {\"namelength\": 0}, \"hovertemplate\": \"Ref fiche=167491<br>Portal=%{x}<br>Click=%{y}\", \"legendgroup\": \"Ref fiche=167491\", \"line\": {\"color\": \"#FF97FF\", \"dash\": \"solid\"}, \"mode\": \"lines\", \"name\": \"Ref fiche=167491\", \"showlegend\": true, \"type\": \"scatter\", \"x\": [\"AE\", \"AE\"], \"xaxis\": \"x\", \"y\": [5, 24], \"yaxis\": \"y\"}, {\"hoverlabel\": {\"namelength\": 0}, \"hovertemplate\": \"Ref fiche=167492<br>Portal=%{x}<br>Click=%{y}\", \"legendgroup\": \"Ref fiche=167492\", \"line\": {\"color\": \"#FECB52\", \"dash\": \"solid\"}, \"mode\": \"lines\", \"name\": \"Ref fiche=167492\", \"showlegend\": true, \"type\": \"scatter\", \"x\": [\"AE\", \"AE\"], \"xaxis\": \"x\", \"y\": [62, 29], \"yaxis\": \"y\"}, {\"hoverlabel\": {\"namelength\": 0}, \"hovertemplate\": \"Ref fiche=167502<br>Portal=%{x}<br>Click=%{y}\", \"legendgroup\": \"Ref fiche=167502\", \"line\": {\"color\": \"#636efa\", \"dash\": \"solid\"}, \"mode\": \"lines\", \"name\": \"Ref fiche=167502\", \"showlegend\": true, \"type\": \"scatter\", \"x\": [\"AE\", \"AE\"], \"xaxis\": \"x\", \"y\": [51, 49], \"yaxis\": \"y\"}, {\"hoverlabel\": {\"namelength\": 0}, \"hovertemplate\": \"Ref fiche=167504<br>Portal=%{x}<br>Click=%{y}\", \"legendgroup\": \"Ref fiche=167504\", \"line\": {\"color\": \"#EF553B\", \"dash\": \"solid\"}, \"mode\": \"lines\", \"name\": \"Ref fiche=167504\", \"showlegend\": true, \"type\": \"scatter\", \"x\": [\"AE\", \"AE\"], \"xaxis\": \"x\", \"y\": [84, 49], \"yaxis\": \"y\"}, {\"hoverlabel\": {\"namelength\": 0}, \"hovertemplate\": \"Ref fiche=167506<br>Portal=%{x}<br>Click=%{y}\", \"legendgroup\": \"Ref fiche=167506\", \"line\": {\"color\": \"#00cc96\", \"dash\": \"solid\"}, \"mode\": \"lines\", \"name\": \"Ref fiche=167506\", \"showlegend\": true, \"type\": \"scatter\", \"x\": [\"AE\", \"AE\"], \"xaxis\": \"x\", \"y\": [60, 89], \"yaxis\": \"y\"}, {\"hoverlabel\": {\"namelength\": 0}, \"hovertemplate\": \"Ref fiche=167509<br>Portal=%{x}<br>Click=%{y}\", \"legendgroup\": \"Ref fiche=167509\", \"line\": {\"color\": \"#ab63fa\", \"dash\": \"solid\"}, \"mode\": \"lines\", \"name\": \"Ref fiche=167509\", \"showlegend\": true, \"type\": \"scatter\", \"x\": [\"AE\", \"AE\"], \"xaxis\": \"x\", \"y\": [59, 104], \"yaxis\": \"y\"}, {\"hoverlabel\": {\"namelength\": 0}, \"hovertemplate\": \"Ref fiche=167510<br>Portal=%{x}<br>Click=%{y}\", \"legendgroup\": \"Ref fiche=167510\", \"line\": {\"color\": \"#FFA15A\", \"dash\": \"solid\"}, \"mode\": \"lines\", \"name\": \"Ref fiche=167510\", \"showlegend\": true, \"type\": \"scatter\", \"x\": [\"AE\", \"AE\"], \"xaxis\": \"x\", \"y\": [46, 12], \"yaxis\": \"y\"}, {\"hoverlabel\": {\"namelength\": 0}, \"hovertemplate\": \"Ref fiche=167512<br>Portal=%{x}<br>Click=%{y}\", \"legendgroup\": \"Ref fiche=167512\", \"line\": {\"color\": \"#19d3f3\", \"dash\": \"solid\"}, \"mode\": \"lines\", \"name\": \"Ref fiche=167512\", \"showlegend\": true, \"type\": \"scatter\", \"x\": [\"AE\", \"AE\"], \"xaxis\": \"x\", \"y\": [14, 3], \"yaxis\": \"y\"}, {\"hoverlabel\": {\"namelength\": 0}, \"hovertemplate\": \"Ref fiche=175401<br>Portal=%{x}<br>Click=%{y}\", \"legendgroup\": \"Ref fiche=175401\", \"line\": {\"color\": \"#FF6692\", \"dash\": \"solid\"}, \"mode\": \"lines\", \"name\": \"Ref fiche=175401\", \"showlegend\": true, \"type\": \"scatter\", \"x\": [\"AG\", \"AG\"], \"xaxis\": \"x\", \"y\": [121, 800], \"yaxis\": \"y\"}, {\"hoverlabel\": {\"namelength\": 0}, \"hovertemplate\": \"Ref fiche=180490<br>Portal=%{x}<br>Click=%{y}\", \"legendgroup\": \"Ref fiche=180490\", \"line\": {\"color\": \"#B6E880\", \"dash\": \"solid\"}, \"mode\": \"lines\", \"name\": \"Ref fiche=180490\", \"showlegend\": true, \"type\": \"scatter\", \"x\": [\"AG\", \"AG\"], \"xaxis\": \"x\", \"y\": [93, 519], \"yaxis\": \"y\"}, {\"hoverlabel\": {\"namelength\": 0}, \"hovertemplate\": \"Ref fiche=188831<br>Portal=%{x}<br>Click=%{y}\", \"legendgroup\": \"Ref fiche=188831\", \"line\": {\"color\": \"#FF97FF\", \"dash\": \"solid\"}, \"mode\": \"lines\", \"name\": \"Ref fiche=188831\", \"showlegend\": true, \"type\": \"scatter\", \"x\": [\"AG\", \"AG\", \"AG\", \"AG\"], \"xaxis\": \"x\", \"y\": [152, 239, 164, 23], \"yaxis\": \"y\"}, {\"hoverlabel\": {\"namelength\": 0}, \"hovertemplate\": \"Ref fiche=188849<br>Portal=%{x}<br>Click=%{y}\", \"legendgroup\": \"Ref fiche=188849\", \"line\": {\"color\": \"#FECB52\", \"dash\": \"solid\"}, \"mode\": \"lines\", \"name\": \"Ref fiche=188849\", \"showlegend\": true, \"type\": \"scatter\", \"x\": [\"AG\", \"AG\"], \"xaxis\": \"x\", \"y\": [55, 36], \"yaxis\": \"y\"}, {\"hoverlabel\": {\"namelength\": 0}, \"hovertemplate\": \"Ref fiche=188854<br>Portal=%{x}<br>Click=%{y}\", \"legendgroup\": \"Ref fiche=188854\", \"line\": {\"color\": \"#636efa\", \"dash\": \"solid\"}, \"mode\": \"lines\", \"name\": \"Ref fiche=188854\", \"showlegend\": true, \"type\": \"scatter\", \"x\": [\"AG\", \"AG\"], \"xaxis\": \"x\", \"y\": [92, 70], \"yaxis\": \"y\"}, {\"hoverlabel\": {\"namelength\": 0}, \"hovertemplate\": \"Ref fiche=188855<br>Portal=%{x}<br>Click=%{y}\", \"legendgroup\": \"Ref fiche=188855\", \"line\": {\"color\": \"#EF553B\", \"dash\": \"solid\"}, \"mode\": \"lines\", \"name\": \"Ref fiche=188855\", \"showlegend\": true, \"type\": \"scatter\", \"x\": [\"AG\", \"AG\"], \"xaxis\": \"x\", \"y\": [162, 153], \"yaxis\": \"y\"}, {\"hoverlabel\": {\"namelength\": 0}, \"hovertemplate\": \"Ref fiche=187473<br>Portal=%{x}<br>Click=%{y}\", \"legendgroup\": \"Ref fiche=187473\", \"line\": {\"color\": \"#00cc96\", \"dash\": \"solid\"}, \"mode\": \"lines\", \"name\": \"Ref fiche=187473\", \"showlegend\": true, \"type\": \"scatter\", \"x\": [\"AR\", \"AR\"], \"xaxis\": \"x\", \"y\": [59, 52], \"yaxis\": \"y\"}, {\"hoverlabel\": {\"namelength\": 0}, \"hovertemplate\": \"Ref fiche=177382<br>Portal=%{x}<br>Click=%{y}\", \"legendgroup\": \"Ref fiche=177382\", \"line\": {\"color\": \"#ab63fa\", \"dash\": \"solid\"}, \"mode\": \"lines\", \"name\": \"Ref fiche=177382\", \"showlegend\": true, \"type\": \"scatter\", \"x\": [\"DI\", \"DI\"], \"xaxis\": \"x\", \"y\": [19, 22], \"yaxis\": \"y\"}, {\"hoverlabel\": {\"namelength\": 0}, \"hovertemplate\": \"Ref fiche=212963<br>Portal=%{x}<br>Click=%{y}\", \"legendgroup\": \"Ref fiche=212963\", \"line\": {\"color\": \"#FFA15A\", \"dash\": \"solid\"}, \"mode\": \"lines\", \"name\": \"Ref fiche=212963\", \"showlegend\": true, \"type\": \"scatter\", \"x\": [\"DI\", \"DI\"], \"xaxis\": \"x\", \"y\": [21, 4], \"yaxis\": \"y\"}, {\"hoverlabel\": {\"namelength\": 0}, \"hovertemplate\": \"Ref fiche=221570<br>Portal=%{x}<br>Click=%{y}\", \"legendgroup\": \"Ref fiche=221570\", \"line\": {\"color\": \"#19d3f3\", \"dash\": \"solid\"}, \"mode\": \"lines\", \"name\": \"Ref fiche=221570\", \"showlegend\": true, \"type\": \"scatter\", \"x\": [\"DI\", \"DI\"], \"xaxis\": \"x\", \"y\": [15, 15], \"yaxis\": \"y\"}, {\"hoverlabel\": {\"namelength\": 0}, \"hovertemplate\": \"Ref fiche=231664<br>Portal=%{x}<br>Click=%{y}\", \"legendgroup\": \"Ref fiche=231664\", \"line\": {\"color\": \"#FF6692\", \"dash\": \"solid\"}, \"mode\": \"lines\", \"name\": \"Ref fiche=231664\", \"showlegend\": true, \"type\": \"scatter\", \"x\": [\"DI\", \"DI\", \"DI\", \"DI\"], \"xaxis\": \"x\", \"y\": [62, 74, 57, 132], \"yaxis\": \"y\"}, {\"hoverlabel\": {\"namelength\": 0}, \"hovertemplate\": \"Ref fiche=233379<br>Portal=%{x}<br>Click=%{y}\", \"legendgroup\": \"Ref fiche=233379\", \"line\": {\"color\": \"#B6E880\", \"dash\": \"solid\"}, \"mode\": \"lines\", \"name\": \"Ref fiche=233379\", \"showlegend\": true, \"type\": \"scatter\", \"x\": [\"DI\", \"DI\"], \"xaxis\": \"x\", \"y\": [36, 11], \"yaxis\": \"y\"}, {\"hoverlabel\": {\"namelength\": 0}, \"hovertemplate\": \"Ref fiche=233586<br>Portal=%{x}<br>Click=%{y}\", \"legendgroup\": \"Ref fiche=233586\", \"line\": {\"color\": \"#FF97FF\", \"dash\": \"solid\"}, \"mode\": \"lines\", \"name\": \"Ref fiche=233586\", \"showlegend\": true, \"type\": \"scatter\", \"x\": [\"DI\", \"DI\", \"DI\", \"DI\"], \"xaxis\": \"x\", \"y\": [8, 50, 0, 36], \"yaxis\": \"y\"}, {\"hoverlabel\": {\"namelength\": 0}, \"hovertemplate\": \"Ref fiche=233587<br>Portal=%{x}<br>Click=%{y}\", \"legendgroup\": \"Ref fiche=233587\", \"line\": {\"color\": \"#FECB52\", \"dash\": \"solid\"}, \"mode\": \"lines\", \"name\": \"Ref fiche=233587\", \"showlegend\": true, \"type\": \"scatter\", \"x\": [\"DI\", \"DI\", \"DI\", \"DI\"], \"xaxis\": \"x\", \"y\": [68, 193, 227, 88], \"yaxis\": \"y\"}, {\"hoverlabel\": {\"namelength\": 0}, \"hovertemplate\": \"Ref fiche=233588<br>Portal=%{x}<br>Click=%{y}\", \"legendgroup\": \"Ref fiche=233588\", \"line\": {\"color\": \"#636efa\", \"dash\": \"solid\"}, \"mode\": \"lines\", \"name\": \"Ref fiche=233588\", \"showlegend\": true, \"type\": \"scatter\", \"x\": [\"DI\", \"DI\", \"DI\", \"DI\"], \"xaxis\": \"x\", \"y\": [21, 41, 74, 30], \"yaxis\": \"y\"}, {\"hoverlabel\": {\"namelength\": 0}, \"hovertemplate\": \"Ref fiche=233589<br>Portal=%{x}<br>Click=%{y}\", \"legendgroup\": \"Ref fiche=233589\", \"line\": {\"color\": \"#EF553B\", \"dash\": \"solid\"}, \"mode\": \"lines\", \"name\": \"Ref fiche=233589\", \"showlegend\": true, \"type\": \"scatter\", \"x\": [\"DI\", \"DI\", \"DI\", \"DI\"], \"xaxis\": \"x\", \"y\": [54, 41, 30, 3], \"yaxis\": \"y\"}, {\"hoverlabel\": {\"namelength\": 0}, \"hovertemplate\": \"Ref fiche=233590<br>Portal=%{x}<br>Click=%{y}\", \"legendgroup\": \"Ref fiche=233590\", \"line\": {\"color\": \"#00cc96\", \"dash\": \"solid\"}, \"mode\": \"lines\", \"name\": \"Ref fiche=233590\", \"showlegend\": true, \"type\": \"scatter\", \"x\": [\"DI\", \"DI\", \"DI\", \"DI\"], \"xaxis\": \"x\", \"y\": [15, 18, 32, 14], \"yaxis\": \"y\"}, {\"hoverlabel\": {\"namelength\": 0}, \"hovertemplate\": \"Ref fiche=233748<br>Portal=%{x}<br>Click=%{y}\", \"legendgroup\": \"Ref fiche=233748\", \"line\": {\"color\": \"#ab63fa\", \"dash\": \"solid\"}, \"mode\": \"lines\", \"name\": \"Ref fiche=233748\", \"showlegend\": true, \"type\": \"scatter\", \"x\": [\"DI\", \"DI\", \"DI\", \"DI\"], \"xaxis\": \"x\", \"y\": [31, 33, 48, 20], \"yaxis\": \"y\"}, {\"hoverlabel\": {\"namelength\": 0}, \"hovertemplate\": \"Ref fiche=233749<br>Portal=%{x}<br>Click=%{y}\", \"legendgroup\": \"Ref fiche=233749\", \"line\": {\"color\": \"#FFA15A\", \"dash\": \"solid\"}, \"mode\": \"lines\", \"name\": \"Ref fiche=233749\", \"showlegend\": true, \"type\": \"scatter\", \"x\": [\"DI\", \"DI\", \"DI\", \"DI\"], \"xaxis\": \"x\", \"y\": [85, 67, 56, 24], \"yaxis\": \"y\"}, {\"hoverlabel\": {\"namelength\": 0}, \"hovertemplate\": \"Ref fiche=233750<br>Portal=%{x}<br>Click=%{y}\", \"legendgroup\": \"Ref fiche=233750\", \"line\": {\"color\": \"#19d3f3\", \"dash\": \"solid\"}, \"mode\": \"lines\", \"name\": \"Ref fiche=233750\", \"showlegend\": true, \"type\": \"scatter\", \"x\": [\"DI\", \"DI\"], \"xaxis\": \"x\", \"y\": [135, 255], \"yaxis\": \"y\"}, {\"hoverlabel\": {\"namelength\": 0}, \"hovertemplate\": \"Ref fiche=233751<br>Portal=%{x}<br>Click=%{y}\", \"legendgroup\": \"Ref fiche=233751\", \"line\": {\"color\": \"#FF6692\", \"dash\": \"solid\"}, \"mode\": \"lines\", \"name\": \"Ref fiche=233751\", \"showlegend\": true, \"type\": \"scatter\", \"x\": [\"DI\", \"DI\", \"DI\", \"DI\"], \"xaxis\": \"x\", \"y\": [12, 22, 21, 1], \"yaxis\": \"y\"}, {\"hoverlabel\": {\"namelength\": 0}, \"hovertemplate\": \"Ref fiche=233752<br>Portal=%{x}<br>Click=%{y}\", \"legendgroup\": \"Ref fiche=233752\", \"line\": {\"color\": \"#B6E880\", \"dash\": \"solid\"}, \"mode\": \"lines\", \"name\": \"Ref fiche=233752\", \"showlegend\": true, \"type\": \"scatter\", \"x\": [\"DI\", \"DI\", \"DI\", \"DI\"], \"xaxis\": \"x\", \"y\": [59, 21, 8, 4], \"yaxis\": \"y\"}, {\"hoverlabel\": {\"namelength\": 0}, \"hovertemplate\": \"Ref fiche=233754<br>Portal=%{x}<br>Click=%{y}\", \"legendgroup\": \"Ref fiche=233754\", \"line\": {\"color\": \"#FF97FF\", \"dash\": \"solid\"}, \"mode\": \"lines\", \"name\": \"Ref fiche=233754\", \"showlegend\": true, \"type\": \"scatter\", \"x\": [\"DI\", \"DI\", \"DI\", \"DI\"], \"xaxis\": \"x\", \"y\": [24, 44, 46, 31], \"yaxis\": \"y\"}, {\"hoverlabel\": {\"namelength\": 0}, \"hovertemplate\": \"Ref fiche=233755<br>Portal=%{x}<br>Click=%{y}\", \"legendgroup\": \"Ref fiche=233755\", \"line\": {\"color\": \"#FECB52\", \"dash\": \"solid\"}, \"mode\": \"lines\", \"name\": \"Ref fiche=233755\", \"showlegend\": true, \"type\": \"scatter\", \"x\": [\"DI\", \"DI\", \"DI\", \"DI\"], \"xaxis\": \"x\", \"y\": [130, 87, 108, 10], \"yaxis\": \"y\"}, {\"hoverlabel\": {\"namelength\": 0}, \"hovertemplate\": \"Ref fiche=233756<br>Portal=%{x}<br>Click=%{y}\", \"legendgroup\": \"Ref fiche=233756\", \"line\": {\"color\": \"#636efa\", \"dash\": \"solid\"}, \"mode\": \"lines\", \"name\": \"Ref fiche=233756\", \"showlegend\": true, \"type\": \"scatter\", \"x\": [\"DI\", \"DI\", \"DI\", \"DI\"], \"xaxis\": \"x\", \"y\": [367, 123, 171, 161], \"yaxis\": \"y\"}, {\"hoverlabel\": {\"namelength\": 0}, \"hovertemplate\": \"Ref fiche=233757<br>Portal=%{x}<br>Click=%{y}\", \"legendgroup\": \"Ref fiche=233757\", \"line\": {\"color\": \"#EF553B\", \"dash\": \"solid\"}, \"mode\": \"lines\", \"name\": \"Ref fiche=233757\", \"showlegend\": true, \"type\": \"scatter\", \"x\": [\"DI\", \"DI\", \"DI\", \"DI\"], \"xaxis\": \"x\", \"y\": [15, 47, 66, 49], \"yaxis\": \"y\"}, {\"hoverlabel\": {\"namelength\": 0}, \"hovertemplate\": \"Ref fiche=233758<br>Portal=%{x}<br>Click=%{y}\", \"legendgroup\": \"Ref fiche=233758\", \"line\": {\"color\": \"#00cc96\", \"dash\": \"solid\"}, \"mode\": \"lines\", \"name\": \"Ref fiche=233758\", \"showlegend\": true, \"type\": \"scatter\", \"x\": [\"DI\", \"DI\", \"DI\", \"DI\"], \"xaxis\": \"x\", \"y\": [26, 51, 34, 2], \"yaxis\": \"y\"}, {\"hoverlabel\": {\"namelength\": 0}, \"hovertemplate\": \"Ref fiche=234227<br>Portal=%{x}<br>Click=%{y}\", \"legendgroup\": \"Ref fiche=234227\", \"line\": {\"color\": \"#ab63fa\", \"dash\": \"solid\"}, \"mode\": \"lines\", \"name\": \"Ref fiche=234227\", \"showlegend\": true, \"type\": \"scatter\", \"x\": [\"DI\", \"DI\"], \"xaxis\": \"x\", \"y\": [7, 70], \"yaxis\": \"y\"}, {\"hoverlabel\": {\"namelength\": 0}, \"hovertemplate\": \"Ref fiche=234233<br>Portal=%{x}<br>Click=%{y}\", \"legendgroup\": \"Ref fiche=234233\", \"line\": {\"color\": \"#FFA15A\", \"dash\": \"solid\"}, \"mode\": \"lines\", \"name\": \"Ref fiche=234233\", \"showlegend\": true, \"type\": \"scatter\", \"x\": [\"DI\", \"DI\"], \"xaxis\": \"x\", \"y\": [75, 68], \"yaxis\": \"y\"}, {\"hoverlabel\": {\"namelength\": 0}, \"hovertemplate\": \"Ref fiche=234234<br>Portal=%{x}<br>Click=%{y}\", \"legendgroup\": \"Ref fiche=234234\", \"line\": {\"color\": \"#19d3f3\", \"dash\": \"solid\"}, \"mode\": \"lines\", \"name\": \"Ref fiche=234234\", \"showlegend\": true, \"type\": \"scatter\", \"x\": [\"DI\", \"DI\"], \"xaxis\": \"x\", \"y\": [28, 7], \"yaxis\": \"y\"}, {\"hoverlabel\": {\"namelength\": 0}, \"hovertemplate\": \"Ref fiche=234236<br>Portal=%{x}<br>Click=%{y}\", \"legendgroup\": \"Ref fiche=234236\", \"line\": {\"color\": \"#FF6692\", \"dash\": \"solid\"}, \"mode\": \"lines\", \"name\": \"Ref fiche=234236\", \"showlegend\": true, \"type\": \"scatter\", \"x\": [\"DI\", \"DI\"], \"xaxis\": \"x\", \"y\": [104, 113], \"yaxis\": \"y\"}, {\"hoverlabel\": {\"namelength\": 0}, \"hovertemplate\": \"Ref fiche=234237<br>Portal=%{x}<br>Click=%{y}\", \"legendgroup\": \"Ref fiche=234237\", \"line\": {\"color\": \"#B6E880\", \"dash\": \"solid\"}, \"mode\": \"lines\", \"name\": \"Ref fiche=234237\", \"showlegend\": true, \"type\": \"scatter\", \"x\": [\"DI\", \"DI\"], \"xaxis\": \"x\", \"y\": [48, 88], \"yaxis\": \"y\"}, {\"hoverlabel\": {\"namelength\": 0}, \"hovertemplate\": \"Ref fiche=234250<br>Portal=%{x}<br>Click=%{y}\", \"legendgroup\": \"Ref fiche=234250\", \"line\": {\"color\": \"#FF97FF\", \"dash\": \"solid\"}, \"mode\": \"lines\", \"name\": \"Ref fiche=234250\", \"showlegend\": true, \"type\": \"scatter\", \"x\": [\"DI\", \"DI\"], \"xaxis\": \"x\", \"y\": [17, 49], \"yaxis\": \"y\"}, {\"hoverlabel\": {\"namelength\": 0}, \"hovertemplate\": \"Ref fiche=234251<br>Portal=%{x}<br>Click=%{y}\", \"legendgroup\": \"Ref fiche=234251\", \"line\": {\"color\": \"#FECB52\", \"dash\": \"solid\"}, \"mode\": \"lines\", \"name\": \"Ref fiche=234251\", \"showlegend\": true, \"type\": \"scatter\", \"x\": [\"DI\", \"DI\"], \"xaxis\": \"x\", \"y\": [204, 124], \"yaxis\": \"y\"}, {\"hoverlabel\": {\"namelength\": 0}, \"hovertemplate\": \"Ref fiche=234252<br>Portal=%{x}<br>Click=%{y}\", \"legendgroup\": \"Ref fiche=234252\", \"line\": {\"color\": \"#636efa\", \"dash\": \"solid\"}, \"mode\": \"lines\", \"name\": \"Ref fiche=234252\", \"showlegend\": true, \"type\": \"scatter\", \"x\": [\"DI\", \"DI\"], \"xaxis\": \"x\", \"y\": [38, 25], \"yaxis\": \"y\"}, {\"hoverlabel\": {\"namelength\": 0}, \"hovertemplate\": \"Ref fiche=234253<br>Portal=%{x}<br>Click=%{y}\", \"legendgroup\": \"Ref fiche=234253\", \"line\": {\"color\": \"#EF553B\", \"dash\": \"solid\"}, \"mode\": \"lines\", \"name\": \"Ref fiche=234253\", \"showlegend\": true, \"type\": \"scatter\", \"x\": [\"DI\", \"DI\"], \"xaxis\": \"x\", \"y\": [178, 19], \"yaxis\": \"y\"}, {\"hoverlabel\": {\"namelength\": 0}, \"hovertemplate\": \"Ref fiche=234255<br>Portal=%{x}<br>Click=%{y}\", \"legendgroup\": \"Ref fiche=234255\", \"line\": {\"color\": \"#00cc96\", \"dash\": \"solid\"}, \"mode\": \"lines\", \"name\": \"Ref fiche=234255\", \"showlegend\": true, \"type\": \"scatter\", \"x\": [\"DI\", \"DI\"], \"xaxis\": \"x\", \"y\": [131, 28], \"yaxis\": \"y\"}, {\"hoverlabel\": {\"namelength\": 0}, \"hovertemplate\": \"Ref fiche=234256<br>Portal=%{x}<br>Click=%{y}\", \"legendgroup\": \"Ref fiche=234256\", \"line\": {\"color\": \"#ab63fa\", \"dash\": \"solid\"}, \"mode\": \"lines\", \"name\": \"Ref fiche=234256\", \"showlegend\": true, \"type\": \"scatter\", \"x\": [\"DI\", \"DI\"], \"xaxis\": \"x\", \"y\": [7, 9], \"yaxis\": \"y\"}, {\"hoverlabel\": {\"namelength\": 0}, \"hovertemplate\": \"Ref fiche=234257<br>Portal=%{x}<br>Click=%{y}\", \"legendgroup\": \"Ref fiche=234257\", \"line\": {\"color\": \"#FFA15A\", \"dash\": \"solid\"}, \"mode\": \"lines\", \"name\": \"Ref fiche=234257\", \"showlegend\": true, \"type\": \"scatter\", \"x\": [\"DI\", \"DI\"], \"xaxis\": \"x\", \"y\": [70, 52], \"yaxis\": \"y\"}, {\"hoverlabel\": {\"namelength\": 0}, \"hovertemplate\": \"Ref fiche=234258<br>Portal=%{x}<br>Click=%{y}\", \"legendgroup\": \"Ref fiche=234258\", \"line\": {\"color\": \"#19d3f3\", \"dash\": \"solid\"}, \"mode\": \"lines\", \"name\": \"Ref fiche=234258\", \"showlegend\": true, \"type\": \"scatter\", \"x\": [\"DI\", \"DI\"], \"xaxis\": \"x\", \"y\": [158, 93], \"yaxis\": \"y\"}, {\"hoverlabel\": {\"namelength\": 0}, \"hovertemplate\": \"Ref fiche=234259<br>Portal=%{x}<br>Click=%{y}\", \"legendgroup\": \"Ref fiche=234259\", \"line\": {\"color\": \"#FF6692\", \"dash\": \"solid\"}, \"mode\": \"lines\", \"name\": \"Ref fiche=234259\", \"showlegend\": true, \"type\": \"scatter\", \"x\": [\"DI\", \"DI\"], \"xaxis\": \"x\", \"y\": [40, 14], \"yaxis\": \"y\"}, {\"hoverlabel\": {\"namelength\": 0}, \"hovertemplate\": \"Ref fiche=234260<br>Portal=%{x}<br>Click=%{y}\", \"legendgroup\": \"Ref fiche=234260\", \"line\": {\"color\": \"#B6E880\", \"dash\": \"solid\"}, \"mode\": \"lines\", \"name\": \"Ref fiche=234260\", \"showlegend\": true, \"type\": \"scatter\", \"x\": [\"DI\", \"DI\"], \"xaxis\": \"x\", \"y\": [66, 19], \"yaxis\": \"y\"}, {\"hoverlabel\": {\"namelength\": 0}, \"hovertemplate\": \"Ref fiche=234495<br>Portal=%{x}<br>Click=%{y}\", \"legendgroup\": \"Ref fiche=234495\", \"line\": {\"color\": \"#FF97FF\", \"dash\": \"solid\"}, \"mode\": \"lines\", \"name\": \"Ref fiche=234495\", \"showlegend\": true, \"type\": \"scatter\", \"x\": [\"DI\", \"DI\"], \"xaxis\": \"x\", \"y\": [28, 16], \"yaxis\": \"y\"}, {\"hoverlabel\": {\"namelength\": 0}, \"hovertemplate\": \"Ref fiche=234496<br>Portal=%{x}<br>Click=%{y}\", \"legendgroup\": \"Ref fiche=234496\", \"line\": {\"color\": \"#FECB52\", \"dash\": \"solid\"}, \"mode\": \"lines\", \"name\": \"Ref fiche=234496\", \"showlegend\": true, \"type\": \"scatter\", \"x\": [\"DI\", \"DI\"], \"xaxis\": \"x\", \"y\": [43, 64], \"yaxis\": \"y\"}, {\"hoverlabel\": {\"namelength\": 0}, \"hovertemplate\": \"Ref fiche=234497<br>Portal=%{x}<br>Click=%{y}\", \"legendgroup\": \"Ref fiche=234497\", \"line\": {\"color\": \"#636efa\", \"dash\": \"solid\"}, \"mode\": \"lines\", \"name\": \"Ref fiche=234497\", \"showlegend\": true, \"type\": \"scatter\", \"x\": [\"DI\", \"DI\"], \"xaxis\": \"x\", \"y\": [12, 3], \"yaxis\": \"y\"}, {\"hoverlabel\": {\"namelength\": 0}, \"hovertemplate\": \"Ref fiche=234591<br>Portal=%{x}<br>Click=%{y}\", \"legendgroup\": \"Ref fiche=234591\", \"line\": {\"color\": \"#EF553B\", \"dash\": \"solid\"}, \"mode\": \"lines\", \"name\": \"Ref fiche=234591\", \"showlegend\": true, \"type\": \"scatter\", \"x\": [\"DI\", \"DI\"], \"xaxis\": \"x\", \"y\": [12, 7], \"yaxis\": \"y\"}, {\"hoverlabel\": {\"namelength\": 0}, \"hovertemplate\": \"Ref fiche=27720<br>Portal=%{x}<br>Click=%{y}\", \"legendgroup\": \"Ref fiche=27720\", \"line\": {\"color\": \"#00cc96\", \"dash\": \"solid\"}, \"mode\": \"lines\", \"name\": \"Ref fiche=27720\", \"showlegend\": true, \"type\": \"scatter\", \"x\": [\"DI\", \"DI\"], \"xaxis\": \"x\", \"y\": [74, 3793], \"yaxis\": \"y\"}, {\"hoverlabel\": {\"namelength\": 0}, \"hovertemplate\": \"Ref fiche=54912<br>Portal=%{x}<br>Click=%{y}\", \"legendgroup\": \"Ref fiche=54912\", \"line\": {\"color\": \"#ab63fa\", \"dash\": \"solid\"}, \"mode\": \"lines\", \"name\": \"Ref fiche=54912\", \"showlegend\": true, \"type\": \"scatter\", \"x\": [\"DI\", \"DI\"], \"xaxis\": \"x\", \"y\": [632, 4917], \"yaxis\": \"y\"}, {\"hoverlabel\": {\"namelength\": 0}, \"hovertemplate\": \"Ref fiche=131195<br>Portal=%{x}<br>Click=%{y}\", \"legendgroup\": \"Ref fiche=131195\", \"line\": {\"color\": \"#FFA15A\", \"dash\": \"solid\"}, \"mode\": \"lines\", \"name\": \"Ref fiche=131195\", \"showlegend\": true, \"type\": \"scatter\", \"x\": [\"ME\", \"ME\", \"ME\", \"ME\"], \"xaxis\": \"x\", \"y\": [44, 78, 76, 32], \"yaxis\": \"y\"}, {\"hoverlabel\": {\"namelength\": 0}, \"hovertemplate\": \"Ref fiche=131196<br>Portal=%{x}<br>Click=%{y}\", \"legendgroup\": \"Ref fiche=131196\", \"line\": {\"color\": \"#19d3f3\", \"dash\": \"solid\"}, \"mode\": \"lines\", \"name\": \"Ref fiche=131196\", \"showlegend\": true, \"type\": \"scatter\", \"x\": [\"ME\", \"ME\", \"ME\", \"ME\"], \"xaxis\": \"x\", \"y\": [142, 108, 94, 58], \"yaxis\": \"y\"}, {\"hoverlabel\": {\"namelength\": 0}, \"hovertemplate\": \"Ref fiche=131320<br>Portal=%{x}<br>Click=%{y}\", \"legendgroup\": \"Ref fiche=131320\", \"line\": {\"color\": \"#FF6692\", \"dash\": \"solid\"}, \"mode\": \"lines\", \"name\": \"Ref fiche=131320\", \"showlegend\": true, \"type\": \"scatter\", \"x\": [\"ME\", \"ME\", \"ME\", \"ME\"], \"xaxis\": \"x\", \"y\": [13, 21, 10, 16], \"yaxis\": \"y\"}, {\"hoverlabel\": {\"namelength\": 0}, \"hovertemplate\": \"Ref fiche=202827<br>Portal=%{x}<br>Click=%{y}\", \"legendgroup\": \"Ref fiche=202827\", \"line\": {\"color\": \"#B6E880\", \"dash\": \"solid\"}, \"mode\": \"lines\", \"name\": \"Ref fiche=202827\", \"showlegend\": true, \"type\": \"scatter\", \"x\": [\"ME\", \"ME\"], \"xaxis\": \"x\", \"y\": [36, 52], \"yaxis\": \"y\"}, {\"hoverlabel\": {\"namelength\": 0}, \"hovertemplate\": \"Ref fiche=205004<br>Portal=%{x}<br>Click=%{y}\", \"legendgroup\": \"Ref fiche=205004\", \"line\": {\"color\": \"#FF97FF\", \"dash\": \"solid\"}, \"mode\": \"lines\", \"name\": \"Ref fiche=205004\", \"showlegend\": true, \"type\": \"scatter\", \"x\": [\"ME\", \"ME\"], \"xaxis\": \"x\", \"y\": [104, 59], \"yaxis\": \"y\"}, {\"hoverlabel\": {\"namelength\": 0}, \"hovertemplate\": \"Ref fiche=205005<br>Portal=%{x}<br>Click=%{y}\", \"legendgroup\": \"Ref fiche=205005\", \"line\": {\"color\": \"#FECB52\", \"dash\": \"solid\"}, \"mode\": \"lines\", \"name\": \"Ref fiche=205005\", \"showlegend\": true, \"type\": \"scatter\", \"x\": [\"ME\", \"ME\"], \"xaxis\": \"x\", \"y\": [11, 6], \"yaxis\": \"y\"}, {\"hoverlabel\": {\"namelength\": 0}, \"hovertemplate\": \"Ref fiche=205006<br>Portal=%{x}<br>Click=%{y}\", \"legendgroup\": \"Ref fiche=205006\", \"line\": {\"color\": \"#636efa\", \"dash\": \"solid\"}, \"mode\": \"lines\", \"name\": \"Ref fiche=205006\", \"showlegend\": true, \"type\": \"scatter\", \"x\": [\"ME\", \"ME\"], \"xaxis\": \"x\", \"y\": [95, 67], \"yaxis\": \"y\"}, {\"hoverlabel\": {\"namelength\": 0}, \"hovertemplate\": \"Ref fiche=68996<br>Portal=%{x}<br>Click=%{y}\", \"legendgroup\": \"Ref fiche=68996\", \"line\": {\"color\": \"#EF553B\", \"dash\": \"solid\"}, \"mode\": \"lines\", \"name\": \"Ref fiche=68996\", \"showlegend\": true, \"type\": \"scatter\", \"x\": [\"ME\", \"ME\", \"ME\", \"ME\"], \"xaxis\": \"x\", \"y\": [31, 50, 40, 92], \"yaxis\": \"y\"}, {\"hoverlabel\": {\"namelength\": 0}, \"hovertemplate\": \"Ref fiche=70272<br>Portal=%{x}<br>Click=%{y}\", \"legendgroup\": \"Ref fiche=70272\", \"line\": {\"color\": \"#00cc96\", \"dash\": \"solid\"}, \"mode\": \"lines\", \"name\": \"Ref fiche=70272\", \"showlegend\": true, \"type\": \"scatter\", \"x\": [\"ME\", \"ME\", \"ME\", \"ME\"], \"xaxis\": \"x\", \"y\": [137, 238, 213, 201], \"yaxis\": \"y\"}, {\"hoverlabel\": {\"namelength\": 0}, \"hovertemplate\": \"Ref fiche=199051<br>Portal=%{x}<br>Click=%{y}\", \"legendgroup\": \"Ref fiche=199051\", \"line\": {\"color\": \"#ab63fa\", \"dash\": \"solid\"}, \"mode\": \"lines\", \"name\": \"Ref fiche=199051\", \"showlegend\": true, \"type\": \"scatter\", \"x\": [\"NE\", \"NE\", \"NE\", \"NE\"], \"xaxis\": \"x\", \"y\": [183, 268, 380, 198], \"yaxis\": \"y\"}, {\"hoverlabel\": {\"namelength\": 0}, \"hovertemplate\": \"Ref fiche=47368<br>Portal=%{x}<br>Click=%{y}\", \"legendgroup\": \"Ref fiche=47368\", \"line\": {\"color\": \"#FFA15A\", \"dash\": \"solid\"}, \"mode\": \"lines\", \"name\": \"Ref fiche=47368\", \"showlegend\": true, \"type\": \"scatter\", \"x\": [\"NE\", \"NE\"], \"xaxis\": \"x\", \"y\": [15, 43], \"yaxis\": \"y\"}],\n",
              "                        {\"legend\": {\"tracegroupgap\": 0}, \"template\": {\"data\": {\"bar\": [{\"error_x\": {\"color\": \"#2a3f5f\"}, \"error_y\": {\"color\": \"#2a3f5f\"}, \"marker\": {\"line\": {\"color\": \"#E5ECF6\", \"width\": 0.5}}, \"type\": \"bar\"}], \"barpolar\": [{\"marker\": {\"line\": {\"color\": \"#E5ECF6\", \"width\": 0.5}}, \"type\": \"barpolar\"}], \"carpet\": [{\"aaxis\": {\"endlinecolor\": \"#2a3f5f\", \"gridcolor\": \"white\", \"linecolor\": \"white\", \"minorgridcolor\": \"white\", \"startlinecolor\": \"#2a3f5f\"}, \"baxis\": {\"endlinecolor\": \"#2a3f5f\", \"gridcolor\": \"white\", \"linecolor\": \"white\", \"minorgridcolor\": \"white\", \"startlinecolor\": \"#2a3f5f\"}, \"type\": \"carpet\"}], \"choropleth\": [{\"colorbar\": {\"outlinewidth\": 0, \"ticks\": \"\"}, \"type\": \"choropleth\"}], \"contour\": [{\"colorbar\": {\"outlinewidth\": 0, \"ticks\": \"\"}, \"colorscale\": [[0.0, \"#0d0887\"], [0.1111111111111111, \"#46039f\"], [0.2222222222222222, \"#7201a8\"], [0.3333333333333333, \"#9c179e\"], [0.4444444444444444, \"#bd3786\"], [0.5555555555555556, \"#d8576b\"], [0.6666666666666666, \"#ed7953\"], [0.7777777777777778, \"#fb9f3a\"], [0.8888888888888888, \"#fdca26\"], [1.0, \"#f0f921\"]], \"type\": \"contour\"}], \"contourcarpet\": [{\"colorbar\": {\"outlinewidth\": 0, \"ticks\": \"\"}, \"type\": \"contourcarpet\"}], \"heatmap\": [{\"colorbar\": {\"outlinewidth\": 0, \"ticks\": \"\"}, \"colorscale\": [[0.0, \"#0d0887\"], [0.1111111111111111, \"#46039f\"], [0.2222222222222222, \"#7201a8\"], [0.3333333333333333, \"#9c179e\"], [0.4444444444444444, \"#bd3786\"], [0.5555555555555556, \"#d8576b\"], [0.6666666666666666, \"#ed7953\"], [0.7777777777777778, \"#fb9f3a\"], [0.8888888888888888, \"#fdca26\"], [1.0, \"#f0f921\"]], \"type\": \"heatmap\"}], \"heatmapgl\": [{\"colorbar\": {\"outlinewidth\": 0, \"ticks\": \"\"}, \"colorscale\": [[0.0, \"#0d0887\"], [0.1111111111111111, \"#46039f\"], [0.2222222222222222, \"#7201a8\"], [0.3333333333333333, \"#9c179e\"], [0.4444444444444444, \"#bd3786\"], [0.5555555555555556, \"#d8576b\"], [0.6666666666666666, \"#ed7953\"], [0.7777777777777778, \"#fb9f3a\"], [0.8888888888888888, \"#fdca26\"], [1.0, \"#f0f921\"]], \"type\": \"heatmapgl\"}], \"histogram\": [{\"marker\": {\"colorbar\": {\"outlinewidth\": 0, \"ticks\": \"\"}}, \"type\": \"histogram\"}], \"histogram2d\": [{\"colorbar\": {\"outlinewidth\": 0, \"ticks\": \"\"}, \"colorscale\": [[0.0, \"#0d0887\"], [0.1111111111111111, \"#46039f\"], [0.2222222222222222, \"#7201a8\"], [0.3333333333333333, \"#9c179e\"], [0.4444444444444444, \"#bd3786\"], [0.5555555555555556, \"#d8576b\"], [0.6666666666666666, \"#ed7953\"], [0.7777777777777778, \"#fb9f3a\"], [0.8888888888888888, \"#fdca26\"], [1.0, \"#f0f921\"]], \"type\": \"histogram2d\"}], \"histogram2dcontour\": [{\"colorbar\": {\"outlinewidth\": 0, \"ticks\": \"\"}, \"colorscale\": [[0.0, \"#0d0887\"], [0.1111111111111111, \"#46039f\"], [0.2222222222222222, \"#7201a8\"], [0.3333333333333333, \"#9c179e\"], [0.4444444444444444, \"#bd3786\"], [0.5555555555555556, \"#d8576b\"], [0.6666666666666666, \"#ed7953\"], [0.7777777777777778, \"#fb9f3a\"], [0.8888888888888888, \"#fdca26\"], [1.0, \"#f0f921\"]], \"type\": \"histogram2dcontour\"}], \"mesh3d\": [{\"colorbar\": {\"outlinewidth\": 0, \"ticks\": \"\"}, \"type\": \"mesh3d\"}], \"parcoords\": [{\"line\": {\"colorbar\": {\"outlinewidth\": 0, \"ticks\": \"\"}}, \"type\": \"parcoords\"}], \"pie\": [{\"automargin\": true, \"type\": \"pie\"}], \"scatter\": [{\"marker\": {\"colorbar\": {\"outlinewidth\": 0, \"ticks\": \"\"}}, \"type\": \"scatter\"}], \"scatter3d\": [{\"line\": {\"colorbar\": {\"outlinewidth\": 0, \"ticks\": \"\"}}, \"marker\": {\"colorbar\": {\"outlinewidth\": 0, \"ticks\": \"\"}}, \"type\": \"scatter3d\"}], \"scattercarpet\": [{\"marker\": {\"colorbar\": {\"outlinewidth\": 0, \"ticks\": \"\"}}, \"type\": \"scattercarpet\"}], \"scattergeo\": [{\"marker\": {\"colorbar\": {\"outlinewidth\": 0, \"ticks\": \"\"}}, \"type\": \"scattergeo\"}], \"scattergl\": [{\"marker\": {\"colorbar\": {\"outlinewidth\": 0, \"ticks\": \"\"}}, \"type\": \"scattergl\"}], \"scattermapbox\": [{\"marker\": {\"colorbar\": {\"outlinewidth\": 0, \"ticks\": \"\"}}, \"type\": \"scattermapbox\"}], \"scatterpolar\": [{\"marker\": {\"colorbar\": {\"outlinewidth\": 0, \"ticks\": \"\"}}, \"type\": \"scatterpolar\"}], \"scatterpolargl\": [{\"marker\": {\"colorbar\": {\"outlinewidth\": 0, \"ticks\": \"\"}}, \"type\": \"scatterpolargl\"}], \"scatterternary\": [{\"marker\": {\"colorbar\": {\"outlinewidth\": 0, \"ticks\": \"\"}}, \"type\": \"scatterternary\"}], \"surface\": [{\"colorbar\": {\"outlinewidth\": 0, \"ticks\": \"\"}, \"colorscale\": [[0.0, \"#0d0887\"], [0.1111111111111111, \"#46039f\"], [0.2222222222222222, \"#7201a8\"], [0.3333333333333333, \"#9c179e\"], [0.4444444444444444, \"#bd3786\"], [0.5555555555555556, \"#d8576b\"], [0.6666666666666666, \"#ed7953\"], [0.7777777777777778, \"#fb9f3a\"], [0.8888888888888888, \"#fdca26\"], [1.0, \"#f0f921\"]], \"type\": \"surface\"}], \"table\": [{\"cells\": {\"fill\": {\"color\": \"#EBF0F8\"}, \"line\": {\"color\": \"white\"}}, \"header\": {\"fill\": {\"color\": \"#C8D4E3\"}, \"line\": {\"color\": \"white\"}}, \"type\": \"table\"}]}, \"layout\": {\"annotationdefaults\": {\"arrowcolor\": \"#2a3f5f\", \"arrowhead\": 0, \"arrowwidth\": 1}, \"coloraxis\": {\"colorbar\": {\"outlinewidth\": 0, \"ticks\": \"\"}}, \"colorscale\": {\"diverging\": [[0, \"#8e0152\"], [0.1, \"#c51b7d\"], [0.2, \"#de77ae\"], [0.3, \"#f1b6da\"], [0.4, \"#fde0ef\"], [0.5, \"#f7f7f7\"], [0.6, \"#e6f5d0\"], [0.7, \"#b8e186\"], [0.8, \"#7fbc41\"], [0.9, \"#4d9221\"], [1, \"#276419\"]], \"sequential\": [[0.0, \"#0d0887\"], [0.1111111111111111, \"#46039f\"], [0.2222222222222222, \"#7201a8\"], [0.3333333333333333, \"#9c179e\"], [0.4444444444444444, \"#bd3786\"], [0.5555555555555556, \"#d8576b\"], [0.6666666666666666, \"#ed7953\"], [0.7777777777777778, \"#fb9f3a\"], [0.8888888888888888, \"#fdca26\"], [1.0, \"#f0f921\"]], \"sequentialminus\": [[0.0, \"#0d0887\"], [0.1111111111111111, \"#46039f\"], [0.2222222222222222, \"#7201a8\"], [0.3333333333333333, \"#9c179e\"], [0.4444444444444444, \"#bd3786\"], [0.5555555555555556, \"#d8576b\"], [0.6666666666666666, \"#ed7953\"], [0.7777777777777778, \"#fb9f3a\"], [0.8888888888888888, \"#fdca26\"], [1.0, \"#f0f921\"]]}, \"colorway\": [\"#636efa\", \"#EF553B\", \"#00cc96\", \"#ab63fa\", \"#FFA15A\", \"#19d3f3\", \"#FF6692\", \"#B6E880\", \"#FF97FF\", \"#FECB52\"], \"font\": {\"color\": \"#2a3f5f\"}, \"geo\": {\"bgcolor\": \"white\", \"lakecolor\": \"white\", \"landcolor\": \"#E5ECF6\", \"showlakes\": true, \"showland\": true, \"subunitcolor\": \"white\"}, \"hoverlabel\": {\"align\": \"left\"}, \"hovermode\": \"closest\", \"mapbox\": {\"style\": \"light\"}, \"paper_bgcolor\": \"white\", \"plot_bgcolor\": \"#E5ECF6\", \"polar\": {\"angularaxis\": {\"gridcolor\": \"white\", \"linecolor\": \"white\", \"ticks\": \"\"}, \"bgcolor\": \"#E5ECF6\", \"radialaxis\": {\"gridcolor\": \"white\", \"linecolor\": \"white\", \"ticks\": \"\"}}, \"scene\": {\"xaxis\": {\"backgroundcolor\": \"#E5ECF6\", \"gridcolor\": \"white\", \"gridwidth\": 2, \"linecolor\": \"white\", \"showbackground\": true, \"ticks\": \"\", \"zerolinecolor\": \"white\"}, \"yaxis\": {\"backgroundcolor\": \"#E5ECF6\", \"gridcolor\": \"white\", \"gridwidth\": 2, \"linecolor\": \"white\", \"showbackground\": true, \"ticks\": \"\", \"zerolinecolor\": \"white\"}, \"zaxis\": {\"backgroundcolor\": \"#E5ECF6\", \"gridcolor\": \"white\", \"gridwidth\": 2, \"linecolor\": \"white\", \"showbackground\": true, \"ticks\": \"\", \"zerolinecolor\": \"white\"}}, \"shapedefaults\": {\"line\": {\"color\": \"#2a3f5f\"}}, \"ternary\": {\"aaxis\": {\"gridcolor\": \"white\", \"linecolor\": \"white\", \"ticks\": \"\"}, \"baxis\": {\"gridcolor\": \"white\", \"linecolor\": \"white\", \"ticks\": \"\"}, \"bgcolor\": \"#E5ECF6\", \"caxis\": {\"gridcolor\": \"white\", \"linecolor\": \"white\", \"ticks\": \"\"}}, \"title\": {\"x\": 0.05}, \"xaxis\": {\"automargin\": true, \"gridcolor\": \"white\", \"linecolor\": \"white\", \"ticks\": \"\", \"title\": {\"standoff\": 15}, \"zerolinecolor\": \"white\", \"zerolinewidth\": 2}, \"yaxis\": {\"automargin\": true, \"gridcolor\": \"white\", \"linecolor\": \"white\", \"ticks\": \"\", \"title\": {\"standoff\": 15}, \"zerolinecolor\": \"white\", \"zerolinewidth\": 2}}}, \"title\": {\"text\": \"Nb de clicks par portails et stands\"}, \"xaxis\": {\"anchor\": \"y\", \"domain\": [0.0, 1.0], \"title\": {\"text\": \"Portal\"}}, \"yaxis\": {\"anchor\": \"x\", \"domain\": [0.0, 1.0], \"title\": {\"text\": \"Click\"}}},\n",
              "                        {\"responsive\": true}\n",
              "                    ).then(function(){\n",
              "                            \n",
              "var gd = document.getElementById('b0a677cb-e9f6-418c-81b0-6e97ef2fd040');\n",
              "var x = new MutationObserver(function (mutations, observer) {{\n",
              "        var display = window.getComputedStyle(gd).display;\n",
              "        if (!display || display === 'none') {{\n",
              "            console.log([gd, 'removed!']);\n",
              "            Plotly.purge(gd);\n",
              "            observer.disconnect();\n",
              "        }}\n",
              "}});\n",
              "\n",
              "// Listen for the removal of the full notebook cells\n",
              "var notebookContainer = gd.closest('#notebook-container');\n",
              "if (notebookContainer) {{\n",
              "    x.observe(notebookContainer, {childList: true});\n",
              "}}\n",
              "\n",
              "// Listen for the clearing of the current output cell\n",
              "var outputEl = gd.closest('.output');\n",
              "if (outputEl) {{\n",
              "    x.observe(outputEl, {childList: true});\n",
              "}}\n",
              "\n",
              "                        })\n",
              "                };\n",
              "                \n",
              "            </script>\n",
              "        </div>\n",
              "</body>\n",
              "</html>"
            ]
          },
          "metadata": {
            "tags": []
          }
        }
      ]
    },
    {
      "cell_type": "code",
      "metadata": {
        "colab": {
          "base_uri": "https://localhost:8080/",
          "height": 542
        },
        "id": "5_bnFmoKtA6l",
        "outputId": "008938cf-7506-4c5a-9eb9-6fadb41f0366"
      },
      "source": [
        "fig = px.scatter_matrix(df, dimensions=[\"Month\", \"View\\ndisplay \",\t\"Click\"], color=\"Company name\")\n",
        "fig.show()"
      ],
      "execution_count": 95,
      "outputs": [
        {
          "output_type": "display_data",
          "data": {
            "text/html": [
              "<html>\n",
              "<head><meta charset=\"utf-8\" /></head>\n",
              "<body>\n",
              "    <div>\n",
              "            <script src=\"https://cdnjs.cloudflare.com/ajax/libs/mathjax/2.7.5/MathJax.js?config=TeX-AMS-MML_SVG\"></script><script type=\"text/javascript\">if (window.MathJax) {MathJax.Hub.Config({SVG: {font: \"STIX-Web\"}});}</script>\n",
              "                <script type=\"text/javascript\">window.PlotlyConfig = {MathJaxConfig: 'local'};</script>\n",
              "        <script src=\"https://cdn.plot.ly/plotly-latest.min.js\"></script>    \n",
              "            <div id=\"1f908386-e5d0-4d6d-9746-25f60a1dc81c\" class=\"plotly-graph-div\" style=\"height:525px; width:100%;\"></div>\n",
              "            <script type=\"text/javascript\">\n",
              "                \n",
              "                    window.PLOTLYENV=window.PLOTLYENV || {};\n",
              "                    \n",
              "                if (document.getElementById(\"1f908386-e5d0-4d6d-9746-25f60a1dc81c\")) {\n",
              "                    Plotly.newPlot(\n",
              "                        '1f908386-e5d0-4d6d-9746-25f60a1dc81c',\n",
              "                        [{\"dimensions\": [{\"axis\": {\"matches\": true}, \"label\": \"Month\", \"values\": [2, 3]}, {\"axis\": {\"matches\": true}, \"label\": \"View\\ndisplay \", \"values\": [9810, 2825]}, {\"axis\": {\"matches\": true}, \"label\": \"Click\", \"values\": [205, 82]}], \"hoverlabel\": {\"namelength\": 0}, \"hovertemplate\": \"Company name=USTECH CORPORATION<br>%{xaxis.title.text}=%{x}<br>%{yaxis.title.text}=%{y}\", \"legendgroup\": \"Company name=USTECH CORPORATION\", \"marker\": {\"color\": \"#636efa\", \"symbol\": \"circle\"}, \"name\": \"Company name=USTECH CORPORATION\", \"showlegend\": true, \"type\": \"splom\"}, {\"dimensions\": [{\"axis\": {\"matches\": true}, \"label\": \"Month\", \"values\": [12, 1, 2, 3]}, {\"axis\": {\"matches\": true}, \"label\": \"View\\ndisplay \", \"values\": [8183, 7735, 170, -32]}, {\"axis\": {\"matches\": true}, \"label\": \"Click\", \"values\": [49, 36, 9, 17]}], \"hoverlabel\": {\"namelength\": 0}, \"hovertemplate\": \"Company name=O.N. Industries Ltd.<br>%{xaxis.title.text}=%{x}<br>%{yaxis.title.text}=%{y}\", \"legendgroup\": \"Company name=O.N. Industries Ltd.\", \"marker\": {\"color\": \"#EF553B\", \"symbol\": \"circle\"}, \"name\": \"Company name=O.N. Industries Ltd.\", \"showlegend\": true, \"type\": \"splom\"}, {\"dimensions\": [{\"axis\": {\"matches\": true}, \"label\": \"Month\", \"values\": [12, 1, 2, 3]}, {\"axis\": {\"matches\": true}, \"label\": \"View\\ndisplay \", \"values\": [18892, 29690, 21044, 3918]}, {\"axis\": {\"matches\": true}, \"label\": \"Click\", \"values\": [214, 371, 241, 76]}], \"hoverlabel\": {\"namelength\": 0}, \"hovertemplate\": \"Company name=Conde House<br>%{xaxis.title.text}=%{x}<br>%{yaxis.title.text}=%{y}\", \"legendgroup\": \"Company name=Conde House\", \"marker\": {\"color\": \"#00cc96\", \"symbol\": \"circle\"}, \"name\": \"Company name=Conde House\", \"showlegend\": true, \"type\": \"splom\"}, {\"dimensions\": [{\"axis\": {\"matches\": true}, \"label\": \"Month\", \"values\": [12, 1, 2, 3]}, {\"axis\": {\"matches\": true}, \"label\": \"View\\ndisplay \", \"values\": [14494, 11227, 8673, 1584]}, {\"axis\": {\"matches\": true}, \"label\": \"Click\", \"values\": [81, 137, 114, 28]}], \"hoverlabel\": {\"namelength\": 0}, \"hovertemplate\": \"Company name=Tomioka-shoten<br>%{xaxis.title.text}=%{x}<br>%{yaxis.title.text}=%{y}\", \"legendgroup\": \"Company name=Tomioka-shoten\", \"marker\": {\"color\": \"#ab63fa\", \"symbol\": \"circle\"}, \"name\": \"Company name=Tomioka-shoten\", \"showlegend\": true, \"type\": \"splom\"}, {\"dimensions\": [{\"axis\": {\"matches\": true}, \"label\": \"Month\", \"values\": [12, 1, 2, 3, 12, 1, 2, 3]}, {\"axis\": {\"matches\": true}, \"label\": \"View\\ndisplay \", \"values\": [1814, 3800, 2374, 2426, 191, 192, 278, 2296]}, {\"axis\": {\"matches\": true}, \"label\": \"Click\", \"values\": [35, 59, 34, 56, 13, 21, 10, 16]}], \"hoverlabel\": {\"namelength\": 0}, \"hovertemplate\": \"Company name=nagasawa mfg<br>%{xaxis.title.text}=%{x}<br>%{yaxis.title.text}=%{y}\", \"legendgroup\": \"Company name=nagasawa mfg\", \"marker\": {\"color\": \"#FFA15A\", \"symbol\": \"circle\"}, \"name\": \"Company name=nagasawa mfg\", \"showlegend\": true, \"type\": \"splom\"}, {\"dimensions\": [{\"axis\": {\"matches\": true}, \"label\": \"Month\", \"values\": [2, 1, 3, 12, 3]}, {\"axis\": {\"matches\": true}, \"label\": \"View\\ndisplay \", \"values\": [6694, 33456, 8510, 38800, 9860]}, {\"axis\": {\"matches\": true}, \"label\": \"Click\", \"values\": [69, 137, 98, 182, 122]}], \"hoverlabel\": {\"namelength\": 0}, \"hovertemplate\": \"Company name=Combi<br>%{xaxis.title.text}=%{x}<br>%{yaxis.title.text}=%{y}\", \"legendgroup\": \"Company name=Combi\", \"marker\": {\"color\": \"#19d3f3\", \"symbol\": \"circle\"}, \"name\": \"Company name=Combi\", \"showlegend\": true, \"type\": \"splom\"}, {\"dimensions\": [{\"axis\": {\"matches\": true}, \"label\": \"Month\", \"values\": [12, 1, 2, 3]}, {\"axis\": {\"matches\": true}, \"label\": \"View\\ndisplay \", \"values\": [4579, 6254, 9088, 4847]}, {\"axis\": {\"matches\": true}, \"label\": \"Click\", \"values\": [79, 135, 72, 37]}], \"hoverlabel\": {\"namelength\": 0}, \"hovertemplate\": \"Company name=Kuriki<br>%{xaxis.title.text}=%{x}<br>%{yaxis.title.text}=%{y}\", \"legendgroup\": \"Company name=Kuriki\", \"marker\": {\"color\": \"#FF6692\", \"symbol\": \"circle\"}, \"name\": \"Company name=Kuriki\", \"showlegend\": true, \"type\": \"splom\"}, {\"dimensions\": [{\"axis\": {\"matches\": true}, \"label\": \"Month\", \"values\": [2, 3, 2, 3, 2, 3]}, {\"axis\": {\"matches\": true}, \"label\": \"View\\ndisplay \", \"values\": [211, 149, 651, 321, 1346, 4472]}, {\"axis\": {\"matches\": true}, \"label\": \"Click\", \"values\": [15, 30, 59, 52, 7, 70]}], \"hoverlabel\": {\"namelength\": 0}, \"hovertemplate\": \"Company name=Kumahira<br>%{xaxis.title.text}=%{x}<br>%{yaxis.title.text}=%{y}\", \"legendgroup\": \"Company name=Kumahira\", \"marker\": {\"color\": \"#B6E880\", \"symbol\": \"circle\"}, \"name\": \"Company name=Kumahira\", \"showlegend\": true, \"type\": \"splom\"}, {\"dimensions\": [{\"axis\": {\"matches\": true}, \"label\": \"Month\", \"values\": [2, 3]}, {\"axis\": {\"matches\": true}, \"label\": \"View\\ndisplay \", \"values\": [1226, 947]}, {\"axis\": {\"matches\": true}, \"label\": \"Click\", \"values\": [5, 24]}], \"hoverlabel\": {\"namelength\": 0}, \"hovertemplate\": \"Company name=Vaital<br>%{xaxis.title.text}=%{x}<br>%{yaxis.title.text}=%{y}\", \"legendgroup\": \"Company name=Vaital\", \"marker\": {\"color\": \"#FF97FF\", \"symbol\": \"circle\"}, \"name\": \"Company name=Vaital\", \"showlegend\": true, \"type\": \"splom\"}, {\"dimensions\": [{\"axis\": {\"matches\": true}, \"label\": \"Month\", \"values\": [2, 3]}, {\"axis\": {\"matches\": true}, \"label\": \"View\\ndisplay \", \"values\": [3164, 709]}, {\"axis\": {\"matches\": true}, \"label\": \"Click\", \"values\": [62, 29]}], \"hoverlabel\": {\"namelength\": 0}, \"hovertemplate\": \"Company name=INOUE SHOJI<br>%{xaxis.title.text}=%{x}<br>%{yaxis.title.text}=%{y}\", \"legendgroup\": \"Company name=INOUE SHOJI\", \"marker\": {\"color\": \"#FECB52\", \"symbol\": \"circle\"}, \"name\": \"Company name=INOUE SHOJI\", \"showlegend\": true, \"type\": \"splom\"}, {\"dimensions\": [{\"axis\": {\"matches\": true}, \"label\": \"Month\", \"values\": [2, 3]}, {\"axis\": {\"matches\": true}, \"label\": \"View\\ndisplay \", \"values\": [4058, 5529]}, {\"axis\": {\"matches\": true}, \"label\": \"Click\", \"values\": [51, 49]}], \"hoverlabel\": {\"namelength\": 0}, \"hovertemplate\": \"Company name=Dyna air<br>%{xaxis.title.text}=%{x}<br>%{yaxis.title.text}=%{y}\", \"legendgroup\": \"Company name=Dyna air\", \"marker\": {\"color\": \"#636efa\", \"symbol\": \"circle\"}, \"name\": \"Company name=Dyna air\", \"showlegend\": true, \"type\": \"splom\"}, {\"dimensions\": [{\"axis\": {\"matches\": true}, \"label\": \"Month\", \"values\": [2, 3]}, {\"axis\": {\"matches\": true}, \"label\": \"View\\ndisplay \", \"values\": [3416, 3207]}, {\"axis\": {\"matches\": true}, \"label\": \"Click\", \"values\": [84, 49]}], \"hoverlabel\": {\"namelength\": 0}, \"hovertemplate\": \"Company name=Shimabun.com<br>%{xaxis.title.text}=%{x}<br>%{yaxis.title.text}=%{y}\", \"legendgroup\": \"Company name=Shimabun.com\", \"marker\": {\"color\": \"#EF553B\", \"symbol\": \"circle\"}, \"name\": \"Company name=Shimabun.com\", \"showlegend\": true, \"type\": \"splom\"}, {\"dimensions\": [{\"axis\": {\"matches\": true}, \"label\": \"Month\", \"values\": [3, 2]}, {\"axis\": {\"matches\": true}, \"label\": \"View\\ndisplay \", \"values\": [2772, 1658]}, {\"axis\": {\"matches\": true}, \"label\": \"Click\", \"values\": [60, 89]}], \"hoverlabel\": {\"namelength\": 0}, \"hovertemplate\": \"Company name=Duco<br>%{xaxis.title.text}=%{x}<br>%{yaxis.title.text}=%{y}\", \"legendgroup\": \"Company name=Duco\", \"marker\": {\"color\": \"#00cc96\", \"symbol\": \"circle\"}, \"name\": \"Company name=Duco\", \"showlegend\": true, \"type\": \"splom\"}, {\"dimensions\": [{\"axis\": {\"matches\": true}, \"label\": \"Month\", \"values\": [3, 2]}, {\"axis\": {\"matches\": true}, \"label\": \"View\\ndisplay \", \"values\": [4286, 6754]}, {\"axis\": {\"matches\": true}, \"label\": \"Click\", \"values\": [59, 104]}], \"hoverlabel\": {\"namelength\": 0}, \"hovertemplate\": \"Company name=Chushin Kobo<br>%{xaxis.title.text}=%{x}<br>%{yaxis.title.text}=%{y}\", \"legendgroup\": \"Company name=Chushin Kobo\", \"marker\": {\"color\": \"#ab63fa\", \"symbol\": \"circle\"}, \"name\": \"Company name=Chushin Kobo\", \"showlegend\": true, \"type\": \"splom\"}, {\"dimensions\": [{\"axis\": {\"matches\": true}, \"label\": \"Month\", \"values\": [2, 3]}, {\"axis\": {\"matches\": true}, \"label\": \"View\\ndisplay \", \"values\": [1237, 834]}, {\"axis\": {\"matches\": true}, \"label\": \"Click\", \"values\": [46, 12]}], \"hoverlabel\": {\"namelength\": 0}, \"hovertemplate\": \"Company name=SEKISUI NANO COAT TECHNOLOGY CO., LTD.<br>%{xaxis.title.text}=%{x}<br>%{yaxis.title.text}=%{y}\", \"legendgroup\": \"Company name=SEKISUI NANO COAT TECHNOLOGY CO., LTD.\", \"marker\": {\"color\": \"#FFA15A\", \"symbol\": \"circle\"}, \"name\": \"Company name=SEKISUI NANO COAT TECHNOLOGY CO., LTD.\", \"showlegend\": true, \"type\": \"splom\"}, {\"dimensions\": [{\"axis\": {\"matches\": true}, \"label\": \"Month\", \"values\": [2, 3]}, {\"axis\": {\"matches\": true}, \"label\": \"View\\ndisplay \", \"values\": [208, 253]}, {\"axis\": {\"matches\": true}, \"label\": \"Click\", \"values\": [14, 3]}], \"hoverlabel\": {\"namelength\": 0}, \"hovertemplate\": \"Company name=Maruichi<br>%{xaxis.title.text}=%{x}<br>%{yaxis.title.text}=%{y}\", \"legendgroup\": \"Company name=Maruichi\", \"marker\": {\"color\": \"#19d3f3\", \"symbol\": \"circle\"}, \"name\": \"Company name=Maruichi\", \"showlegend\": true, \"type\": \"splom\"}, {\"dimensions\": [{\"axis\": {\"matches\": true}, \"label\": \"Month\", \"values\": [2, 3, 2, 3]}, {\"axis\": {\"matches\": true}, \"label\": \"View\\ndisplay \", \"values\": [6048, 34414, 5819, 5308]}, {\"axis\": {\"matches\": true}, \"label\": \"Click\", \"values\": [121, 800, 158, 93]}], \"hoverlabel\": {\"namelength\": 0}, \"hovertemplate\": \"Company name=Kett Electric Laboratory<br>%{xaxis.title.text}=%{x}<br>%{yaxis.title.text}=%{y}\", \"legendgroup\": \"Company name=Kett Electric Laboratory\", \"marker\": {\"color\": \"#FF6692\", \"symbol\": \"circle\"}, \"name\": \"Company name=Kett Electric Laboratory\", \"showlegend\": true, \"type\": \"splom\"}, {\"dimensions\": [{\"axis\": {\"matches\": true}, \"label\": \"Month\", \"values\": [2, 3]}, {\"axis\": {\"matches\": true}, \"label\": \"View\\ndisplay \", \"values\": [3112, 15357]}, {\"axis\": {\"matches\": true}, \"label\": \"Click\", \"values\": [93, 519]}], \"hoverlabel\": {\"namelength\": 0}, \"hovertemplate\": \"Company name=Fujii Corporation<br>%{xaxis.title.text}=%{x}<br>%{yaxis.title.text}=%{y}\", \"legendgroup\": \"Company name=Fujii Corporation\", \"marker\": {\"color\": \"#B6E880\", \"symbol\": \"circle\"}, \"name\": \"Company name=Fujii Corporation\", \"showlegend\": true, \"type\": \"splom\"}, {\"dimensions\": [{\"axis\": {\"matches\": true}, \"label\": \"Month\", \"values\": [12, 1, 2, 3]}, {\"axis\": {\"matches\": true}, \"label\": \"View\\ndisplay \", \"values\": [9817, 15014, 13364, 4548]}, {\"axis\": {\"matches\": true}, \"label\": \"Click\", \"values\": [152, 239, 164, 23]}], \"hoverlabel\": {\"namelength\": 0}, \"hovertemplate\": \"Company name=Morooka<br>%{xaxis.title.text}=%{x}<br>%{yaxis.title.text}=%{y}\", \"legendgroup\": \"Company name=Morooka\", \"marker\": {\"color\": \"#FF97FF\", \"symbol\": \"circle\"}, \"name\": \"Company name=Morooka\", \"showlegend\": true, \"type\": \"splom\"}, {\"dimensions\": [{\"axis\": {\"matches\": true}, \"label\": \"Month\", \"values\": [2, 3]}, {\"axis\": {\"matches\": true}, \"label\": \"View\\ndisplay \", \"values\": [1750, 2169]}, {\"axis\": {\"matches\": true}, \"label\": \"Click\", \"values\": [55, 36]}], \"hoverlabel\": {\"namelength\": 0}, \"hovertemplate\": \"Company name=HONDA ELECTRONICS CO.,LTD.<br>%{xaxis.title.text}=%{x}<br>%{yaxis.title.text}=%{y}\", \"legendgroup\": \"Company name=HONDA ELECTRONICS CO.,LTD.\", \"marker\": {\"color\": \"#FECB52\", \"symbol\": \"circle\"}, \"name\": \"Company name=HONDA ELECTRONICS CO.,LTD.\", \"showlegend\": true, \"type\": \"splom\"}, {\"dimensions\": [{\"axis\": {\"matches\": true}, \"label\": \"Month\", \"values\": [2, 3, 2, 3]}, {\"axis\": {\"matches\": true}, \"label\": \"View\\ndisplay \", \"values\": [2767, 2617, 6921, 6648]}, {\"axis\": {\"matches\": true}, \"label\": \"Click\", \"values\": [92, 70, 43, 64]}], \"hoverlabel\": {\"namelength\": 0}, \"hovertemplate\": \"Company name=Tanaka Scale<br>%{xaxis.title.text}=%{x}<br>%{yaxis.title.text}=%{y}\", \"legendgroup\": \"Company name=Tanaka Scale\", \"marker\": {\"color\": \"#636efa\", \"symbol\": \"circle\"}, \"name\": \"Company name=Tanaka Scale\", \"showlegend\": true, \"type\": \"splom\"}, {\"dimensions\": [{\"axis\": {\"matches\": true}, \"label\": \"Month\", \"values\": [2, 3]}, {\"axis\": {\"matches\": true}, \"label\": \"View\\ndisplay \", \"values\": [15246, 9956]}, {\"axis\": {\"matches\": true}, \"label\": \"Click\", \"values\": [162, 153]}], \"hoverlabel\": {\"namelength\": 0}, \"hovertemplate\": \"Company name=Ohashi<br>%{xaxis.title.text}=%{x}<br>%{yaxis.title.text}=%{y}\", \"legendgroup\": \"Company name=Ohashi\", \"marker\": {\"color\": \"#EF553B\", \"symbol\": \"circle\"}, \"name\": \"Company name=Ohashi\", \"showlegend\": true, \"type\": \"splom\"}, {\"dimensions\": [{\"axis\": {\"matches\": true}, \"label\": \"Month\", \"values\": [2, 3]}, {\"axis\": {\"matches\": true}, \"label\": \"View\\ndisplay \", \"values\": [1832, 1303]}, {\"axis\": {\"matches\": true}, \"label\": \"Click\", \"values\": [19, 22]}], \"hoverlabel\": {\"namelength\": 0}, \"hovertemplate\": \"Company name=MICROTECH LABORATORY<br>%{xaxis.title.text}=%{x}<br>%{yaxis.title.text}=%{y}\", \"legendgroup\": \"Company name=MICROTECH LABORATORY\", \"marker\": {\"color\": \"#00cc96\", \"symbol\": \"circle\"}, \"name\": \"Company name=MICROTECH LABORATORY\", \"showlegend\": true, \"type\": \"splom\"}, {\"dimensions\": [{\"axis\": {\"matches\": true}, \"label\": \"Month\", \"values\": [2, 3]}, {\"axis\": {\"matches\": true}, \"label\": \"View\\ndisplay \", \"values\": [416, 256]}, {\"axis\": {\"matches\": true}, \"label\": \"Click\", \"values\": [21, 4]}], \"hoverlabel\": {\"namelength\": 0}, \"hovertemplate\": \"Company name=Tokyo Byora Koki Co., Ltd.<br>%{xaxis.title.text}=%{x}<br>%{yaxis.title.text}=%{y}\", \"legendgroup\": \"Company name=Tokyo Byora Koki Co., Ltd.\", \"marker\": {\"color\": \"#ab63fa\", \"symbol\": \"circle\"}, \"name\": \"Company name=Tokyo Byora Koki Co., Ltd.\", \"showlegend\": true, \"type\": \"splom\"}, {\"dimensions\": [{\"axis\": {\"matches\": true}, \"label\": \"Month\", \"values\": [2, 3]}, {\"axis\": {\"matches\": true}, \"label\": \"View\\ndisplay \", \"values\": [510, 121]}, {\"axis\": {\"matches\": true}, \"label\": \"Click\", \"values\": [15, 15]}], \"hoverlabel\": {\"namelength\": 0}, \"hovertemplate\": \"Company name=Star Co., Ltd.<br>%{xaxis.title.text}=%{x}<br>%{yaxis.title.text}=%{y}\", \"legendgroup\": \"Company name=Star Co., Ltd.\", \"marker\": {\"color\": \"#FFA15A\", \"symbol\": \"circle\"}, \"name\": \"Company name=Star Co., Ltd.\", \"showlegend\": true, \"type\": \"splom\"}, {\"dimensions\": [{\"axis\": {\"matches\": true}, \"label\": \"Month\", \"values\": [12, 1, 2, 3]}, {\"axis\": {\"matches\": true}, \"label\": \"View\\ndisplay \", \"values\": [1227, 733, 621, 245]}, {\"axis\": {\"matches\": true}, \"label\": \"Click\", \"values\": [62, 74, 57, 132]}], \"hoverlabel\": {\"namelength\": 0}, \"hovertemplate\": \"Company name=INNOPHYS<br>%{xaxis.title.text}=%{x}<br>%{yaxis.title.text}=%{y}\", \"legendgroup\": \"Company name=INNOPHYS\", \"marker\": {\"color\": \"#19d3f3\", \"symbol\": \"circle\"}, \"name\": \"Company name=INNOPHYS\", \"showlegend\": true, \"type\": \"splom\"}, {\"dimensions\": [{\"axis\": {\"matches\": true}, \"label\": \"Month\", \"values\": [2, 3]}, {\"axis\": {\"matches\": true}, \"label\": \"View\\ndisplay \", \"values\": [1060, 691]}, {\"axis\": {\"matches\": true}, \"label\": \"Click\", \"values\": [36, 11]}], \"hoverlabel\": {\"namelength\": 0}, \"hovertemplate\": \"Company name=ULVAC, Inc.<br>%{xaxis.title.text}=%{x}<br>%{yaxis.title.text}=%{y}\", \"legendgroup\": \"Company name=ULVAC, Inc.\", \"marker\": {\"color\": \"#FF6692\", \"symbol\": \"circle\"}, \"name\": \"Company name=ULVAC, Inc.\", \"showlegend\": true, \"type\": \"splom\"}, {\"dimensions\": [{\"axis\": {\"matches\": true}, \"label\": \"Month\", \"values\": [12, 1, 2, 3]}, {\"axis\": {\"matches\": true}, \"label\": \"View\\ndisplay \", \"values\": [1079, 2092, 639, 281]}, {\"axis\": {\"matches\": true}, \"label\": \"Click\", \"values\": [8, 50, 0, 36]}], \"hoverlabel\": {\"namelength\": 0}, \"hovertemplate\": \"Company name=Okutani<br>%{xaxis.title.text}=%{x}<br>%{yaxis.title.text}=%{y}\", \"legendgroup\": \"Company name=Okutani\", \"marker\": {\"color\": \"#B6E880\", \"symbol\": \"circle\"}, \"name\": \"Company name=Okutani\", \"showlegend\": true, \"type\": \"splom\"}, {\"dimensions\": [{\"axis\": {\"matches\": true}, \"label\": \"Month\", \"values\": [12, 1, 2, 3]}, {\"axis\": {\"matches\": true}, \"label\": \"View\\ndisplay \", \"values\": [4839, 9691, 10724, 4134]}, {\"axis\": {\"matches\": true}, \"label\": \"Click\", \"values\": [68, 193, 227, 88]}], \"hoverlabel\": {\"namelength\": 0}, \"hovertemplate\": \"Company name=MAXPULL MACHINERY & ENGINEERING CO., LTD.<br>%{xaxis.title.text}=%{x}<br>%{yaxis.title.text}=%{y}\", \"legendgroup\": \"Company name=MAXPULL MACHINERY & ENGINEERING CO., LTD.\", \"marker\": {\"color\": \"#FF97FF\", \"symbol\": \"circle\"}, \"name\": \"Company name=MAXPULL MACHINERY & ENGINEERING CO., LTD.\", \"showlegend\": true, \"type\": \"splom\"}, {\"dimensions\": [{\"axis\": {\"matches\": true}, \"label\": \"Month\", \"values\": [12, 1, 2, 3]}, {\"axis\": {\"matches\": true}, \"label\": \"View\\ndisplay \", \"values\": [2008, 4725, 3946, 1550]}, {\"axis\": {\"matches\": true}, \"label\": \"Click\", \"values\": [21, 41, 74, 30]}], \"hoverlabel\": {\"namelength\": 0}, \"hovertemplate\": \"Company name=Benkan Kikoh<br>%{xaxis.title.text}=%{x}<br>%{yaxis.title.text}=%{y}\", \"legendgroup\": \"Company name=Benkan Kikoh\", \"marker\": {\"color\": \"#FECB52\", \"symbol\": \"circle\"}, \"name\": \"Company name=Benkan Kikoh\", \"showlegend\": true, \"type\": \"splom\"}, {\"dimensions\": [{\"axis\": {\"matches\": true}, \"label\": \"Month\", \"values\": [12, 1, 2, 3]}, {\"axis\": {\"matches\": true}, \"label\": \"View\\ndisplay \", \"values\": [2076, 2456, 2243, 804]}, {\"axis\": {\"matches\": true}, \"label\": \"Click\", \"values\": [54, 41, 30, 3]}], \"hoverlabel\": {\"namelength\": 0}, \"hovertemplate\": \"Company name=Nichifu<br>%{xaxis.title.text}=%{x}<br>%{yaxis.title.text}=%{y}\", \"legendgroup\": \"Company name=Nichifu\", \"marker\": {\"color\": \"#636efa\", \"symbol\": \"circle\"}, \"name\": \"Company name=Nichifu\", \"showlegend\": true, \"type\": \"splom\"}, {\"dimensions\": [{\"axis\": {\"matches\": true}, \"label\": \"Month\", \"values\": [12, 1, 2, 3]}, {\"axis\": {\"matches\": true}, \"label\": \"View\\ndisplay \", \"values\": [744, 749, 741, 1110]}, {\"axis\": {\"matches\": true}, \"label\": \"Click\", \"values\": [15, 18, 32, 14]}], \"hoverlabel\": {\"namelength\": 0}, \"hovertemplate\": \"Company name=Sanyu-kiki<br>%{xaxis.title.text}=%{x}<br>%{yaxis.title.text}=%{y}\", \"legendgroup\": \"Company name=Sanyu-kiki\", \"marker\": {\"color\": \"#EF553B\", \"symbol\": \"circle\"}, \"name\": \"Company name=Sanyu-kiki\", \"showlegend\": true, \"type\": \"splom\"}, {\"dimensions\": [{\"axis\": {\"matches\": true}, \"label\": \"Month\", \"values\": [12, 1, 2, 3]}, {\"axis\": {\"matches\": true}, \"label\": \"View\\ndisplay \", \"values\": [1035, 1252, 1722, 784]}, {\"axis\": {\"matches\": true}, \"label\": \"Click\", \"values\": [31, 33, 48, 20]}], \"hoverlabel\": {\"namelength\": 0}, \"hovertemplate\": \"Company name=shinwasokutei<br>%{xaxis.title.text}=%{x}<br>%{yaxis.title.text}=%{y}\", \"legendgroup\": \"Company name=shinwasokutei\", \"marker\": {\"color\": \"#00cc96\", \"symbol\": \"circle\"}, \"name\": \"Company name=shinwasokutei\", \"showlegend\": true, \"type\": \"splom\"}, {\"dimensions\": [{\"axis\": {\"matches\": true}, \"label\": \"Month\", \"values\": [12, 1, 2, 3]}, {\"axis\": {\"matches\": true}, \"label\": \"View\\ndisplay \", \"values\": [3832, 542, 5334, 3521]}, {\"axis\": {\"matches\": true}, \"label\": \"Click\", \"values\": [85, 67, 56, 24]}], \"hoverlabel\": {\"namelength\": 0}, \"hovertemplate\": \"Company name=Ohori Grinding<br>%{xaxis.title.text}=%{x}<br>%{yaxis.title.text}=%{y}\", \"legendgroup\": \"Company name=Ohori Grinding\", \"marker\": {\"color\": \"#ab63fa\", \"symbol\": \"circle\"}, \"name\": \"Company name=Ohori Grinding\", \"showlegend\": true, \"type\": \"splom\"}, {\"dimensions\": [{\"axis\": {\"matches\": true}, \"label\": \"Month\", \"values\": [2, 3]}, {\"axis\": {\"matches\": true}, \"label\": \"View\\ndisplay \", \"values\": [13293, 28178]}, {\"axis\": {\"matches\": true}, \"label\": \"Click\", \"values\": [135, 255]}], \"hoverlabel\": {\"namelength\": 0}, \"hovertemplate\": \"Company name=MATEX<br>%{xaxis.title.text}=%{x}<br>%{yaxis.title.text}=%{y}\", \"legendgroup\": \"Company name=MATEX\", \"marker\": {\"color\": \"#FFA15A\", \"symbol\": \"circle\"}, \"name\": \"Company name=MATEX\", \"showlegend\": true, \"type\": \"splom\"}, {\"dimensions\": [{\"axis\": {\"matches\": true}, \"label\": \"Month\", \"values\": [12, 1, 2, 3]}, {\"axis\": {\"matches\": true}, \"label\": \"View\\ndisplay \", \"values\": [1325, 1590, 1370, 486]}, {\"axis\": {\"matches\": true}, \"label\": \"Click\", \"values\": [12, 22, 21, 1]}], \"hoverlabel\": {\"namelength\": 0}, \"hovertemplate\": \"Company name=Nagatsu<br>%{xaxis.title.text}=%{x}<br>%{yaxis.title.text}=%{y}\", \"legendgroup\": \"Company name=Nagatsu\", \"marker\": {\"color\": \"#19d3f3\", \"symbol\": \"circle\"}, \"name\": \"Company name=Nagatsu\", \"showlegend\": true, \"type\": \"splom\"}, {\"dimensions\": [{\"axis\": {\"matches\": true}, \"label\": \"Month\", \"values\": [12, 1, 2, 3]}, {\"axis\": {\"matches\": true}, \"label\": \"View\\ndisplay \", \"values\": [10416, 5277, 5050, 1577]}, {\"axis\": {\"matches\": true}, \"label\": \"Click\", \"values\": [59, 21, 8, 4]}], \"hoverlabel\": {\"namelength\": 0}, \"hovertemplate\": \"Company name=hi-tak.com<br>%{xaxis.title.text}=%{x}<br>%{yaxis.title.text}=%{y}\", \"legendgroup\": \"Company name=hi-tak.com\", \"marker\": {\"color\": \"#FF6692\", \"symbol\": \"circle\"}, \"name\": \"Company name=hi-tak.com\", \"showlegend\": true, \"type\": \"splom\"}, {\"dimensions\": [{\"axis\": {\"matches\": true}, \"label\": \"Month\", \"values\": [12, 1, 2, 3]}, {\"axis\": {\"matches\": true}, \"label\": \"View\\ndisplay \", \"values\": [2920, 4740, 6424, 2896]}, {\"axis\": {\"matches\": true}, \"label\": \"Click\", \"values\": [24, 44, 46, 31]}], \"hoverlabel\": {\"namelength\": 0}, \"hovertemplate\": \"Company name=tbm<br>%{xaxis.title.text}=%{x}<br>%{yaxis.title.text}=%{y}\", \"legendgroup\": \"Company name=tbm\", \"marker\": {\"color\": \"#B6E880\", \"symbol\": \"circle\"}, \"name\": \"Company name=tbm\", \"showlegend\": true, \"type\": \"splom\"}, {\"dimensions\": [{\"axis\": {\"matches\": true}, \"label\": \"Month\", \"values\": [12, 1, 2, 3]}, {\"axis\": {\"matches\": true}, \"label\": \"View\\ndisplay \", \"values\": [8500, 11328, 12123, 3864]}, {\"axis\": {\"matches\": true}, \"label\": \"Click\", \"values\": [130, 87, 108, 10]}], \"hoverlabel\": {\"namelength\": 0}, \"hovertemplate\": \"Company name=System square<br>%{xaxis.title.text}=%{x}<br>%{yaxis.title.text}=%{y}\", \"legendgroup\": \"Company name=System square\", \"marker\": {\"color\": \"#FF97FF\", \"symbol\": \"circle\"}, \"name\": \"Company name=System square\", \"showlegend\": true, \"type\": \"splom\"}, {\"dimensions\": [{\"axis\": {\"matches\": true}, \"label\": \"Month\", \"values\": [3, 12, 1, 2]}, {\"axis\": {\"matches\": true}, \"label\": \"View\\ndisplay \", \"values\": [29679, 5168, 11837, 12894]}, {\"axis\": {\"matches\": true}, \"label\": \"Click\", \"values\": [367, 123, 171, 161]}], \"hoverlabel\": {\"namelength\": 0}, \"hovertemplate\": \"Company name=Makishinko<br>%{xaxis.title.text}=%{x}<br>%{yaxis.title.text}=%{y}\", \"legendgroup\": \"Company name=Makishinko\", \"marker\": {\"color\": \"#FECB52\", \"symbol\": \"circle\"}, \"name\": \"Company name=Makishinko\", \"showlegend\": true, \"type\": \"splom\"}, {\"dimensions\": [{\"axis\": {\"matches\": true}, \"label\": \"Month\", \"values\": [12, 1, 2, 3]}, {\"axis\": {\"matches\": true}, \"label\": \"View\\ndisplay \", \"values\": [815, 2056, 3324, 1603]}, {\"axis\": {\"matches\": true}, \"label\": \"Click\", \"values\": [15, 47, 66, 49]}], \"hoverlabel\": {\"namelength\": 0}, \"hovertemplate\": \"Company name=Yugyokuen ceramics<br>%{xaxis.title.text}=%{x}<br>%{yaxis.title.text}=%{y}\", \"legendgroup\": \"Company name=Yugyokuen ceramics\", \"marker\": {\"color\": \"#636efa\", \"symbol\": \"circle\"}, \"name\": \"Company name=Yugyokuen ceramics\", \"showlegend\": true, \"type\": \"splom\"}, {\"dimensions\": [{\"axis\": {\"matches\": true}, \"label\": \"Month\", \"values\": [12, 1, 2, 3]}, {\"axis\": {\"matches\": true}, \"label\": \"View\\ndisplay \", \"values\": [2195, 2498, 2544, 564]}, {\"axis\": {\"matches\": true}, \"label\": \"Click\", \"values\": [26, 51, 34, 2]}], \"hoverlabel\": {\"namelength\": 0}, \"hovertemplate\": \"Company name=Tokai Azumi<br>%{xaxis.title.text}=%{x}<br>%{yaxis.title.text}=%{y}\", \"legendgroup\": \"Company name=Tokai Azumi\", \"marker\": {\"color\": \"#EF553B\", \"symbol\": \"circle\"}, \"name\": \"Company name=Tokai Azumi\", \"showlegend\": true, \"type\": \"splom\"}, {\"dimensions\": [{\"axis\": {\"matches\": true}, \"label\": \"Month\", \"values\": [2, 3]}, {\"axis\": {\"matches\": true}, \"label\": \"View\\ndisplay \", \"values\": [4764, 4786]}, {\"axis\": {\"matches\": true}, \"label\": \"Click\", \"values\": [75, 68]}], \"hoverlabel\": {\"namelength\": 0}, \"hovertemplate\": \"Company name=Kodenshi<br>%{xaxis.title.text}=%{x}<br>%{yaxis.title.text}=%{y}\", \"legendgroup\": \"Company name=Kodenshi\", \"marker\": {\"color\": \"#00cc96\", \"symbol\": \"circle\"}, \"name\": \"Company name=Kodenshi\", \"showlegend\": true, \"type\": \"splom\"}, {\"dimensions\": [{\"axis\": {\"matches\": true}, \"label\": \"Month\", \"values\": [2, 3]}, {\"axis\": {\"matches\": true}, \"label\": \"View\\ndisplay \", \"values\": [634, 942]}, {\"axis\": {\"matches\": true}, \"label\": \"Click\", \"values\": [28, 7]}], \"hoverlabel\": {\"namelength\": 0}, \"hovertemplate\": \"Company name=Motoda<br>%{xaxis.title.text}=%{x}<br>%{yaxis.title.text}=%{y}\", \"legendgroup\": \"Company name=Motoda\", \"marker\": {\"color\": \"#ab63fa\", \"symbol\": \"circle\"}, \"name\": \"Company name=Motoda\", \"showlegend\": true, \"type\": \"splom\"}, {\"dimensions\": [{\"axis\": {\"matches\": true}, \"label\": \"Month\", \"values\": [2, 3]}, {\"axis\": {\"matches\": true}, \"label\": \"View\\ndisplay \", \"values\": [13184, 10280]}, {\"axis\": {\"matches\": true}, \"label\": \"Click\", \"values\": [104, 113]}], \"hoverlabel\": {\"namelength\": 0}, \"hovertemplate\": \"Company name=Koshinpump<br>%{xaxis.title.text}=%{x}<br>%{yaxis.title.text}=%{y}\", \"legendgroup\": \"Company name=Koshinpump\", \"marker\": {\"color\": \"#FFA15A\", \"symbol\": \"circle\"}, \"name\": \"Company name=Koshinpump\", \"showlegend\": true, \"type\": \"splom\"}, {\"dimensions\": [{\"axis\": {\"matches\": true}, \"label\": \"Month\", \"values\": [3, 2]}, {\"axis\": {\"matches\": true}, \"label\": \"View\\ndisplay \", \"values\": [9311, 9091]}, {\"axis\": {\"matches\": true}, \"label\": \"Click\", \"values\": [48, 88]}], \"hoverlabel\": {\"namelength\": 0}, \"hovertemplate\": \"Company name=Jelsystem<br>%{xaxis.title.text}=%{x}<br>%{yaxis.title.text}=%{y}\", \"legendgroup\": \"Company name=Jelsystem\", \"marker\": {\"color\": \"#19d3f3\", \"symbol\": \"circle\"}, \"name\": \"Company name=Jelsystem\", \"showlegend\": true, \"type\": \"splom\"}, {\"dimensions\": [{\"axis\": {\"matches\": true}, \"label\": \"Month\", \"values\": [3, 2]}, {\"axis\": {\"matches\": true}, \"label\": \"View\\ndisplay \", \"values\": [1709, 2230]}, {\"axis\": {\"matches\": true}, \"label\": \"Click\", \"values\": [17, 49]}], \"hoverlabel\": {\"namelength\": 0}, \"hovertemplate\": \"Company name=N S K<br>%{xaxis.title.text}=%{x}<br>%{yaxis.title.text}=%{y}\", \"legendgroup\": \"Company name=N S K\", \"marker\": {\"color\": \"#FF6692\", \"symbol\": \"circle\"}, \"name\": \"Company name=N S K\", \"showlegend\": true, \"type\": \"splom\"}, {\"dimensions\": [{\"axis\": {\"matches\": true}, \"label\": \"Month\", \"values\": [3, 2]}, {\"axis\": {\"matches\": true}, \"label\": \"View\\ndisplay \", \"values\": [7023, 6656]}, {\"axis\": {\"matches\": true}, \"label\": \"Click\", \"values\": [204, 124]}], \"hoverlabel\": {\"namelength\": 0}, \"hovertemplate\": \"Company name=Tokai Spring industries, Inc.<br>%{xaxis.title.text}=%{x}<br>%{yaxis.title.text}=%{y}\", \"legendgroup\": \"Company name=Tokai Spring industries, Inc.\", \"marker\": {\"color\": \"#B6E880\", \"symbol\": \"circle\"}, \"name\": \"Company name=Tokai Spring industries, Inc.\", \"showlegend\": true, \"type\": \"splom\"}, {\"dimensions\": [{\"axis\": {\"matches\": true}, \"label\": \"Month\", \"values\": [2, 3]}, {\"axis\": {\"matches\": true}, \"label\": \"View\\ndisplay \", \"values\": [3128, 3286]}, {\"axis\": {\"matches\": true}, \"label\": \"Click\", \"values\": [38, 25]}], \"hoverlabel\": {\"namelength\": 0}, \"hovertemplate\": \"Company name=Towa gifu<br>%{xaxis.title.text}=%{x}<br>%{yaxis.title.text}=%{y}\", \"legendgroup\": \"Company name=Towa gifu\", \"marker\": {\"color\": \"#FF97FF\", \"symbol\": \"circle\"}, \"name\": \"Company name=Towa gifu\", \"showlegend\": true, \"type\": \"splom\"}, {\"dimensions\": [{\"axis\": {\"matches\": true}, \"label\": \"Month\", \"values\": [2, 3]}, {\"axis\": {\"matches\": true}, \"label\": \"View\\ndisplay \", \"values\": [5835, 6801]}, {\"axis\": {\"matches\": true}, \"label\": \"Click\", \"values\": [178, 19]}], \"hoverlabel\": {\"namelength\": 0}, \"hovertemplate\": \"Company name=kojimatekko<br>%{xaxis.title.text}=%{x}<br>%{yaxis.title.text}=%{y}\", \"legendgroup\": \"Company name=kojimatekko\", \"marker\": {\"color\": \"#FECB52\", \"symbol\": \"circle\"}, \"name\": \"Company name=kojimatekko\", \"showlegend\": true, \"type\": \"splom\"}, {\"dimensions\": [{\"axis\": {\"matches\": true}, \"label\": \"Month\", \"values\": [2, 3]}, {\"axis\": {\"matches\": true}, \"label\": \"View\\ndisplay \", \"values\": [2997, 2332]}, {\"axis\": {\"matches\": true}, \"label\": \"Click\", \"values\": [131, 28]}], \"hoverlabel\": {\"namelength\": 0}, \"hovertemplate\": \"Company name=Kansai Wire Netting<br>%{xaxis.title.text}=%{x}<br>%{yaxis.title.text}=%{y}\", \"legendgroup\": \"Company name=Kansai Wire Netting\", \"marker\": {\"color\": \"#636efa\", \"symbol\": \"circle\"}, \"name\": \"Company name=Kansai Wire Netting\", \"showlegend\": true, \"type\": \"splom\"}, {\"dimensions\": [{\"axis\": {\"matches\": true}, \"label\": \"Month\", \"values\": [2, 3]}, {\"axis\": {\"matches\": true}, \"label\": \"View\\ndisplay \", \"values\": [423, 766]}, {\"axis\": {\"matches\": true}, \"label\": \"Click\", \"values\": [7, 9]}], \"hoverlabel\": {\"namelength\": 0}, \"hovertemplate\": \"Company name=Top Seiko<br>%{xaxis.title.text}=%{x}<br>%{yaxis.title.text}=%{y}\", \"legendgroup\": \"Company name=Top Seiko\", \"marker\": {\"color\": \"#EF553B\", \"symbol\": \"circle\"}, \"name\": \"Company name=Top Seiko\", \"showlegend\": true, \"type\": \"splom\"}, {\"dimensions\": [{\"axis\": {\"matches\": true}, \"label\": \"Month\", \"values\": [2, 3]}, {\"axis\": {\"matches\": true}, \"label\": \"View\\ndisplay \", \"values\": [6352, 5614]}, {\"axis\": {\"matches\": true}, \"label\": \"Click\", \"values\": [70, 52]}], \"hoverlabel\": {\"namelength\": 0}, \"hovertemplate\": \"Company name=Toyo Koken<br>%{xaxis.title.text}=%{x}<br>%{yaxis.title.text}=%{y}\", \"legendgroup\": \"Company name=Toyo Koken\", \"marker\": {\"color\": \"#00cc96\", \"symbol\": \"circle\"}, \"name\": \"Company name=Toyo Koken\", \"showlegend\": true, \"type\": \"splom\"}, {\"dimensions\": [{\"axis\": {\"matches\": true}, \"label\": \"Month\", \"values\": [2, 3]}, {\"axis\": {\"matches\": true}, \"label\": \"View\\ndisplay \", \"values\": [1724, 812]}, {\"axis\": {\"matches\": true}, \"label\": \"Click\", \"values\": [40, 14]}], \"hoverlabel\": {\"namelength\": 0}, \"hovertemplate\": \"Company name=Pi Photonics<br>%{xaxis.title.text}=%{x}<br>%{yaxis.title.text}=%{y}\", \"legendgroup\": \"Company name=Pi Photonics\", \"marker\": {\"color\": \"#ab63fa\", \"symbol\": \"circle\"}, \"name\": \"Company name=Pi Photonics\", \"showlegend\": true, \"type\": \"splom\"}, {\"dimensions\": [{\"axis\": {\"matches\": true}, \"label\": \"Month\", \"values\": [2, 3]}, {\"axis\": {\"matches\": true}, \"label\": \"View\\ndisplay \", \"values\": [3868, 3255]}, {\"axis\": {\"matches\": true}, \"label\": \"Click\", \"values\": [66, 19]}], \"hoverlabel\": {\"namelength\": 0}, \"hovertemplate\": \"Company name=Aichikikai techno system<br>%{xaxis.title.text}=%{x}<br>%{yaxis.title.text}=%{y}\", \"legendgroup\": \"Company name=Aichikikai techno system\", \"marker\": {\"color\": \"#FFA15A\", \"symbol\": \"circle\"}, \"name\": \"Company name=Aichikikai techno system\", \"showlegend\": true, \"type\": \"splom\"}, {\"dimensions\": [{\"axis\": {\"matches\": true}, \"label\": \"Month\", \"values\": [2, 3]}, {\"axis\": {\"matches\": true}, \"label\": \"View\\ndisplay \", \"values\": [700, 474]}, {\"axis\": {\"matches\": true}, \"label\": \"Click\", \"values\": [28, 16]}], \"hoverlabel\": {\"namelength\": 0}, \"hovertemplate\": \"Company name=Musashi Optical System<br>%{xaxis.title.text}=%{x}<br>%{yaxis.title.text}=%{y}\", \"legendgroup\": \"Company name=Musashi Optical System\", \"marker\": {\"color\": \"#19d3f3\", \"symbol\": \"circle\"}, \"name\": \"Company name=Musashi Optical System\", \"showlegend\": true, \"type\": \"splom\"}, {\"dimensions\": [{\"axis\": {\"matches\": true}, \"label\": \"Month\", \"values\": [2, 3]}, {\"axis\": {\"matches\": true}, \"label\": \"View\\ndisplay \", \"values\": [227, 144]}, {\"axis\": {\"matches\": true}, \"label\": \"Click\", \"values\": [12, 3]}], \"hoverlabel\": {\"namelength\": 0}, \"hovertemplate\": \"Company name=AOMI PRECISION CO., LTD.<br>%{xaxis.title.text}=%{x}<br>%{yaxis.title.text}=%{y}\", \"legendgroup\": \"Company name=AOMI PRECISION CO., LTD.\", \"marker\": {\"color\": \"#FF6692\", \"symbol\": \"circle\"}, \"name\": \"Company name=AOMI PRECISION CO., LTD.\", \"showlegend\": true, \"type\": \"splom\"}, {\"dimensions\": [{\"axis\": {\"matches\": true}, \"label\": \"Month\", \"values\": [2, 3]}, {\"axis\": {\"matches\": true}, \"label\": \"View\\ndisplay \", \"values\": [295, 278]}, {\"axis\": {\"matches\": true}, \"label\": \"Click\", \"values\": [12, 7]}], \"hoverlabel\": {\"namelength\": 0}, \"hovertemplate\": \"Company name=KANEKO Manufacturing Co., Ltd.<br>%{xaxis.title.text}=%{x}<br>%{yaxis.title.text}=%{y}\", \"legendgroup\": \"Company name=KANEKO Manufacturing Co., Ltd.\", \"marker\": {\"color\": \"#B6E880\", \"symbol\": \"circle\"}, \"name\": \"Company name=KANEKO Manufacturing Co., Ltd.\", \"showlegend\": true, \"type\": \"splom\"}, {\"dimensions\": [{\"axis\": {\"matches\": true}, \"label\": \"Month\", \"values\": [2, 3]}, {\"axis\": {\"matches\": true}, \"label\": \"View\\ndisplay \", \"values\": [6747, 72614]}, {\"axis\": {\"matches\": true}, \"label\": \"Click\", \"values\": [74, 3793]}], \"hoverlabel\": {\"namelength\": 0}, \"hovertemplate\": \"Company name=FURUKAWA ELECTRIC<br>%{xaxis.title.text}=%{x}<br>%{yaxis.title.text}=%{y}\", \"legendgroup\": \"Company name=FURUKAWA ELECTRIC\", \"marker\": {\"color\": \"#FF97FF\", \"symbol\": \"circle\"}, \"name\": \"Company name=FURUKAWA ELECTRIC\", \"showlegend\": true, \"type\": \"splom\"}, {\"dimensions\": [{\"axis\": {\"matches\": true}, \"label\": \"Month\", \"values\": [2, 3]}, {\"axis\": {\"matches\": true}, \"label\": \"View\\ndisplay \", \"values\": [32052, 176686]}, {\"axis\": {\"matches\": true}, \"label\": \"Click\", \"values\": [632, 4917]}], \"hoverlabel\": {\"namelength\": 0}, \"hovertemplate\": \"Company name=NBK<br>%{xaxis.title.text}=%{x}<br>%{yaxis.title.text}=%{y}\", \"legendgroup\": \"Company name=NBK\", \"marker\": {\"color\": \"#FECB52\", \"symbol\": \"circle\"}, \"name\": \"Company name=NBK\", \"showlegend\": true, \"type\": \"splom\"}, {\"dimensions\": [{\"axis\": {\"matches\": true}, \"label\": \"Month\", \"values\": [12, 1, 2, 3]}, {\"axis\": {\"matches\": true}, \"label\": \"View\\ndisplay \", \"values\": [5278, 4829, 4829, 1734]}, {\"axis\": {\"matches\": true}, \"label\": \"Click\", \"values\": [44, 78, 76, 32]}], \"hoverlabel\": {\"namelength\": 0}, \"hovertemplate\": \"Company name=Hosoda SHC<br>%{xaxis.title.text}=%{x}<br>%{yaxis.title.text}=%{y}\", \"legendgroup\": \"Company name=Hosoda SHC\", \"marker\": {\"color\": \"#636efa\", \"symbol\": \"circle\"}, \"name\": \"Company name=Hosoda SHC\", \"showlegend\": true, \"type\": \"splom\"}, {\"dimensions\": [{\"axis\": {\"matches\": true}, \"label\": \"Month\", \"values\": [12, 1, 2, 3]}, {\"axis\": {\"matches\": true}, \"label\": \"View\\ndisplay \", \"values\": [8443, 6581, 5250, 2555]}, {\"axis\": {\"matches\": true}, \"label\": \"Click\", \"values\": [142, 108, 94, 58]}], \"hoverlabel\": {\"namelength\": 0}, \"hovertemplate\": \"Company name=Telemedica Inc.<br>%{xaxis.title.text}=%{x}<br>%{yaxis.title.text}=%{y}\", \"legendgroup\": \"Company name=Telemedica Inc.\", \"marker\": {\"color\": \"#EF553B\", \"symbol\": \"circle\"}, \"name\": \"Company name=Telemedica Inc.\", \"showlegend\": true, \"type\": \"splom\"}, {\"dimensions\": [{\"axis\": {\"matches\": true}, \"label\": \"Month\", \"values\": [2, 3]}, {\"axis\": {\"matches\": true}, \"label\": \"View\\ndisplay \", \"values\": [6257, 8230]}, {\"axis\": {\"matches\": true}, \"label\": \"Click\", \"values\": [36, 52]}], \"hoverlabel\": {\"namelength\": 0}, \"hovertemplate\": \"Company name=Sakuratech<br>%{xaxis.title.text}=%{x}<br>%{yaxis.title.text}=%{y}\", \"legendgroup\": \"Company name=Sakuratech\", \"marker\": {\"color\": \"#00cc96\", \"symbol\": \"circle\"}, \"name\": \"Company name=Sakuratech\", \"showlegend\": true, \"type\": \"splom\"}, {\"dimensions\": [{\"axis\": {\"matches\": true}, \"label\": \"Month\", \"values\": [2, 3]}, {\"axis\": {\"matches\": true}, \"label\": \"View\\ndisplay \", \"values\": [7203, 6235]}, {\"axis\": {\"matches\": true}, \"label\": \"Click\", \"values\": [104, 59]}], \"hoverlabel\": {\"namelength\": 0}, \"hovertemplate\": \"Company name=Tokai med Pro<br>%{xaxis.title.text}=%{x}<br>%{yaxis.title.text}=%{y}\", \"legendgroup\": \"Company name=Tokai med Pro\", \"marker\": {\"color\": \"#ab63fa\", \"symbol\": \"circle\"}, \"name\": \"Company name=Tokai med Pro\", \"showlegend\": true, \"type\": \"splom\"}, {\"dimensions\": [{\"axis\": {\"matches\": true}, \"label\": \"Month\", \"values\": [2, 3]}, {\"axis\": {\"matches\": true}, \"label\": \"View\\ndisplay \", \"values\": [122, 99]}, {\"axis\": {\"matches\": true}, \"label\": \"Click\", \"values\": [11, 6]}], \"hoverlabel\": {\"namelength\": 0}, \"hovertemplate\": \"Company name=cyto pathfinder<br>%{xaxis.title.text}=%{x}<br>%{yaxis.title.text}=%{y}\", \"legendgroup\": \"Company name=cyto pathfinder\", \"marker\": {\"color\": \"#FFA15A\", \"symbol\": \"circle\"}, \"name\": \"Company name=cyto pathfinder\", \"showlegend\": true, \"type\": \"splom\"}, {\"dimensions\": [{\"axis\": {\"matches\": true}, \"label\": \"Month\", \"values\": [2, 3]}, {\"axis\": {\"matches\": true}, \"label\": \"View\\ndisplay \", \"values\": [7749, 5738]}, {\"axis\": {\"matches\": true}, \"label\": \"Click\", \"values\": [95, 67]}], \"hoverlabel\": {\"namelength\": 0}, \"hovertemplate\": \"Company name=Misawa medical<br>%{xaxis.title.text}=%{x}<br>%{yaxis.title.text}=%{y}\", \"legendgroup\": \"Company name=Misawa medical\", \"marker\": {\"color\": \"#19d3f3\", \"symbol\": \"circle\"}, \"name\": \"Company name=Misawa medical\", \"showlegend\": true, \"type\": \"splom\"}, {\"dimensions\": [{\"axis\": {\"matches\": true}, \"label\": \"Month\", \"values\": [12, 1, 2, 3]}, {\"axis\": {\"matches\": true}, \"label\": \"View\\ndisplay \", \"values\": [4996, 5104, 5025, 1612]}, {\"axis\": {\"matches\": true}, \"label\": \"Click\", \"values\": [31, 50, 40, 92]}], \"hoverlabel\": {\"namelength\": 0}, \"hovertemplate\": \"Company name=Kawamoto Corporation<br>%{xaxis.title.text}=%{x}<br>%{yaxis.title.text}=%{y}\", \"legendgroup\": \"Company name=Kawamoto Corporation\", \"marker\": {\"color\": \"#FF6692\", \"symbol\": \"circle\"}, \"name\": \"Company name=Kawamoto Corporation\", \"showlegend\": true, \"type\": \"splom\"}, {\"dimensions\": [{\"axis\": {\"matches\": true}, \"label\": \"Month\", \"values\": [12, 1, 2, 3]}, {\"axis\": {\"matches\": true}, \"label\": \"View\\ndisplay \", \"values\": [6019, 7175, 7613, 4443]}, {\"axis\": {\"matches\": true}, \"label\": \"Click\", \"values\": [137, 238, 213, 201]}], \"hoverlabel\": {\"namelength\": 0}, \"hovertemplate\": \"Company name=Techno Medica <br>%{xaxis.title.text}=%{x}<br>%{yaxis.title.text}=%{y}\", \"legendgroup\": \"Company name=Techno Medica \", \"marker\": {\"color\": \"#B6E880\", \"symbol\": \"circle\"}, \"name\": \"Company name=Techno Medica \", \"showlegend\": true, \"type\": \"splom\"}, {\"dimensions\": [{\"axis\": {\"matches\": true}, \"label\": \"Month\", \"values\": [12, 1, 2, 3]}, {\"axis\": {\"matches\": true}, \"label\": \"View\\ndisplay \", \"values\": [17103, 19205, 31283, 12552]}, {\"axis\": {\"matches\": true}, \"label\": \"Click\", \"values\": [183, 268, 380, 198]}], \"hoverlabel\": {\"namelength\": 0}, \"hovertemplate\": \"Company name=Asano-metal industry<br>%{xaxis.title.text}=%{x}<br>%{yaxis.title.text}=%{y}\", \"legendgroup\": \"Company name=Asano-metal industry\", \"marker\": {\"color\": \"#FF97FF\", \"symbol\": \"circle\"}, \"name\": \"Company name=Asano-metal industry\", \"showlegend\": true, \"type\": \"splom\"}, {\"dimensions\": [{\"axis\": {\"matches\": true}, \"label\": \"Month\", \"values\": [2, 3]}, {\"axis\": {\"matches\": true}, \"label\": \"View\\ndisplay \", \"values\": [1716, 3135]}, {\"axis\": {\"matches\": true}, \"label\": \"Click\", \"values\": [15, 43]}], \"hoverlabel\": {\"namelength\": 0}, \"hovertemplate\": \"Company name=Musasino Co., Ltd.<br>%{xaxis.title.text}=%{x}<br>%{yaxis.title.text}=%{y}\", \"legendgroup\": \"Company name=Musasino Co., Ltd.\", \"marker\": {\"color\": \"#FECB52\", \"symbol\": \"circle\"}, \"name\": \"Company name=Musasino Co., Ltd.\", \"showlegend\": true, \"type\": \"splom\"}],\n",
              "                        {\"dragmode\": \"select\", \"legend\": {\"tracegroupgap\": 0}, \"margin\": {\"t\": 60}, \"template\": {\"data\": {\"bar\": [{\"error_x\": {\"color\": \"#2a3f5f\"}, \"error_y\": {\"color\": \"#2a3f5f\"}, \"marker\": {\"line\": {\"color\": \"#E5ECF6\", \"width\": 0.5}}, \"type\": \"bar\"}], \"barpolar\": [{\"marker\": {\"line\": {\"color\": \"#E5ECF6\", \"width\": 0.5}}, \"type\": \"barpolar\"}], \"carpet\": [{\"aaxis\": {\"endlinecolor\": \"#2a3f5f\", \"gridcolor\": \"white\", \"linecolor\": \"white\", \"minorgridcolor\": \"white\", \"startlinecolor\": \"#2a3f5f\"}, \"baxis\": {\"endlinecolor\": \"#2a3f5f\", \"gridcolor\": \"white\", \"linecolor\": \"white\", \"minorgridcolor\": \"white\", \"startlinecolor\": \"#2a3f5f\"}, \"type\": \"carpet\"}], \"choropleth\": [{\"colorbar\": {\"outlinewidth\": 0, \"ticks\": \"\"}, \"type\": \"choropleth\"}], \"contour\": [{\"colorbar\": {\"outlinewidth\": 0, \"ticks\": \"\"}, \"colorscale\": [[0.0, \"#0d0887\"], [0.1111111111111111, \"#46039f\"], [0.2222222222222222, \"#7201a8\"], [0.3333333333333333, \"#9c179e\"], [0.4444444444444444, \"#bd3786\"], [0.5555555555555556, \"#d8576b\"], [0.6666666666666666, \"#ed7953\"], [0.7777777777777778, \"#fb9f3a\"], [0.8888888888888888, \"#fdca26\"], [1.0, \"#f0f921\"]], \"type\": \"contour\"}], \"contourcarpet\": [{\"colorbar\": {\"outlinewidth\": 0, \"ticks\": \"\"}, \"type\": \"contourcarpet\"}], \"heatmap\": [{\"colorbar\": {\"outlinewidth\": 0, \"ticks\": \"\"}, \"colorscale\": [[0.0, \"#0d0887\"], [0.1111111111111111, \"#46039f\"], [0.2222222222222222, \"#7201a8\"], [0.3333333333333333, \"#9c179e\"], [0.4444444444444444, \"#bd3786\"], [0.5555555555555556, \"#d8576b\"], [0.6666666666666666, \"#ed7953\"], [0.7777777777777778, \"#fb9f3a\"], [0.8888888888888888, \"#fdca26\"], [1.0, \"#f0f921\"]], \"type\": \"heatmap\"}], \"heatmapgl\": [{\"colorbar\": {\"outlinewidth\": 0, \"ticks\": \"\"}, \"colorscale\": [[0.0, \"#0d0887\"], [0.1111111111111111, \"#46039f\"], [0.2222222222222222, \"#7201a8\"], [0.3333333333333333, \"#9c179e\"], [0.4444444444444444, \"#bd3786\"], [0.5555555555555556, \"#d8576b\"], [0.6666666666666666, \"#ed7953\"], [0.7777777777777778, \"#fb9f3a\"], [0.8888888888888888, \"#fdca26\"], [1.0, \"#f0f921\"]], \"type\": \"heatmapgl\"}], \"histogram\": [{\"marker\": {\"colorbar\": {\"outlinewidth\": 0, \"ticks\": \"\"}}, \"type\": \"histogram\"}], \"histogram2d\": [{\"colorbar\": {\"outlinewidth\": 0, \"ticks\": \"\"}, \"colorscale\": [[0.0, \"#0d0887\"], [0.1111111111111111, \"#46039f\"], [0.2222222222222222, \"#7201a8\"], [0.3333333333333333, \"#9c179e\"], [0.4444444444444444, \"#bd3786\"], [0.5555555555555556, \"#d8576b\"], [0.6666666666666666, \"#ed7953\"], [0.7777777777777778, \"#fb9f3a\"], [0.8888888888888888, \"#fdca26\"], [1.0, \"#f0f921\"]], \"type\": \"histogram2d\"}], \"histogram2dcontour\": [{\"colorbar\": {\"outlinewidth\": 0, \"ticks\": \"\"}, \"colorscale\": [[0.0, \"#0d0887\"], [0.1111111111111111, \"#46039f\"], [0.2222222222222222, \"#7201a8\"], [0.3333333333333333, \"#9c179e\"], [0.4444444444444444, \"#bd3786\"], [0.5555555555555556, \"#d8576b\"], [0.6666666666666666, \"#ed7953\"], [0.7777777777777778, \"#fb9f3a\"], [0.8888888888888888, \"#fdca26\"], [1.0, \"#f0f921\"]], \"type\": \"histogram2dcontour\"}], \"mesh3d\": [{\"colorbar\": {\"outlinewidth\": 0, \"ticks\": \"\"}, \"type\": \"mesh3d\"}], \"parcoords\": [{\"line\": {\"colorbar\": {\"outlinewidth\": 0, \"ticks\": \"\"}}, \"type\": \"parcoords\"}], \"pie\": [{\"automargin\": true, \"type\": \"pie\"}], \"scatter\": [{\"marker\": {\"colorbar\": {\"outlinewidth\": 0, \"ticks\": \"\"}}, \"type\": \"scatter\"}], \"scatter3d\": [{\"line\": {\"colorbar\": {\"outlinewidth\": 0, \"ticks\": \"\"}}, \"marker\": {\"colorbar\": {\"outlinewidth\": 0, \"ticks\": \"\"}}, \"type\": \"scatter3d\"}], \"scattercarpet\": [{\"marker\": {\"colorbar\": {\"outlinewidth\": 0, \"ticks\": \"\"}}, \"type\": \"scattercarpet\"}], \"scattergeo\": [{\"marker\": {\"colorbar\": {\"outlinewidth\": 0, \"ticks\": \"\"}}, \"type\": \"scattergeo\"}], \"scattergl\": [{\"marker\": {\"colorbar\": {\"outlinewidth\": 0, \"ticks\": \"\"}}, \"type\": \"scattergl\"}], \"scattermapbox\": [{\"marker\": {\"colorbar\": {\"outlinewidth\": 0, \"ticks\": \"\"}}, \"type\": \"scattermapbox\"}], \"scatterpolar\": [{\"marker\": {\"colorbar\": {\"outlinewidth\": 0, \"ticks\": \"\"}}, \"type\": \"scatterpolar\"}], \"scatterpolargl\": [{\"marker\": {\"colorbar\": {\"outlinewidth\": 0, \"ticks\": \"\"}}, \"type\": \"scatterpolargl\"}], \"scatterternary\": [{\"marker\": {\"colorbar\": {\"outlinewidth\": 0, \"ticks\": \"\"}}, \"type\": \"scatterternary\"}], \"surface\": [{\"colorbar\": {\"outlinewidth\": 0, \"ticks\": \"\"}, \"colorscale\": [[0.0, \"#0d0887\"], [0.1111111111111111, \"#46039f\"], [0.2222222222222222, \"#7201a8\"], [0.3333333333333333, \"#9c179e\"], [0.4444444444444444, \"#bd3786\"], [0.5555555555555556, \"#d8576b\"], [0.6666666666666666, \"#ed7953\"], [0.7777777777777778, \"#fb9f3a\"], [0.8888888888888888, \"#fdca26\"], [1.0, \"#f0f921\"]], \"type\": \"surface\"}], \"table\": [{\"cells\": {\"fill\": {\"color\": \"#EBF0F8\"}, \"line\": {\"color\": \"white\"}}, \"header\": {\"fill\": {\"color\": \"#C8D4E3\"}, \"line\": {\"color\": \"white\"}}, \"type\": \"table\"}]}, \"layout\": {\"annotationdefaults\": {\"arrowcolor\": \"#2a3f5f\", \"arrowhead\": 0, \"arrowwidth\": 1}, \"coloraxis\": {\"colorbar\": {\"outlinewidth\": 0, \"ticks\": \"\"}}, \"colorscale\": {\"diverging\": [[0, \"#8e0152\"], [0.1, \"#c51b7d\"], [0.2, \"#de77ae\"], [0.3, \"#f1b6da\"], [0.4, \"#fde0ef\"], [0.5, \"#f7f7f7\"], [0.6, \"#e6f5d0\"], [0.7, \"#b8e186\"], [0.8, \"#7fbc41\"], [0.9, \"#4d9221\"], [1, \"#276419\"]], \"sequential\": [[0.0, \"#0d0887\"], [0.1111111111111111, \"#46039f\"], [0.2222222222222222, \"#7201a8\"], [0.3333333333333333, \"#9c179e\"], [0.4444444444444444, \"#bd3786\"], [0.5555555555555556, \"#d8576b\"], [0.6666666666666666, \"#ed7953\"], [0.7777777777777778, \"#fb9f3a\"], [0.8888888888888888, \"#fdca26\"], [1.0, \"#f0f921\"]], \"sequentialminus\": [[0.0, \"#0d0887\"], [0.1111111111111111, \"#46039f\"], [0.2222222222222222, \"#7201a8\"], [0.3333333333333333, \"#9c179e\"], [0.4444444444444444, \"#bd3786\"], [0.5555555555555556, \"#d8576b\"], [0.6666666666666666, \"#ed7953\"], [0.7777777777777778, \"#fb9f3a\"], [0.8888888888888888, \"#fdca26\"], [1.0, \"#f0f921\"]]}, \"colorway\": [\"#636efa\", \"#EF553B\", \"#00cc96\", \"#ab63fa\", \"#FFA15A\", \"#19d3f3\", \"#FF6692\", \"#B6E880\", \"#FF97FF\", \"#FECB52\"], \"font\": {\"color\": \"#2a3f5f\"}, \"geo\": {\"bgcolor\": \"white\", \"lakecolor\": \"white\", \"landcolor\": \"#E5ECF6\", \"showlakes\": true, \"showland\": true, \"subunitcolor\": \"white\"}, \"hoverlabel\": {\"align\": \"left\"}, \"hovermode\": \"closest\", \"mapbox\": {\"style\": \"light\"}, \"paper_bgcolor\": \"white\", \"plot_bgcolor\": \"#E5ECF6\", \"polar\": {\"angularaxis\": {\"gridcolor\": \"white\", \"linecolor\": \"white\", \"ticks\": \"\"}, \"bgcolor\": \"#E5ECF6\", \"radialaxis\": {\"gridcolor\": \"white\", \"linecolor\": \"white\", \"ticks\": \"\"}}, \"scene\": {\"xaxis\": {\"backgroundcolor\": \"#E5ECF6\", \"gridcolor\": \"white\", \"gridwidth\": 2, \"linecolor\": \"white\", \"showbackground\": true, \"ticks\": \"\", \"zerolinecolor\": \"white\"}, \"yaxis\": {\"backgroundcolor\": \"#E5ECF6\", \"gridcolor\": \"white\", \"gridwidth\": 2, \"linecolor\": \"white\", \"showbackground\": true, \"ticks\": \"\", \"zerolinecolor\": \"white\"}, \"zaxis\": {\"backgroundcolor\": \"#E5ECF6\", \"gridcolor\": \"white\", \"gridwidth\": 2, \"linecolor\": \"white\", \"showbackground\": true, \"ticks\": \"\", \"zerolinecolor\": \"white\"}}, \"shapedefaults\": {\"line\": {\"color\": \"#2a3f5f\"}}, \"ternary\": {\"aaxis\": {\"gridcolor\": \"white\", \"linecolor\": \"white\", \"ticks\": \"\"}, \"baxis\": {\"gridcolor\": \"white\", \"linecolor\": \"white\", \"ticks\": \"\"}, \"bgcolor\": \"#E5ECF6\", \"caxis\": {\"gridcolor\": \"white\", \"linecolor\": \"white\", \"ticks\": \"\"}}, \"title\": {\"x\": 0.05}, \"xaxis\": {\"automargin\": true, \"gridcolor\": \"white\", \"linecolor\": \"white\", \"ticks\": \"\", \"title\": {\"standoff\": 15}, \"zerolinecolor\": \"white\", \"zerolinewidth\": 2}, \"yaxis\": {\"automargin\": true, \"gridcolor\": \"white\", \"linecolor\": \"white\", \"ticks\": \"\", \"title\": {\"standoff\": 15}, \"zerolinecolor\": \"white\", \"zerolinewidth\": 2}}}},\n",
              "                        {\"responsive\": true}\n",
              "                    ).then(function(){\n",
              "                            \n",
              "var gd = document.getElementById('1f908386-e5d0-4d6d-9746-25f60a1dc81c');\n",
              "var x = new MutationObserver(function (mutations, observer) {{\n",
              "        var display = window.getComputedStyle(gd).display;\n",
              "        if (!display || display === 'none') {{\n",
              "            console.log([gd, 'removed!']);\n",
              "            Plotly.purge(gd);\n",
              "            observer.disconnect();\n",
              "        }}\n",
              "}});\n",
              "\n",
              "// Listen for the removal of the full notebook cells\n",
              "var notebookContainer = gd.closest('#notebook-container');\n",
              "if (notebookContainer) {{\n",
              "    x.observe(notebookContainer, {childList: true});\n",
              "}}\n",
              "\n",
              "// Listen for the clearing of the current output cell\n",
              "var outputEl = gd.closest('.output');\n",
              "if (outputEl) {{\n",
              "    x.observe(outputEl, {childList: true});\n",
              "}}\n",
              "\n",
              "                        })\n",
              "                };\n",
              "                \n",
              "            </script>\n",
              "        </div>\n",
              "</body>\n",
              "</html>"
            ]
          },
          "metadata": {
            "tags": []
          }
        }
      ]
    },
    {
      "cell_type": "markdown",
      "metadata": {
        "id": "qqc-K0y-ttJP"
      },
      "source": [
        "### Data cleaning"
      ]
    },
    {
      "cell_type": "code",
      "metadata": {
        "colab": {
          "base_uri": "https://localhost:8080/"
        },
        "id": "lGjD2CqU6mIS",
        "outputId": "8ce92440-831f-44b4-a6b0-6069119b531f"
      },
      "source": [
        "df.shape #Show all of the columns x rows\n",
        "#207 clients and 31 columns per client... ?"
      ],
      "execution_count": 97,
      "outputs": [
        {
          "output_type": "execute_result",
          "data": {
            "text/plain": [
              "(207, 31)"
            ]
          },
          "metadata": {
            "tags": []
          },
          "execution_count": 97
        }
      ]
    },
    {
      "cell_type": "code",
      "metadata": {
        "colab": {
          "base_uri": "https://localhost:8080/"
        },
        "id": "vlaY2frn7L_u",
        "outputId": "2a939aab-73ad-411b-8aff-bc5b3ccb67f7"
      },
      "source": [
        "#Show all of the column names\n",
        "df.columns.values"
      ],
      "execution_count": 98,
      "outputs": [
        {
          "output_type": "execute_result",
          "data": {
            "text/plain": [
              "array(['Portal & REF', 'Portal', 'Ref fiche', 'Online since',\n",
              "       'Company name', 'Data collection date / per month', 'Month',\n",
              "       'URL statco', 'Online stand URL', 'Main category',\n",
              "       'Portal&MainCat', 'Number of product pages', 'View\\ndisplay ',\n",
              "       'Click', 'STAND\\n CONTENT HIGHLIGHT\\nDisplay',\n",
              "       'STAND\\n CONTENT HIGHLIGHT\\nClick', 'ADVERTISEMENT\\nDisplay',\n",
              "       'ADVERTISEMENT\\nClick',\n",
              "       'Sourcing & Website Traffic\\nSearch Results page prospects',\n",
              "       'Sourcing & Website Traffic\\nClick Throughs',\n",
              "       'Unique Visitor\\nstand prospect',\n",
              "       'See\\n Price Options/Where to Buy Prospects', 'Requests',\n",
              "       'RFQ\\nList of my request for quotation', ' ', ' .1', ' .2', ' .3',\n",
              "       ' .4', ' .5', ' .6'], dtype=object)"
            ]
          },
          "metadata": {
            "tags": []
          },
          "execution_count": 98
        }
      ]
    },
    {
      "cell_type": "code",
      "metadata": {
        "colab": {
          "base_uri": "https://localhost:8080/"
        },
        "id": "Gh8WYEdJ7eIA",
        "outputId": "0e4eb0dc-829b-4c00-bd38-d162bc860bf9"
      },
      "source": [
        "#Check for NA or missing data\n",
        "df.isna().sum()"
      ],
      "execution_count": 99,
      "outputs": [
        {
          "output_type": "execute_result",
          "data": {
            "text/plain": [
              "Portal & REF                                                   0\n",
              "Portal                                                         0\n",
              "Ref fiche                                                      0\n",
              "Online since                                                   0\n",
              "Company name                                                   0\n",
              "Data collection date / per month                               0\n",
              "Month                                                          0\n",
              "URL statco                                                     0\n",
              "Online stand URL                                               0\n",
              "Main category                                                  0\n",
              "Portal&MainCat                                                 0\n",
              "Number of product pages                                        0\n",
              "View\\ndisplay                                                  0\n",
              "Click                                                          0\n",
              "STAND\\n CONTENT HIGHLIGHT\\nDisplay                             1\n",
              "STAND\\n CONTENT HIGHLIGHT\\nClick                               1\n",
              "ADVERTISEMENT\\nDisplay                                         0\n",
              "ADVERTISEMENT\\nClick                                           0\n",
              "Sourcing & Website Traffic\\nSearch Results page prospects      0\n",
              "Sourcing & Website Traffic\\nClick Throughs                     0\n",
              "Unique Visitor\\nstand prospect                                 0\n",
              "See\\n Price Options/Where to Buy Prospects                     0\n",
              "Requests                                                       0\n",
              "RFQ\\nList of my request for quotation                          1\n",
              "                                                             207\n",
              " .1                                                          207\n",
              " .2                                                          207\n",
              " .3                                                          207\n",
              " .4                                                          207\n",
              " .5                                                          207\n",
              " .6                                                          207\n",
              "dtype: int64"
            ]
          },
          "metadata": {
            "tags": []
          },
          "execution_count": 99
        }
      ]
    },
    {
      "cell_type": "code",
      "metadata": {
        "id": "-tPqdIsUBi-b"
      },
      "source": [
        "df.dropna()\n",
        "JETRO=df.dropna(axis='columns') #dropped all the empty columns ! "
      ],
      "execution_count": 100,
      "outputs": []
    },
    {
      "cell_type": "code",
      "metadata": {
        "colab": {
          "base_uri": "https://localhost:8080/",
          "height": 348
        },
        "id": "QTYEbQLc8b1-",
        "outputId": "0fc02a29-3ed1-41d8-ea4f-840cf853fb7f"
      },
      "source": [
        "#Show statistics on the current data \n",
        "df.dropna(axis='columns') #dropped all the empty columns ! \n",
        "JETRO.describe()"
      ],
      "execution_count": null,
      "outputs": [
        {
          "output_type": "execute_result",
          "data": {
            "text/html": [
              "<div>\n",
              "<style scoped>\n",
              "    .dataframe tbody tr th:only-of-type {\n",
              "        vertical-align: middle;\n",
              "    }\n",
              "\n",
              "    .dataframe tbody tr th {\n",
              "        vertical-align: top;\n",
              "    }\n",
              "\n",
              "    .dataframe thead th {\n",
              "        text-align: right;\n",
              "    }\n",
              "</style>\n",
              "<table border=\"1\" class=\"dataframe\">\n",
              "  <thead>\n",
              "    <tr style=\"text-align: right;\">\n",
              "      <th></th>\n",
              "      <th>Ref fiche</th>\n",
              "      <th>Month</th>\n",
              "      <th>Number of product pages</th>\n",
              "      <th>View\\ndisplay</th>\n",
              "      <th>Click</th>\n",
              "      <th>ADVERTISEMENT\\nDisplay</th>\n",
              "      <th>ADVERTISEMENT\\nClick</th>\n",
              "      <th>Sourcing &amp; Website Traffic\\nSearch Results page prospects</th>\n",
              "      <th>Sourcing &amp; Website Traffic\\nClick Throughs</th>\n",
              "      <th>Unique Visitor\\nstand prospect</th>\n",
              "      <th>See\\n Price Options/Where to Buy Prospects</th>\n",
              "      <th>Requests</th>\n",
              "    </tr>\n",
              "  </thead>\n",
              "  <tbody>\n",
              "    <tr>\n",
              "      <th>count</th>\n",
              "      <td>207.000000</td>\n",
              "      <td>207.000000</td>\n",
              "      <td>207.000000</td>\n",
              "      <td>207.000000</td>\n",
              "      <td>207.000000</td>\n",
              "      <td>207.000000</td>\n",
              "      <td>207.000000</td>\n",
              "      <td>207.000000</td>\n",
              "      <td>207.000000</td>\n",
              "      <td>207.000000</td>\n",
              "      <td>207.000000</td>\n",
              "      <td>207.000000</td>\n",
              "    </tr>\n",
              "    <tr>\n",
              "      <th>mean</th>\n",
              "      <td>194782.004831</td>\n",
              "      <td>3.584541</td>\n",
              "      <td>14.140097</td>\n",
              "      <td>6658.405797</td>\n",
              "      <td>121.333333</td>\n",
              "      <td>5965.178744</td>\n",
              "      <td>12.173913</td>\n",
              "      <td>253.946860</td>\n",
              "      <td>8.724638</td>\n",
              "      <td>77.048309</td>\n",
              "      <td>0.932367</td>\n",
              "      <td>4.444444</td>\n",
              "    </tr>\n",
              "    <tr>\n",
              "      <th>std</th>\n",
              "      <td>49941.238037</td>\n",
              "      <td>3.402077</td>\n",
              "      <td>19.983845</td>\n",
              "      <td>14457.229222</td>\n",
              "      <td>434.224764</td>\n",
              "      <td>11368.048720</td>\n",
              "      <td>28.584209</td>\n",
              "      <td>2762.627658</td>\n",
              "      <td>17.502747</td>\n",
              "      <td>170.778479</td>\n",
              "      <td>7.541166</td>\n",
              "      <td>10.863922</td>\n",
              "    </tr>\n",
              "    <tr>\n",
              "      <th>min</th>\n",
              "      <td>27720.000000</td>\n",
              "      <td>1.000000</td>\n",
              "      <td>1.000000</td>\n",
              "      <td>-32.000000</td>\n",
              "      <td>0.000000</td>\n",
              "      <td>-7464.000000</td>\n",
              "      <td>-14.000000</td>\n",
              "      <td>-17.000000</td>\n",
              "      <td>-22.000000</td>\n",
              "      <td>0.000000</td>\n",
              "      <td>0.000000</td>\n",
              "      <td>-2.000000</td>\n",
              "    </tr>\n",
              "    <tr>\n",
              "      <th>25%</th>\n",
              "      <td>167301.000000</td>\n",
              "      <td>2.000000</td>\n",
              "      <td>3.000000</td>\n",
              "      <td>1232.000000</td>\n",
              "      <td>22.500000</td>\n",
              "      <td>1286.500000</td>\n",
              "      <td>2.000000</td>\n",
              "      <td>9.500000</td>\n",
              "      <td>2.000000</td>\n",
              "      <td>2.000000</td>\n",
              "      <td>0.000000</td>\n",
              "      <td>0.000000</td>\n",
              "    </tr>\n",
              "    <tr>\n",
              "      <th>50%</th>\n",
              "      <td>221570.000000</td>\n",
              "      <td>3.000000</td>\n",
              "      <td>6.000000</td>\n",
              "      <td>3324.000000</td>\n",
              "      <td>51.000000</td>\n",
              "      <td>3302.000000</td>\n",
              "      <td>6.000000</td>\n",
              "      <td>30.000000</td>\n",
              "      <td>5.000000</td>\n",
              "      <td>6.000000</td>\n",
              "      <td>0.000000</td>\n",
              "      <td>0.000000</td>\n",
              "    </tr>\n",
              "    <tr>\n",
              "      <th>75%</th>\n",
              "      <td>233755.000000</td>\n",
              "      <td>3.000000</td>\n",
              "      <td>18.000000</td>\n",
              "      <td>6777.500000</td>\n",
              "      <td>96.500000</td>\n",
              "      <td>6991.500000</td>\n",
              "      <td>14.000000</td>\n",
              "      <td>74.500000</td>\n",
              "      <td>10.000000</td>\n",
              "      <td>41.500000</td>\n",
              "      <td>0.000000</td>\n",
              "      <td>3.000000</td>\n",
              "    </tr>\n",
              "    <tr>\n",
              "      <th>max</th>\n",
              "      <td>234591.000000</td>\n",
              "      <td>12.000000</td>\n",
              "      <td>102.000000</td>\n",
              "      <td>176686.000000</td>\n",
              "      <td>4917.000000</td>\n",
              "      <td>136510.000000</td>\n",
              "      <td>370.000000</td>\n",
              "      <td>39770.000000</td>\n",
              "      <td>211.000000</td>\n",
              "      <td>1049.000000</td>\n",
              "      <td>89.000000</td>\n",
              "      <td>84.000000</td>\n",
              "    </tr>\n",
              "  </tbody>\n",
              "</table>\n",
              "</div>"
            ],
            "text/plain": [
              "           Ref fiche  ...    Requests\n",
              "count     207.000000  ...  207.000000\n",
              "mean   194782.004831  ...    4.444444\n",
              "std     49941.238037  ...   10.863922\n",
              "min     27720.000000  ...   -2.000000\n",
              "25%    167301.000000  ...    0.000000\n",
              "50%    221570.000000  ...    0.000000\n",
              "75%    233755.000000  ...    3.000000\n",
              "max    234591.000000  ...   84.000000\n",
              "\n",
              "[8 rows x 12 columns]"
            ]
          },
          "metadata": {
            "tags": []
          },
          "execution_count": 71
        }
      ]
    },
    {
      "cell_type": "code",
      "metadata": {
        "id": "HC89IZ4eCbNh"
      },
      "source": [
        "#Comments: \n",
        "# Max de vues 14 457 et min en <0 ?\n",
        "# 50% ont 51 clicks et 75% ont 96 clicks "
      ],
      "execution_count": null,
      "outputs": []
    },
    {
      "cell_type": "code",
      "metadata": {
        "colab": {
          "base_uri": "https://localhost:8080/"
        },
        "id": "5i6Qw1w7Cxmz",
        "outputId": "ba30133a-d061-48f3-ed69-48782d0faf0c"
      },
      "source": [
        "#Get the number of customers that churned\n",
        "df['Click'].value_counts()"
      ],
      "execution_count": null,
      "outputs": [
        {
          "output_type": "execute_result",
          "data": {
            "text/plain": [
              "15     6\n",
              "59     5\n",
              "21     5\n",
              "36     5\n",
              "49     5\n",
              "      ..\n",
              "371    1\n",
              "632    1\n",
              "121    1\n",
              "122    1\n",
              "0      1\n",
              "Name: Click, Length: 126, dtype: int64"
            ]
          },
          "metadata": {
            "tags": []
          },
          "execution_count": 11
        }
      ]
    },
    {
      "cell_type": "code",
      "metadata": {
        "colab": {
          "base_uri": "https://localhost:8080/"
        },
        "id": "dB_MPA-vmGLb",
        "outputId": "b2d6994c-42a8-4b7c-ec53-8aadbf5993e3"
      },
      "source": [
        "df.columns"
      ],
      "execution_count": null,
      "outputs": [
        {
          "output_type": "execute_result",
          "data": {
            "text/plain": [
              "Index(['Unemployment_Rate', 'Stock_Index_Price'], dtype='object')"
            ]
          },
          "metadata": {
            "tags": []
          },
          "execution_count": 65
        }
      ]
    },
    {
      "cell_type": "code",
      "metadata": {
        "id": "j_z0Y3FFmDy4"
      },
      "source": [
        "fig = px.line(df, ('Unique Visitor\\nstand prospect', 1), ('Unique Visitor\\nstand prospect', 2), title='Tentative ')\n",
        "fig.show()"
      ],
      "execution_count": null,
      "outputs": []
    },
    {
      "cell_type": "code",
      "metadata": {
        "colab": {
          "base_uri": "https://localhost:8080/",
          "height": 350
        },
        "id": "vvWoMH7iDK8L",
        "outputId": "a2cf3dd3-6f22-451c-caca-75ee4173b4c9"
      },
      "source": [
        "#Visualize the count of customer churn\n",
        "sns.countplot(df['Click'])"
      ],
      "execution_count": null,
      "outputs": [
        {
          "output_type": "stream",
          "text": [
            "/usr/local/lib/python3.7/dist-packages/seaborn/_decorators.py:43: FutureWarning: Pass the following variable as a keyword arg: x. From version 0.12, the only valid positional argument will be `data`, and passing other arguments without an explicit keyword will result in an error or misinterpretation.\n",
            "  FutureWarning\n"
          ],
          "name": "stderr"
        },
        {
          "output_type": "execute_result",
          "data": {
            "text/plain": [
              "<matplotlib.axes._subplots.AxesSubplot at 0x7f2afda393d0>"
            ]
          },
          "metadata": {
            "tags": []
          },
          "execution_count": 12
        },
        {
          "output_type": "display_data",
          "data": {
            "image/png": "[encoded data removed]",
            "text/plain": [
              "<Figure size 432x288 with 1 Axes>"
            ]
          },
          "metadata": {
            "tags": [],
            "needs_background": "light"
          }
        }
      ]
    },
    {
      "cell_type": "code",
      "metadata": {
        "id": "Wkxc-spsEFgD"
      },
      "source": [
        "#Visualize the churn count for the internet service ? TOO LONG.\n",
        "#sns.countplot(x='Ref fiche', hue='Click', data = df)"
      ],
      "execution_count": null,
      "outputs": []
    },
    {
      "cell_type": "markdown",
      "metadata": {
        "id": "0msy5ReJ3H83"
      },
      "source": [
        "# Statistics"
      ]
    },
    {
      "cell_type": "code",
      "metadata": {
        "id": "GfOhXk143E8j"
      },
      "source": [
        "import numpy as np\n",
        "import matplotlib.pyplot as plt"
      ],
      "execution_count": null,
      "outputs": []
    },
    {
      "cell_type": "code",
      "metadata": {
        "colab": {
          "base_uri": "https://localhost:8080/",
          "height": 348
        },
        "id": "SapnLqqO3HUs",
        "outputId": "e510d3a4-3ab8-4e71-d6cc-fa5589466f11"
      },
      "source": [
        "JETRO.describe()"
      ],
      "execution_count": null,
      "outputs": [
        {
          "output_type": "execute_result",
          "data": {
            "text/html": [
              "<div>\n",
              "<style scoped>\n",
              "    .dataframe tbody tr th:only-of-type {\n",
              "        vertical-align: middle;\n",
              "    }\n",
              "\n",
              "    .dataframe tbody tr th {\n",
              "        vertical-align: top;\n",
              "    }\n",
              "\n",
              "    .dataframe thead th {\n",
              "        text-align: right;\n",
              "    }\n",
              "</style>\n",
              "<table border=\"1\" class=\"dataframe\">\n",
              "  <thead>\n",
              "    <tr style=\"text-align: right;\">\n",
              "      <th></th>\n",
              "      <th>Ref fiche</th>\n",
              "      <th>Month</th>\n",
              "      <th>Number of product pages</th>\n",
              "      <th>View\\ndisplay</th>\n",
              "      <th>Click</th>\n",
              "      <th>ADVERTISEMENT\\nDisplay</th>\n",
              "      <th>ADVERTISEMENT\\nClick</th>\n",
              "      <th>Sourcing &amp; Website Traffic\\nSearch Results page prospects</th>\n",
              "      <th>Sourcing &amp; Website Traffic\\nClick Throughs</th>\n",
              "      <th>Unique Visitor\\nstand prospect</th>\n",
              "      <th>See\\n Price Options/Where to Buy Prospects</th>\n",
              "      <th>Requests</th>\n",
              "    </tr>\n",
              "  </thead>\n",
              "  <tbody>\n",
              "    <tr>\n",
              "      <th>count</th>\n",
              "      <td>207.000000</td>\n",
              "      <td>207.000000</td>\n",
              "      <td>207.000000</td>\n",
              "      <td>207.000000</td>\n",
              "      <td>207.000000</td>\n",
              "      <td>207.000000</td>\n",
              "      <td>207.000000</td>\n",
              "      <td>207.000000</td>\n",
              "      <td>207.000000</td>\n",
              "      <td>207.000000</td>\n",
              "      <td>207.000000</td>\n",
              "      <td>207.000000</td>\n",
              "    </tr>\n",
              "    <tr>\n",
              "      <th>mean</th>\n",
              "      <td>194782.004831</td>\n",
              "      <td>3.584541</td>\n",
              "      <td>14.140097</td>\n",
              "      <td>6658.405797</td>\n",
              "      <td>121.333333</td>\n",
              "      <td>5965.178744</td>\n",
              "      <td>12.173913</td>\n",
              "      <td>253.946860</td>\n",
              "      <td>8.724638</td>\n",
              "      <td>77.048309</td>\n",
              "      <td>0.932367</td>\n",
              "      <td>4.444444</td>\n",
              "    </tr>\n",
              "    <tr>\n",
              "      <th>std</th>\n",
              "      <td>49941.238037</td>\n",
              "      <td>3.402077</td>\n",
              "      <td>19.983845</td>\n",
              "      <td>14457.229222</td>\n",
              "      <td>434.224764</td>\n",
              "      <td>11368.048720</td>\n",
              "      <td>28.584209</td>\n",
              "      <td>2762.627658</td>\n",
              "      <td>17.502747</td>\n",
              "      <td>170.778479</td>\n",
              "      <td>7.541166</td>\n",
              "      <td>10.863922</td>\n",
              "    </tr>\n",
              "    <tr>\n",
              "      <th>min</th>\n",
              "      <td>27720.000000</td>\n",
              "      <td>1.000000</td>\n",
              "      <td>1.000000</td>\n",
              "      <td>-32.000000</td>\n",
              "      <td>0.000000</td>\n",
              "      <td>-7464.000000</td>\n",
              "      <td>-14.000000</td>\n",
              "      <td>-17.000000</td>\n",
              "      <td>-22.000000</td>\n",
              "      <td>0.000000</td>\n",
              "      <td>0.000000</td>\n",
              "      <td>-2.000000</td>\n",
              "    </tr>\n",
              "    <tr>\n",
              "      <th>25%</th>\n",
              "      <td>167301.000000</td>\n",
              "      <td>2.000000</td>\n",
              "      <td>3.000000</td>\n",
              "      <td>1232.000000</td>\n",
              "      <td>22.500000</td>\n",
              "      <td>1286.500000</td>\n",
              "      <td>2.000000</td>\n",
              "      <td>9.500000</td>\n",
              "      <td>2.000000</td>\n",
              "      <td>2.000000</td>\n",
              "      <td>0.000000</td>\n",
              "      <td>0.000000</td>\n",
              "    </tr>\n",
              "    <tr>\n",
              "      <th>50%</th>\n",
              "      <td>221570.000000</td>\n",
              "      <td>3.000000</td>\n",
              "      <td>6.000000</td>\n",
              "      <td>3324.000000</td>\n",
              "      <td>51.000000</td>\n",
              "      <td>3302.000000</td>\n",
              "      <td>6.000000</td>\n",
              "      <td>30.000000</td>\n",
              "      <td>5.000000</td>\n",
              "      <td>6.000000</td>\n",
              "      <td>0.000000</td>\n",
              "      <td>0.000000</td>\n",
              "    </tr>\n",
              "    <tr>\n",
              "      <th>75%</th>\n",
              "      <td>233755.000000</td>\n",
              "      <td>3.000000</td>\n",
              "      <td>18.000000</td>\n",
              "      <td>6777.500000</td>\n",
              "      <td>96.500000</td>\n",
              "      <td>6991.500000</td>\n",
              "      <td>14.000000</td>\n",
              "      <td>74.500000</td>\n",
              "      <td>10.000000</td>\n",
              "      <td>41.500000</td>\n",
              "      <td>0.000000</td>\n",
              "      <td>3.000000</td>\n",
              "    </tr>\n",
              "    <tr>\n",
              "      <th>max</th>\n",
              "      <td>234591.000000</td>\n",
              "      <td>12.000000</td>\n",
              "      <td>102.000000</td>\n",
              "      <td>176686.000000</td>\n",
              "      <td>4917.000000</td>\n",
              "      <td>136510.000000</td>\n",
              "      <td>370.000000</td>\n",
              "      <td>39770.000000</td>\n",
              "      <td>211.000000</td>\n",
              "      <td>1049.000000</td>\n",
              "      <td>89.000000</td>\n",
              "      <td>84.000000</td>\n",
              "    </tr>\n",
              "  </tbody>\n",
              "</table>\n",
              "</div>"
            ],
            "text/plain": [
              "           Ref fiche  ...    Requests\n",
              "count     207.000000  ...  207.000000\n",
              "mean   194782.004831  ...    4.444444\n",
              "std     49941.238037  ...   10.863922\n",
              "min     27720.000000  ...   -2.000000\n",
              "25%    167301.000000  ...    0.000000\n",
              "50%    221570.000000  ...    0.000000\n",
              "75%    233755.000000  ...    3.000000\n",
              "max    234591.000000  ...   84.000000\n",
              "\n",
              "[8 rows x 12 columns]"
            ]
          },
          "metadata": {
            "tags": []
          },
          "execution_count": 14
        }
      ]
    },
    {
      "cell_type": "markdown",
      "metadata": {
        "id": "TxVbaIN7cMbe"
      },
      "source": [
        "#Data\n",
        "Jetro par Portail + Ref "
      ]
    },
    {
      "cell_type": "code",
      "metadata": {
        "id": "1x5ZeoLR3G8D"
      },
      "source": [
        "data=JETRO.groupby(['Portal & REF']).mean()  #data est le groupby "
      ],
      "execution_count": null,
      "outputs": []
    },
    {
      "cell_type": "code",
      "metadata": {
        "colab": {
          "base_uri": "https://localhost:8080/",
          "height": 501
        },
        "id": "R0Hk5gAO34wg",
        "outputId": "0d07edda-8713-4d54-c7e7-2e5751bbe41f"
      },
      "source": [
        "data"
      ],
      "execution_count": null,
      "outputs": [
        {
          "output_type": "execute_result",
          "data": {
            "text/html": [
              "<div>\n",
              "<style scoped>\n",
              "    .dataframe tbody tr th:only-of-type {\n",
              "        vertical-align: middle;\n",
              "    }\n",
              "\n",
              "    .dataframe tbody tr th {\n",
              "        vertical-align: top;\n",
              "    }\n",
              "\n",
              "    .dataframe thead th {\n",
              "        text-align: right;\n",
              "    }\n",
              "</style>\n",
              "<table border=\"1\" class=\"dataframe\">\n",
              "  <thead>\n",
              "    <tr style=\"text-align: right;\">\n",
              "      <th></th>\n",
              "      <th>Ref fiche</th>\n",
              "      <th>Month</th>\n",
              "      <th>Number of product pages</th>\n",
              "      <th>View\\ndisplay</th>\n",
              "      <th>Click</th>\n",
              "      <th>ADVERTISEMENT\\nDisplay</th>\n",
              "      <th>ADVERTISEMENT\\nClick</th>\n",
              "      <th>Sourcing &amp; Website Traffic\\nSearch Results page prospects</th>\n",
              "      <th>Sourcing &amp; Website Traffic\\nClick Throughs</th>\n",
              "      <th>Unique Visitor\\nstand prospect</th>\n",
              "      <th>See\\n Price Options/Where to Buy Prospects</th>\n",
              "      <th>Requests</th>\n",
              "    </tr>\n",
              "    <tr>\n",
              "      <th>Portal &amp; REF</th>\n",
              "      <th></th>\n",
              "      <th></th>\n",
              "      <th></th>\n",
              "      <th></th>\n",
              "      <th></th>\n",
              "      <th></th>\n",
              "      <th></th>\n",
              "      <th></th>\n",
              "      <th></th>\n",
              "      <th></th>\n",
              "      <th></th>\n",
              "      <th></th>\n",
              "    </tr>\n",
              "  </thead>\n",
              "  <tbody>\n",
              "    <tr>\n",
              "      <th>AE133867</th>\n",
              "      <td>133867.0</td>\n",
              "      <td>2.5</td>\n",
              "      <td>3.0</td>\n",
              "      <td>6317.50</td>\n",
              "      <td>143.50</td>\n",
              "      <td>4009.00</td>\n",
              "      <td>7.00</td>\n",
              "      <td>59.00</td>\n",
              "      <td>2.50</td>\n",
              "      <td>9.50</td>\n",
              "      <td>0.00</td>\n",
              "      <td>0.00</td>\n",
              "    </tr>\n",
              "    <tr>\n",
              "      <th>AE162535</th>\n",
              "      <td>162535.0</td>\n",
              "      <td>4.5</td>\n",
              "      <td>2.0</td>\n",
              "      <td>4014.00</td>\n",
              "      <td>27.75</td>\n",
              "      <td>2402.75</td>\n",
              "      <td>4.25</td>\n",
              "      <td>1.50</td>\n",
              "      <td>5.75</td>\n",
              "      <td>65.00</td>\n",
              "      <td>0.75</td>\n",
              "      <td>3.00</td>\n",
              "    </tr>\n",
              "    <tr>\n",
              "      <th>AE167235</th>\n",
              "      <td>167235.0</td>\n",
              "      <td>4.5</td>\n",
              "      <td>54.0</td>\n",
              "      <td>18386.00</td>\n",
              "      <td>225.50</td>\n",
              "      <td>23857.00</td>\n",
              "      <td>38.50</td>\n",
              "      <td>276.25</td>\n",
              "      <td>6.50</td>\n",
              "      <td>15.25</td>\n",
              "      <td>0.00</td>\n",
              "      <td>4.50</td>\n",
              "    </tr>\n",
              "    <tr>\n",
              "      <th>AE167236</th>\n",
              "      <td>167236.0</td>\n",
              "      <td>4.5</td>\n",
              "      <td>37.0</td>\n",
              "      <td>8994.50</td>\n",
              "      <td>90.00</td>\n",
              "      <td>16273.75</td>\n",
              "      <td>34.75</td>\n",
              "      <td>84.00</td>\n",
              "      <td>6.25</td>\n",
              "      <td>27.25</td>\n",
              "      <td>0.00</td>\n",
              "      <td>2.00</td>\n",
              "    </tr>\n",
              "    <tr>\n",
              "      <th>AE167299</th>\n",
              "      <td>167299.0</td>\n",
              "      <td>4.5</td>\n",
              "      <td>1.0</td>\n",
              "      <td>2603.50</td>\n",
              "      <td>46.00</td>\n",
              "      <td>7890.25</td>\n",
              "      <td>9.75</td>\n",
              "      <td>28.00</td>\n",
              "      <td>8.25</td>\n",
              "      <td>219.00</td>\n",
              "      <td>0.00</td>\n",
              "      <td>14.75</td>\n",
              "    </tr>\n",
              "    <tr>\n",
              "      <th>...</th>\n",
              "      <td>...</td>\n",
              "      <td>...</td>\n",
              "      <td>...</td>\n",
              "      <td>...</td>\n",
              "      <td>...</td>\n",
              "      <td>...</td>\n",
              "      <td>...</td>\n",
              "      <td>...</td>\n",
              "      <td>...</td>\n",
              "      <td>...</td>\n",
              "      <td>...</td>\n",
              "      <td>...</td>\n",
              "    </tr>\n",
              "    <tr>\n",
              "      <th>ME205006</th>\n",
              "      <td>205006.0</td>\n",
              "      <td>2.5</td>\n",
              "      <td>7.0</td>\n",
              "      <td>6743.50</td>\n",
              "      <td>81.00</td>\n",
              "      <td>7120.00</td>\n",
              "      <td>15.00</td>\n",
              "      <td>120.00</td>\n",
              "      <td>26.00</td>\n",
              "      <td>166.00</td>\n",
              "      <td>0.00</td>\n",
              "      <td>21.50</td>\n",
              "    </tr>\n",
              "    <tr>\n",
              "      <th>ME68996</th>\n",
              "      <td>68996.0</td>\n",
              "      <td>4.5</td>\n",
              "      <td>3.0</td>\n",
              "      <td>4184.25</td>\n",
              "      <td>53.25</td>\n",
              "      <td>7630.50</td>\n",
              "      <td>7.50</td>\n",
              "      <td>72.25</td>\n",
              "      <td>-0.25</td>\n",
              "      <td>47.75</td>\n",
              "      <td>0.00</td>\n",
              "      <td>1.00</td>\n",
              "    </tr>\n",
              "    <tr>\n",
              "      <th>ME70272</th>\n",
              "      <td>70272.0</td>\n",
              "      <td>4.5</td>\n",
              "      <td>5.0</td>\n",
              "      <td>6312.50</td>\n",
              "      <td>197.25</td>\n",
              "      <td>44871.50</td>\n",
              "      <td>117.50</td>\n",
              "      <td>10061.00</td>\n",
              "      <td>23.00</td>\n",
              "      <td>100.75</td>\n",
              "      <td>0.00</td>\n",
              "      <td>13.00</td>\n",
              "    </tr>\n",
              "    <tr>\n",
              "      <th>NE199051</th>\n",
              "      <td>199051.0</td>\n",
              "      <td>4.5</td>\n",
              "      <td>102.0</td>\n",
              "      <td>20035.75</td>\n",
              "      <td>257.25</td>\n",
              "      <td>7899.25</td>\n",
              "      <td>22.50</td>\n",
              "      <td>223.25</td>\n",
              "      <td>16.00</td>\n",
              "      <td>271.50</td>\n",
              "      <td>0.00</td>\n",
              "      <td>10.75</td>\n",
              "    </tr>\n",
              "    <tr>\n",
              "      <th>NE47368</th>\n",
              "      <td>47368.0</td>\n",
              "      <td>2.5</td>\n",
              "      <td>9.0</td>\n",
              "      <td>2425.50</td>\n",
              "      <td>29.00</td>\n",
              "      <td>1625.50</td>\n",
              "      <td>2.00</td>\n",
              "      <td>11.00</td>\n",
              "      <td>4.50</td>\n",
              "      <td>57.00</td>\n",
              "      <td>0.00</td>\n",
              "      <td>0.50</td>\n",
              "    </tr>\n",
              "  </tbody>\n",
              "</table>\n",
              "<p>76 rows × 12 columns</p>\n",
              "</div>"
            ],
            "text/plain": [
              "              Ref fiche  ...  Requests\n",
              "Portal & REF             ...          \n",
              "AE133867       133867.0  ...      0.00\n",
              "AE162535       162535.0  ...      3.00\n",
              "AE167235       167235.0  ...      4.50\n",
              "AE167236       167236.0  ...      2.00\n",
              "AE167299       167299.0  ...     14.75\n",
              "...                 ...  ...       ...\n",
              "ME205006       205006.0  ...     21.50\n",
              "ME68996         68996.0  ...      1.00\n",
              "ME70272         70272.0  ...     13.00\n",
              "NE199051       199051.0  ...     10.75\n",
              "NE47368         47368.0  ...      0.50\n",
              "\n",
              "[76 rows x 12 columns]"
            ]
          },
          "metadata": {
            "tags": []
          },
          "execution_count": 74
        }
      ]
    },
    {
      "cell_type": "code",
      "metadata": {
        "colab": {
          "base_uri": "https://localhost:8080/",
          "height": 542
        },
        "id": "PpwDJaBimT4p",
        "outputId": "a705b6f8-703c-403e-fc50-4f9eb74c9fef"
      },
      "source": [
        "import pandas as pd\n",
        "import plotly.express as px\n",
        "\n",
        "fig = px.line(data, x = 'Ref fiche', y = 'Unique Visitor\\nstand prospect', title='Unique Visitor\\nstand prospect by Stand')\n",
        "fig.show() #C'est moche."
      ],
      "execution_count": null,
      "outputs": [
        {
          "output_type": "display_data",
          "data": {
            "text/html": [
              "<html>\n",
              "<head><meta charset=\"utf-8\" /></head>\n",
              "<body>\n",
              "    <div>\n",
              "            <script src=\"https://cdnjs.cloudflare.com/ajax/libs/mathjax/2.7.5/MathJax.js?config=TeX-AMS-MML_SVG\"></script><script type=\"text/javascript\">if (window.MathJax) {MathJax.Hub.Config({SVG: {font: \"STIX-Web\"}});}</script>\n",
              "                <script type=\"text/javascript\">window.PlotlyConfig = {MathJaxConfig: 'local'};</script>\n",
              "        <script src=\"https://cdn.plot.ly/plotly-latest.min.js\"></script>    \n",
              "            <div id=\"b843b7a2-8731-4bc1-9516-ecc64c1a5734\" class=\"plotly-graph-div\" style=\"height:525px; width:100%;\"></div>\n",
              "            <script type=\"text/javascript\">\n",
              "                \n",
              "                    window.PLOTLYENV=window.PLOTLYENV || {};\n",
              "                    \n",
              "                if (document.getElementById(\"b843b7a2-8731-4bc1-9516-ecc64c1a5734\")) {\n",
              "                    Plotly.newPlot(\n",
              "                        'b843b7a2-8731-4bc1-9516-ecc64c1a5734',\n",
              "                        [{\"hoverlabel\": {\"namelength\": 0}, \"hovertemplate\": \"Ref fiche=%{x}<br>Unique Visitor\\nstand prospect=%{y}\", \"legendgroup\": \"\", \"line\": {\"color\": \"#636efa\", \"dash\": \"solid\"}, \"mode\": \"lines\", \"name\": \"\", \"showlegend\": false, \"type\": \"scatter\", \"x\": [133867.0, 162535.0, 167235.0, 167236.0, 167299.0, 167300.0, 167301.0, 167300.0, 167487.0, 167491.0, 167492.0, 167502.0, 167504.0, 167506.0, 167509.0, 167510.0, 167512.0, 175401.0, 180490.0, 188831.0, 188849.0, 188854.0, 188855.0, 187473.0, 177382.0, 212963.0, 221570.0, 231664.0, 233379.0, 233586.0, 233587.0, 233588.0, 233589.0, 233590.0, 233748.0, 233749.0, 233750.0, 233751.0, 233752.0, 233754.0, 233755.0, 233756.0, 233757.0, 233758.0, 234227.0, 234233.0, 234234.0, 234236.0, 234237.0, 234250.0, 234251.0, 234252.0, 234253.0, 234255.0, 234256.0, 234257.0, 234258.0, 234259.0, 234260.0, 234495.0, 234496.0, 234497.0, 234591.0, 27720.0, 54912.0, 131195.0, 131196.0, 131320.0, 202827.0, 205004.0, 205005.0, 205006.0, 68996.0, 70272.0, 199051.0, 47368.0], \"xaxis\": \"x\", \"y\": [9.5, 65.0, 15.25, 27.25, 219.0, 116.0, 140.6, 158.5, 116.0, 1.0, 320.0, 461.5, 6.5, 527.5, 59.5, 146.0, 2.0, 301.0, 141.5, 188.25, 247.5, 93.5, 275.5, 21.5, 2.0, 62.0, 0.5, 11.25, 0.0, 0.75, 149.0, 3.25, 2.5, 11.75, 2.5, 21.25, 7.5, 35.5, 2.5, 8.25, 25.0, 15.25, 0.5, 23.25, 1.5, 1.0, 116.0, 4.0, 2.0, 66.5, 3.0, 2.0, 78.5, 87.5, 58.5, 68.5, 8.0, 0.0, 97.5, 1.5, 2.5, 2.0, 1.5, 21.0, 73.5, 83.25, 102.75, 74.0, 377.5, 127.0, 108.0, 166.0, 47.75, 100.75, 271.5, 57.0], \"yaxis\": \"y\"}],\n",
              "                        {\"legend\": {\"tracegroupgap\": 0}, \"template\": {\"data\": {\"bar\": [{\"error_x\": {\"color\": \"#2a3f5f\"}, \"error_y\": {\"color\": \"#2a3f5f\"}, \"marker\": {\"line\": {\"color\": \"#E5ECF6\", \"width\": 0.5}}, \"type\": \"bar\"}], \"barpolar\": [{\"marker\": {\"line\": {\"color\": \"#E5ECF6\", \"width\": 0.5}}, \"type\": \"barpolar\"}], \"carpet\": [{\"aaxis\": {\"endlinecolor\": \"#2a3f5f\", \"gridcolor\": \"white\", \"linecolor\": \"white\", \"minorgridcolor\": \"white\", \"startlinecolor\": \"#2a3f5f\"}, \"baxis\": {\"endlinecolor\": \"#2a3f5f\", \"gridcolor\": \"white\", \"linecolor\": \"white\", \"minorgridcolor\": \"white\", \"startlinecolor\": \"#2a3f5f\"}, \"type\": \"carpet\"}], \"choropleth\": [{\"colorbar\": {\"outlinewidth\": 0, \"ticks\": \"\"}, \"type\": \"choropleth\"}], \"contour\": [{\"colorbar\": {\"outlinewidth\": 0, \"ticks\": \"\"}, \"colorscale\": [[0.0, \"#0d0887\"], [0.1111111111111111, \"#46039f\"], [0.2222222222222222, \"#7201a8\"], [0.3333333333333333, \"#9c179e\"], [0.4444444444444444, \"#bd3786\"], [0.5555555555555556, \"#d8576b\"], [0.6666666666666666, \"#ed7953\"], [0.7777777777777778, \"#fb9f3a\"], [0.8888888888888888, \"#fdca26\"], [1.0, \"#f0f921\"]], \"type\": \"contour\"}], \"contourcarpet\": [{\"colorbar\": {\"outlinewidth\": 0, \"ticks\": \"\"}, \"type\": \"contourcarpet\"}], \"heatmap\": [{\"colorbar\": {\"outlinewidth\": 0, \"ticks\": \"\"}, \"colorscale\": [[0.0, \"#0d0887\"], [0.1111111111111111, \"#46039f\"], [0.2222222222222222, \"#7201a8\"], [0.3333333333333333, \"#9c179e\"], [0.4444444444444444, \"#bd3786\"], [0.5555555555555556, \"#d8576b\"], [0.6666666666666666, \"#ed7953\"], [0.7777777777777778, \"#fb9f3a\"], [0.8888888888888888, \"#fdca26\"], [1.0, \"#f0f921\"]], \"type\": \"heatmap\"}], \"heatmapgl\": [{\"colorbar\": {\"outlinewidth\": 0, \"ticks\": \"\"}, \"colorscale\": [[0.0, \"#0d0887\"], [0.1111111111111111, \"#46039f\"], [0.2222222222222222, \"#7201a8\"], [0.3333333333333333, \"#9c179e\"], [0.4444444444444444, \"#bd3786\"], [0.5555555555555556, \"#d8576b\"], [0.6666666666666666, \"#ed7953\"], [0.7777777777777778, \"#fb9f3a\"], [0.8888888888888888, \"#fdca26\"], [1.0, \"#f0f921\"]], \"type\": \"heatmapgl\"}], \"histogram\": [{\"marker\": {\"colorbar\": {\"outlinewidth\": 0, \"ticks\": \"\"}}, \"type\": \"histogram\"}], \"histogram2d\": [{\"colorbar\": {\"outlinewidth\": 0, \"ticks\": \"\"}, \"colorscale\": [[0.0, \"#0d0887\"], [0.1111111111111111, \"#46039f\"], [0.2222222222222222, \"#7201a8\"], [0.3333333333333333, \"#9c179e\"], [0.4444444444444444, \"#bd3786\"], [0.5555555555555556, \"#d8576b\"], [0.6666666666666666, \"#ed7953\"], [0.7777777777777778, \"#fb9f3a\"], [0.8888888888888888, \"#fdca26\"], [1.0, \"#f0f921\"]], \"type\": \"histogram2d\"}], \"histogram2dcontour\": [{\"colorbar\": {\"outlinewidth\": 0, \"ticks\": \"\"}, \"colorscale\": [[0.0, \"#0d0887\"], [0.1111111111111111, \"#46039f\"], [0.2222222222222222, \"#7201a8\"], [0.3333333333333333, \"#9c179e\"], [0.4444444444444444, \"#bd3786\"], [0.5555555555555556, \"#d8576b\"], [0.6666666666666666, \"#ed7953\"], [0.7777777777777778, \"#fb9f3a\"], [0.8888888888888888, \"#fdca26\"], [1.0, \"#f0f921\"]], \"type\": \"histogram2dcontour\"}], \"mesh3d\": [{\"colorbar\": {\"outlinewidth\": 0, \"ticks\": \"\"}, \"type\": \"mesh3d\"}], \"parcoords\": [{\"line\": {\"colorbar\": {\"outlinewidth\": 0, \"ticks\": \"\"}}, \"type\": \"parcoords\"}], \"pie\": [{\"automargin\": true, \"type\": \"pie\"}], \"scatter\": [{\"marker\": {\"colorbar\": {\"outlinewidth\": 0, \"ticks\": \"\"}}, \"type\": \"scatter\"}], \"scatter3d\": [{\"line\": {\"colorbar\": {\"outlinewidth\": 0, \"ticks\": \"\"}}, \"marker\": {\"colorbar\": {\"outlinewidth\": 0, \"ticks\": \"\"}}, \"type\": \"scatter3d\"}], \"scattercarpet\": [{\"marker\": {\"colorbar\": {\"outlinewidth\": 0, \"ticks\": \"\"}}, \"type\": \"scattercarpet\"}], \"scattergeo\": [{\"marker\": {\"colorbar\": {\"outlinewidth\": 0, \"ticks\": \"\"}}, \"type\": \"scattergeo\"}], \"scattergl\": [{\"marker\": {\"colorbar\": {\"outlinewidth\": 0, \"ticks\": \"\"}}, \"type\": \"scattergl\"}], \"scattermapbox\": [{\"marker\": {\"colorbar\": {\"outlinewidth\": 0, \"ticks\": \"\"}}, \"type\": \"scattermapbox\"}], \"scatterpolar\": [{\"marker\": {\"colorbar\": {\"outlinewidth\": 0, \"ticks\": \"\"}}, \"type\": \"scatterpolar\"}], \"scatterpolargl\": [{\"marker\": {\"colorbar\": {\"outlinewidth\": 0, \"ticks\": \"\"}}, \"type\": \"scatterpolargl\"}], \"scatterternary\": [{\"marker\": {\"colorbar\": {\"outlinewidth\": 0, \"ticks\": \"\"}}, \"type\": \"scatterternary\"}], \"surface\": [{\"colorbar\": {\"outlinewidth\": 0, \"ticks\": \"\"}, \"colorscale\": [[0.0, \"#0d0887\"], [0.1111111111111111, \"#46039f\"], [0.2222222222222222, \"#7201a8\"], [0.3333333333333333, \"#9c179e\"], [0.4444444444444444, \"#bd3786\"], [0.5555555555555556, \"#d8576b\"], [0.6666666666666666, \"#ed7953\"], [0.7777777777777778, \"#fb9f3a\"], [0.8888888888888888, \"#fdca26\"], [1.0, \"#f0f921\"]], \"type\": \"surface\"}], \"table\": [{\"cells\": {\"fill\": {\"color\": \"#EBF0F8\"}, \"line\": {\"color\": \"white\"}}, \"header\": {\"fill\": {\"color\": \"#C8D4E3\"}, \"line\": {\"color\": \"white\"}}, \"type\": \"table\"}]}, \"layout\": {\"annotationdefaults\": {\"arrowcolor\": \"#2a3f5f\", \"arrowhead\": 0, \"arrowwidth\": 1}, \"coloraxis\": {\"colorbar\": {\"outlinewidth\": 0, \"ticks\": \"\"}}, \"colorscale\": {\"diverging\": [[0, \"#8e0152\"], [0.1, \"#c51b7d\"], [0.2, \"#de77ae\"], [0.3, \"#f1b6da\"], [0.4, \"#fde0ef\"], [0.5, \"#f7f7f7\"], [0.6, \"#e6f5d0\"], [0.7, \"#b8e186\"], [0.8, \"#7fbc41\"], [0.9, \"#4d9221\"], [1, \"#276419\"]], \"sequential\": [[0.0, \"#0d0887\"], [0.1111111111111111, \"#46039f\"], [0.2222222222222222, \"#7201a8\"], [0.3333333333333333, \"#9c179e\"], [0.4444444444444444, \"#bd3786\"], [0.5555555555555556, \"#d8576b\"], [0.6666666666666666, \"#ed7953\"], [0.7777777777777778, \"#fb9f3a\"], [0.8888888888888888, \"#fdca26\"], [1.0, \"#f0f921\"]], \"sequentialminus\": [[0.0, \"#0d0887\"], [0.1111111111111111, \"#46039f\"], [0.2222222222222222, \"#7201a8\"], [0.3333333333333333, \"#9c179e\"], [0.4444444444444444, \"#bd3786\"], [0.5555555555555556, \"#d8576b\"], [0.6666666666666666, \"#ed7953\"], [0.7777777777777778, \"#fb9f3a\"], [0.8888888888888888, \"#fdca26\"], [1.0, \"#f0f921\"]]}, \"colorway\": [\"#636efa\", \"#EF553B\", \"#00cc96\", \"#ab63fa\", \"#FFA15A\", \"#19d3f3\", \"#FF6692\", \"#B6E880\", \"#FF97FF\", \"#FECB52\"], \"font\": {\"color\": \"#2a3f5f\"}, \"geo\": {\"bgcolor\": \"white\", \"lakecolor\": \"white\", \"landcolor\": \"#E5ECF6\", \"showlakes\": true, \"showland\": true, \"subunitcolor\": \"white\"}, \"hoverlabel\": {\"align\": \"left\"}, \"hovermode\": \"closest\", \"mapbox\": {\"style\": \"light\"}, \"paper_bgcolor\": \"white\", \"plot_bgcolor\": \"#E5ECF6\", \"polar\": {\"angularaxis\": {\"gridcolor\": \"white\", \"linecolor\": \"white\", \"ticks\": \"\"}, \"bgcolor\": \"#E5ECF6\", \"radialaxis\": {\"gridcolor\": \"white\", \"linecolor\": \"white\", \"ticks\": \"\"}}, \"scene\": {\"xaxis\": {\"backgroundcolor\": \"#E5ECF6\", \"gridcolor\": \"white\", \"gridwidth\": 2, \"linecolor\": \"white\", \"showbackground\": true, \"ticks\": \"\", \"zerolinecolor\": \"white\"}, \"yaxis\": {\"backgroundcolor\": \"#E5ECF6\", \"gridcolor\": \"white\", \"gridwidth\": 2, \"linecolor\": \"white\", \"showbackground\": true, \"ticks\": \"\", \"zerolinecolor\": \"white\"}, \"zaxis\": {\"backgroundcolor\": \"#E5ECF6\", \"gridcolor\": \"white\", \"gridwidth\": 2, \"linecolor\": \"white\", \"showbackground\": true, \"ticks\": \"\", \"zerolinecolor\": \"white\"}}, \"shapedefaults\": {\"line\": {\"color\": \"#2a3f5f\"}}, \"ternary\": {\"aaxis\": {\"gridcolor\": \"white\", \"linecolor\": \"white\", \"ticks\": \"\"}, \"baxis\": {\"gridcolor\": \"white\", \"linecolor\": \"white\", \"ticks\": \"\"}, \"bgcolor\": \"#E5ECF6\", \"caxis\": {\"gridcolor\": \"white\", \"linecolor\": \"white\", \"ticks\": \"\"}}, \"title\": {\"x\": 0.05}, \"xaxis\": {\"automargin\": true, \"gridcolor\": \"white\", \"linecolor\": \"white\", \"ticks\": \"\", \"title\": {\"standoff\": 15}, \"zerolinecolor\": \"white\", \"zerolinewidth\": 2}, \"yaxis\": {\"automargin\": true, \"gridcolor\": \"white\", \"linecolor\": \"white\", \"ticks\": \"\", \"title\": {\"standoff\": 15}, \"zerolinecolor\": \"white\", \"zerolinewidth\": 2}}}, \"title\": {\"text\": \"Unique Visitor\\nstand prospect by Stand\"}, \"xaxis\": {\"anchor\": \"y\", \"domain\": [0.0, 1.0], \"title\": {\"text\": \"Ref fiche\"}}, \"yaxis\": {\"anchor\": \"x\", \"domain\": [0.0, 1.0], \"title\": {\"text\": \"Unique Visitor\\nstand prospect\"}}},\n",
              "                        {\"responsive\": true}\n",
              "                    ).then(function(){\n",
              "                            \n",
              "var gd = document.getElementById('b843b7a2-8731-4bc1-9516-ecc64c1a5734');\n",
              "var x = new MutationObserver(function (mutations, observer) {{\n",
              "        var display = window.getComputedStyle(gd).display;\n",
              "        if (!display || display === 'none') {{\n",
              "            console.log([gd, 'removed!']);\n",
              "            Plotly.purge(gd);\n",
              "            observer.disconnect();\n",
              "        }}\n",
              "}});\n",
              "\n",
              "// Listen for the removal of the full notebook cells\n",
              "var notebookContainer = gd.closest('#notebook-container');\n",
              "if (notebookContainer) {{\n",
              "    x.observe(notebookContainer, {childList: true});\n",
              "}}\n",
              "\n",
              "// Listen for the clearing of the current output cell\n",
              "var outputEl = gd.closest('.output');\n",
              "if (outputEl) {{\n",
              "    x.observe(outputEl, {childList: true});\n",
              "}}\n",
              "\n",
              "                        })\n",
              "                };\n",
              "                \n",
              "            </script>\n",
              "        </div>\n",
              "</body>\n",
              "</html>"
            ]
          },
          "metadata": {
            "tags": []
          }
        }
      ]
    },
    {
      "cell_type": "markdown",
      "metadata": {
        "id": "NRsnMIqKcSsL"
      },
      "source": [
        "#Trying to plot"
      ]
    },
    {
      "cell_type": "code",
      "metadata": {
        "colab": {
          "base_uri": "https://localhost:8080/",
          "height": 265
        },
        "id": "YA3WEapl347G",
        "outputId": "d2dc18dd-27e4-4779-e360-3dfb2446ef7d"
      },
      "source": [
        "JETRO['ADVERTISEMENT\\nDisplay'].plot()\n",
        "plt.show()"
      ],
      "execution_count": null,
      "outputs": [
        {
          "output_type": "display_data",
          "data": {
            "image/png": "[encoded data removed]",
            "text/plain": [
              "<Figure size 432x288 with 1 Axes>"
            ]
          },
          "metadata": {
            "tags": [],
            "needs_background": "light"
          }
        }
      ]
    },
    {
      "cell_type": "code",
      "metadata": {
        "colab": {
          "base_uri": "https://localhost:8080/"
        },
        "id": "fporg1126yvd",
        "outputId": "f9d4d53f-fefb-4d06-fb01-1af8668f7361"
      },
      "source": [
        "JETRO.index"
      ],
      "execution_count": null,
      "outputs": [
        {
          "output_type": "execute_result",
          "data": {
            "text/plain": [
              "RangeIndex(start=0, stop=207, step=1)"
            ]
          },
          "metadata": {
            "tags": []
          },
          "execution_count": 21
        }
      ]
    },
    {
      "cell_type": "code",
      "metadata": {
        "colab": {
          "base_uri": "https://localhost:8080/",
          "height": 963
        },
        "id": "0WNnxtiX6ys8",
        "outputId": "1bd4c428-1d4f-44c8-944a-8f68ca361994"
      },
      "source": [
        "Jetro=JETRO.set_index('Portal & REF')\n",
        "Jetro"
      ],
      "execution_count": null,
      "outputs": [
        {
          "output_type": "execute_result",
          "data": {
            "text/html": [
              "<div>\n",
              "<style scoped>\n",
              "    .dataframe tbody tr th:only-of-type {\n",
              "        vertical-align: middle;\n",
              "    }\n",
              "\n",
              "    .dataframe tbody tr th {\n",
              "        vertical-align: top;\n",
              "    }\n",
              "\n",
              "    .dataframe thead th {\n",
              "        text-align: right;\n",
              "    }\n",
              "</style>\n",
              "<table border=\"1\" class=\"dataframe\">\n",
              "  <thead>\n",
              "    <tr style=\"text-align: right;\">\n",
              "      <th></th>\n",
              "      <th>Portal</th>\n",
              "      <th>Ref fiche</th>\n",
              "      <th>Online since</th>\n",
              "      <th>Company name</th>\n",
              "      <th>Data collection date / per month</th>\n",
              "      <th>Month</th>\n",
              "      <th>URL statco</th>\n",
              "      <th>Online stand URL</th>\n",
              "      <th>Main category</th>\n",
              "      <th>Portal&amp;MainCat</th>\n",
              "      <th>Number of product pages</th>\n",
              "      <th>View\\ndisplay</th>\n",
              "      <th>Click</th>\n",
              "      <th>ADVERTISEMENT\\nDisplay</th>\n",
              "      <th>ADVERTISEMENT\\nClick</th>\n",
              "      <th>Sourcing &amp; Website Traffic\\nSearch Results page prospects</th>\n",
              "      <th>Sourcing &amp; Website Traffic\\nClick Throughs</th>\n",
              "      <th>Unique Visitor\\nstand prospect</th>\n",
              "      <th>See\\n Price Options/Where to Buy Prospects</th>\n",
              "      <th>Requests</th>\n",
              "    </tr>\n",
              "    <tr>\n",
              "      <th>Portal &amp; REF</th>\n",
              "      <th></th>\n",
              "      <th></th>\n",
              "      <th></th>\n",
              "      <th></th>\n",
              "      <th></th>\n",
              "      <th></th>\n",
              "      <th></th>\n",
              "      <th></th>\n",
              "      <th></th>\n",
              "      <th></th>\n",
              "      <th></th>\n",
              "      <th></th>\n",
              "      <th></th>\n",
              "      <th></th>\n",
              "      <th></th>\n",
              "      <th></th>\n",
              "      <th></th>\n",
              "      <th></th>\n",
              "      <th></th>\n",
              "      <th></th>\n",
              "    </tr>\n",
              "  </thead>\n",
              "  <tbody>\n",
              "    <tr>\n",
              "      <th>AE133867</th>\n",
              "      <td>AE</td>\n",
              "      <td>133867</td>\n",
              "      <td>2021-02-11</td>\n",
              "      <td>USTECH CORPORATION</td>\n",
              "      <td>2021-02-28</td>\n",
              "      <td>2</td>\n",
              "      <td>https://secure.archiexpo.com/statsco-backoffic...</td>\n",
              "      <td>https://www.archiexpo.com/prod/ustech-corporat...</td>\n",
              "      <td>Bathroom</td>\n",
              "      <td>AE-Bathroom</td>\n",
              "      <td>3</td>\n",
              "      <td>9810</td>\n",
              "      <td>205</td>\n",
              "      <td>2334</td>\n",
              "      <td>1</td>\n",
              "      <td>61</td>\n",
              "      <td>2</td>\n",
              "      <td>13</td>\n",
              "      <td>0</td>\n",
              "      <td>0</td>\n",
              "    </tr>\n",
              "    <tr>\n",
              "      <th>AE133867</th>\n",
              "      <td>AE</td>\n",
              "      <td>133867</td>\n",
              "      <td>2021-02-11</td>\n",
              "      <td>USTECH CORPORATION</td>\n",
              "      <td>2021-03-16</td>\n",
              "      <td>3</td>\n",
              "      <td>https://secure.archiexpo.com/statsco-backoffic...</td>\n",
              "      <td>https://www.archiexpo.com/prod/ustech-corporat...</td>\n",
              "      <td>Bathroom</td>\n",
              "      <td>AE-Bathroom</td>\n",
              "      <td>3</td>\n",
              "      <td>2825</td>\n",
              "      <td>82</td>\n",
              "      <td>5684</td>\n",
              "      <td>13</td>\n",
              "      <td>57</td>\n",
              "      <td>3</td>\n",
              "      <td>6</td>\n",
              "      <td>0</td>\n",
              "      <td>0</td>\n",
              "    </tr>\n",
              "    <tr>\n",
              "      <th>AE162535</th>\n",
              "      <td>AE</td>\n",
              "      <td>162535</td>\n",
              "      <td>2020-12-01</td>\n",
              "      <td>O.N. Industries Ltd.</td>\n",
              "      <td>2020-12-31</td>\n",
              "      <td>12</td>\n",
              "      <td>https://secure.archiexpo.com/statsco-backoffic...</td>\n",
              "      <td>https://www.archiexpo.com/prod/industries-ltd-...</td>\n",
              "      <td>Planting and accessories</td>\n",
              "      <td>AE-Planting and accessories</td>\n",
              "      <td>2</td>\n",
              "      <td>8183</td>\n",
              "      <td>49</td>\n",
              "      <td>1972</td>\n",
              "      <td>3</td>\n",
              "      <td>0</td>\n",
              "      <td>2</td>\n",
              "      <td>0</td>\n",
              "      <td>0</td>\n",
              "      <td>0</td>\n",
              "    </tr>\n",
              "    <tr>\n",
              "      <th>AE162535</th>\n",
              "      <td>AE</td>\n",
              "      <td>162535</td>\n",
              "      <td>2020-12-01</td>\n",
              "      <td>O.N. Industries Ltd.</td>\n",
              "      <td>2021-01-31</td>\n",
              "      <td>1</td>\n",
              "      <td>https://secure.archiexpo.com/statsco-backoffic...</td>\n",
              "      <td>https://www.archiexpo.com/prod/industries-ltd-...</td>\n",
              "      <td>Planting and accessories</td>\n",
              "      <td>AE-Planting and accessories</td>\n",
              "      <td>2</td>\n",
              "      <td>7735</td>\n",
              "      <td>36</td>\n",
              "      <td>4119</td>\n",
              "      <td>7</td>\n",
              "      <td>3</td>\n",
              "      <td>4</td>\n",
              "      <td>64</td>\n",
              "      <td>3</td>\n",
              "      <td>1</td>\n",
              "    </tr>\n",
              "    <tr>\n",
              "      <th>AE162535</th>\n",
              "      <td>AE</td>\n",
              "      <td>162535</td>\n",
              "      <td>2020-12-01</td>\n",
              "      <td>O.N. Industries Ltd.</td>\n",
              "      <td>2021-02-28</td>\n",
              "      <td>2</td>\n",
              "      <td>https://secure.archiexpo.com/statsco-backoffic...</td>\n",
              "      <td>https://www.archiexpo.com/prod/industries-ltd-...</td>\n",
              "      <td>Planting and accessories</td>\n",
              "      <td>AE-Planting and accessories</td>\n",
              "      <td>2</td>\n",
              "      <td>170</td>\n",
              "      <td>9</td>\n",
              "      <td>3504</td>\n",
              "      <td>6</td>\n",
              "      <td>0</td>\n",
              "      <td>2</td>\n",
              "      <td>1</td>\n",
              "      <td>0</td>\n",
              "      <td>0</td>\n",
              "    </tr>\n",
              "    <tr>\n",
              "      <th>...</th>\n",
              "      <td>...</td>\n",
              "      <td>...</td>\n",
              "      <td>...</td>\n",
              "      <td>...</td>\n",
              "      <td>...</td>\n",
              "      <td>...</td>\n",
              "      <td>...</td>\n",
              "      <td>...</td>\n",
              "      <td>...</td>\n",
              "      <td>...</td>\n",
              "      <td>...</td>\n",
              "      <td>...</td>\n",
              "      <td>...</td>\n",
              "      <td>...</td>\n",
              "      <td>...</td>\n",
              "      <td>...</td>\n",
              "      <td>...</td>\n",
              "      <td>...</td>\n",
              "      <td>...</td>\n",
              "      <td>...</td>\n",
              "    </tr>\n",
              "    <tr>\n",
              "      <th>NE199051</th>\n",
              "      <td>NE</td>\n",
              "      <td>199051</td>\n",
              "      <td>2020-12-01</td>\n",
              "      <td>Asano-metal industry</td>\n",
              "      <td>2021-01-31</td>\n",
              "      <td>1</td>\n",
              "      <td>https://secure.nauticexpo.com/statsco-backoffi...</td>\n",
              "      <td>https://www.nauticexpo.com/prod/asano-metal-in...</td>\n",
              "      <td>Rigging, Marine hardware</td>\n",
              "      <td>NE-Rigging, Marine hardware</td>\n",
              "      <td>102</td>\n",
              "      <td>19205</td>\n",
              "      <td>268</td>\n",
              "      <td>13863</td>\n",
              "      <td>40</td>\n",
              "      <td>217</td>\n",
              "      <td>11</td>\n",
              "      <td>22</td>\n",
              "      <td>0</td>\n",
              "      <td>5</td>\n",
              "    </tr>\n",
              "    <tr>\n",
              "      <th>NE199051</th>\n",
              "      <td>NE</td>\n",
              "      <td>199051</td>\n",
              "      <td>2020-12-01</td>\n",
              "      <td>Asano-metal industry</td>\n",
              "      <td>2021-02-28</td>\n",
              "      <td>2</td>\n",
              "      <td>https://secure.nauticexpo.com/statsco-backoffi...</td>\n",
              "      <td>https://www.nauticexpo.com/prod/asano-metal-in...</td>\n",
              "      <td>Rigging, Marine hardware</td>\n",
              "      <td>NE-Rigging, Marine hardware</td>\n",
              "      <td>102</td>\n",
              "      <td>31283</td>\n",
              "      <td>380</td>\n",
              "      <td>12147</td>\n",
              "      <td>40</td>\n",
              "      <td>315</td>\n",
              "      <td>25</td>\n",
              "      <td>603</td>\n",
              "      <td>0</td>\n",
              "      <td>25</td>\n",
              "    </tr>\n",
              "    <tr>\n",
              "      <th>NE199051</th>\n",
              "      <td>NE</td>\n",
              "      <td>199051</td>\n",
              "      <td>2020-12-01</td>\n",
              "      <td>Asano-metal industry</td>\n",
              "      <td>2021-03-16</td>\n",
              "      <td>3</td>\n",
              "      <td>https://secure.nauticexpo.com/statsco-backoffi...</td>\n",
              "      <td>https://www.nauticexpo.com/prod/asano-metal-in...</td>\n",
              "      <td>Rigging, Marine hardware</td>\n",
              "      <td>NE-Rigging, Marine hardware</td>\n",
              "      <td>102</td>\n",
              "      <td>12552</td>\n",
              "      <td>198</td>\n",
              "      <td>158</td>\n",
              "      <td>1</td>\n",
              "      <td>167</td>\n",
              "      <td>4</td>\n",
              "      <td>21</td>\n",
              "      <td>0</td>\n",
              "      <td>6</td>\n",
              "    </tr>\n",
              "    <tr>\n",
              "      <th>NE47368</th>\n",
              "      <td>NE</td>\n",
              "      <td>47368</td>\n",
              "      <td>2021-02-11</td>\n",
              "      <td>Musasino Co., Ltd.</td>\n",
              "      <td>2021-02-28</td>\n",
              "      <td>2</td>\n",
              "      <td>https://secure.nauticexpo.com/statsco-backoffi...</td>\n",
              "      <td>https://www.nauticexpo.com/prod/musasino-47368...</td>\n",
              "      <td>Water, Waste, Emissions and discharge reduction</td>\n",
              "      <td>NE-Water, Waste, Emissions and discharge reduc...</td>\n",
              "      <td>9</td>\n",
              "      <td>1716</td>\n",
              "      <td>15</td>\n",
              "      <td>1319</td>\n",
              "      <td>1</td>\n",
              "      <td>13</td>\n",
              "      <td>4</td>\n",
              "      <td>105</td>\n",
              "      <td>0</td>\n",
              "      <td>1</td>\n",
              "    </tr>\n",
              "    <tr>\n",
              "      <th>NE47368</th>\n",
              "      <td>NE</td>\n",
              "      <td>47368</td>\n",
              "      <td>2021-02-11</td>\n",
              "      <td>Musasino Co., Ltd.</td>\n",
              "      <td>2021-03-16</td>\n",
              "      <td>3</td>\n",
              "      <td>https://secure.nauticexpo.com/statsco-backoffi...</td>\n",
              "      <td>https://www.nauticexpo.com/prod/musasino-47368...</td>\n",
              "      <td>Water, Waste, Emissions and discharge reduction</td>\n",
              "      <td>NE-Water, Waste, Emissions and discharge reduc...</td>\n",
              "      <td>9</td>\n",
              "      <td>3135</td>\n",
              "      <td>43</td>\n",
              "      <td>1932</td>\n",
              "      <td>3</td>\n",
              "      <td>9</td>\n",
              "      <td>5</td>\n",
              "      <td>9</td>\n",
              "      <td>0</td>\n",
              "      <td>0</td>\n",
              "    </tr>\n",
              "  </tbody>\n",
              "</table>\n",
              "<p>207 rows × 20 columns</p>\n",
              "</div>"
            ],
            "text/plain": [
              "             Portal  ...  Requests\n",
              "Portal & REF         ...          \n",
              "AE133867         AE  ...         0\n",
              "AE133867         AE  ...         0\n",
              "AE162535         AE  ...         0\n",
              "AE162535         AE  ...         1\n",
              "AE162535         AE  ...         0\n",
              "...             ...  ...       ...\n",
              "NE199051         NE  ...         5\n",
              "NE199051         NE  ...        25\n",
              "NE199051         NE  ...         6\n",
              "NE47368          NE  ...         1\n",
              "NE47368          NE  ...         0\n",
              "\n",
              "[207 rows x 20 columns]"
            ]
          },
          "metadata": {
            "tags": []
          },
          "execution_count": 22
        }
      ]
    },
    {
      "cell_type": "markdown",
      "metadata": {
        "id": "IdjBd-Oq4Ej9"
      },
      "source": [
        "#TREND"
      ]
    },
    {
      "cell_type": "code",
      "metadata": {
        "id": "GxU8ysiI349n",
        "colab": {
          "base_uri": "https://localhost:8080/"
        },
        "outputId": "32661e88-f375-4097-c593-c8df0f06e15a"
      },
      "source": [
        "Jetro.shape \n",
        "Jetro.index \n",
        "Jetro.columns \n",
        "Jetro.info() \n",
        "Jetro.count() "
      ],
      "execution_count": null,
      "outputs": [
        {
          "output_type": "stream",
          "text": [
            "<class 'pandas.core.frame.DataFrame'>\n",
            "Index: 207 entries, AE133867 to NE47368\n",
            "Data columns (total 20 columns):\n",
            " #   Column                                                    Non-Null Count  Dtype         \n",
            "---  ------                                                    --------------  -----         \n",
            " 0   Portal                                                    207 non-null    object        \n",
            " 1   Ref fiche                                                 207 non-null    int64         \n",
            " 2   Online since                                              207 non-null    datetime64[ns]\n",
            " 3   Company name                                              207 non-null    object        \n",
            " 4   Data collection date / per month                          207 non-null    datetime64[ns]\n",
            " 5   Month                                                     207 non-null    int64         \n",
            " 6   URL statco                                                207 non-null    object        \n",
            " 7   Online stand URL                                          207 non-null    object        \n",
            " 8   Main category                                             207 non-null    object        \n",
            " 9   Portal&MainCat                                            207 non-null    object        \n",
            " 10  Number of product pages                                   207 non-null    int64         \n",
            " 11  View\n",
            "display                                              207 non-null    int64         \n",
            " 12  Click                                                     207 non-null    int64         \n",
            " 13  ADVERTISEMENT\n",
            "Display                                     207 non-null    int64         \n",
            " 14  ADVERTISEMENT\n",
            "Click                                       207 non-null    int64         \n",
            " 15  Sourcing & Website Traffic\n",
            "Search Results page prospects  207 non-null    int64         \n",
            " 16  Sourcing & Website Traffic\n",
            "Click Throughs                 207 non-null    int64         \n",
            " 17  Unique Visitor\n",
            "stand prospect                             207 non-null    int64         \n",
            " 18  See\n",
            " Price Options/Where to Buy Prospects                 207 non-null    int64         \n",
            " 19  Requests                                                  207 non-null    int64         \n",
            "dtypes: datetime64[ns](2), int64(12), object(6)\n",
            "memory usage: 34.0+ KB\n"
          ],
          "name": "stdout"
        },
        {
          "output_type": "execute_result",
          "data": {
            "text/plain": [
              "Portal                                                       207\n",
              "Ref fiche                                                    207\n",
              "Online since                                                 207\n",
              "Company name                                                 207\n",
              "Data collection date / per month                             207\n",
              "Month                                                        207\n",
              "URL statco                                                   207\n",
              "Online stand URL                                             207\n",
              "Main category                                                207\n",
              "Portal&MainCat                                               207\n",
              "Number of product pages                                      207\n",
              "View\\ndisplay                                                207\n",
              "Click                                                        207\n",
              "ADVERTISEMENT\\nDisplay                                       207\n",
              "ADVERTISEMENT\\nClick                                         207\n",
              "Sourcing & Website Traffic\\nSearch Results page prospects    207\n",
              "Sourcing & Website Traffic\\nClick Throughs                   207\n",
              "Unique Visitor\\nstand prospect                               207\n",
              "See\\n Price Options/Where to Buy Prospects                   207\n",
              "Requests                                                     207\n",
              "dtype: int64"
            ]
          },
          "metadata": {
            "tags": []
          },
          "execution_count": 23
        }
      ]
    },
    {
      "cell_type": "code",
      "metadata": {
        "colab": {
          "base_uri": "https://localhost:8080/"
        },
        "id": "otxvenFq-OH3",
        "outputId": "f111b09e-cad9-4b49-ff9a-05bc066eca42"
      },
      "source": [
        "Jetro.columns"
      ],
      "execution_count": null,
      "outputs": [
        {
          "output_type": "execute_result",
          "data": {
            "text/plain": [
              "Index(['Portal', 'Ref fiche', 'Online since', 'Company name',\n",
              "       'Data collection date / per month', 'Month', 'URL statco',\n",
              "       'Online stand URL', 'Main category', 'Portal&MainCat',\n",
              "       'Number of product pages', 'View\\ndisplay ', 'Click',\n",
              "       'ADVERTISEMENT\\nDisplay', 'ADVERTISEMENT\\nClick',\n",
              "       'Sourcing & Website Traffic\\nSearch Results page prospects',\n",
              "       'Sourcing & Website Traffic\\nClick Throughs',\n",
              "       'Unique Visitor\\nstand prospect',\n",
              "       'See\\n Price Options/Where to Buy Prospects', 'Requests'],\n",
              "      dtype='object')"
            ]
          },
          "metadata": {
            "tags": []
          },
          "execution_count": 24
        }
      ]
    },
    {
      "cell_type": "code",
      "metadata": {
        "id": "fSt0wKlY4YeR"
      },
      "source": [
        "import datetime\n",
        "import random\n",
        "import matplotlib.pyplot as plt\n",
        "\n",
        "# plot\n",
        "plt.plot(Jetro.{},y)\n",
        "# beautify the x-labels\n",
        "plt.gcf().autofmt_xdate()\n",
        "\n",
        "plt.show()"
      ],
      "execution_count": null,
      "outputs": []
    },
    {
      "cell_type": "code",
      "metadata": {
        "id": "ca-_Crxo45Gf"
      },
      "source": [
        "#EXEMPLE\n",
        "plt.figure()\n",
        "plt.plot(x,y)\n",
        "plt.legend()"
      ],
      "execution_count": null,
      "outputs": []
    },
    {
      "cell_type": "code",
      "metadata": {
        "id": "POipn22I45JT"
      },
      "source": [
        "JETRO.set_index('Portal & REF')\n",
        "JETRO['ADVERTISEMENT\\nClick'].hist()"
      ],
      "execution_count": null,
      "outputs": []
    },
    {
      "cell_type": "code",
      "metadata": {
        "colab": {
          "base_uri": "https://localhost:8080/",
          "height": 374
        },
        "id": "FhHy1pDq7_1U",
        "outputId": "8697d6fe-5a60-4232-c85e-74d8183ecb2f"
      },
      "source": [
        "JETRO['Click'].plot(figsize=(9, 6))\n",
        "plt.show()"
      ],
      "execution_count": null,
      "outputs": [
        {
          "output_type": "display_data",
          "data": {
            "image/png": "[encoded data removed]",
            "text/plain": [
              "<Figure size 648x432 with 1 Axes>"
            ]
          },
          "metadata": {
            "tags": [],
            "needs_background": "light"
          }
        }
      ]
    },
    {
      "cell_type": "code",
      "metadata": {
        "colab": {
          "base_uri": "https://localhost:8080/",
          "height": 296
        },
        "id": "XK3hFUH48Q2Z",
        "outputId": "58064634-f5ec-49b7-ba25-fc33d923a783"
      },
      "source": [
        "JETRO.plot('Portal & REF','Click')"
      ],
      "execution_count": null,
      "outputs": [
        {
          "output_type": "execute_result",
          "data": {
            "text/plain": [
              "<matplotlib.axes._subplots.AxesSubplot at 0x7ff75932d0d0>"
            ]
          },
          "metadata": {
            "tags": []
          },
          "execution_count": 86
        },
        {
          "output_type": "display_data",
          "data": {
            "image/png": "[encoded data removed]",
            "text/plain": [
              "<Figure size 432x288 with 1 Axes>"
            ]
          },
          "metadata": {
            "tags": [],
            "needs_background": "light"
          }
        }
      ]
    },
    {
      "cell_type": "code",
      "metadata": {
        "colab": {
          "base_uri": "https://localhost:8080/"
        },
        "id": "ibyv8S_l8Qzz",
        "outputId": "09fbd214-206c-46b5-af35-33eac337a113"
      },
      "source": [
        "Jetro.index"
      ],
      "execution_count": null,
      "outputs": [
        {
          "output_type": "execute_result",
          "data": {
            "text/plain": [
              "Index(['AE133867', 'AE133867', 'AE162535', 'AE162535', 'AE162535', 'AE162535',\n",
              "       'AE167235', 'AE167235', 'AE167235', 'AE167235',\n",
              "       ...\n",
              "       'ME70272', 'ME70272', 'ME70272', 'ME70272', 'NE199051', 'NE199051',\n",
              "       'NE199051', 'NE199051', 'NE47368', 'NE47368'],\n",
              "      dtype='object', name='Portal & REF', length=207)"
            ]
          },
          "metadata": {
            "tags": []
          },
          "execution_count": 83
        }
      ]
    },
    {
      "cell_type": "code",
      "metadata": {
        "id": "XfOUXq2w8QqP"
      },
      "source": [
        "plt.plot(Jetro['Portal & REF'], Jetro['Unique Visitor\\nstand prospect'])"
      ],
      "execution_count": null,
      "outputs": []
    },
    {
      "cell_type": "markdown",
      "metadata": {
        "id": "UvfZwatuAnv1"
      },
      "source": [
        "Visualisons AE133867"
      ]
    },
    {
      "cell_type": "code",
      "metadata": {
        "colab": {
          "base_uri": "https://localhost:8080/",
          "height": 281
        },
        "id": "7phw6cbf_1e7",
        "outputId": "8fe0f066-e607-42ca-dcaa-6dbb075e7adf"
      },
      "source": [
        "Jetro.loc['AE133867']"
      ],
      "execution_count": null,
      "outputs": [
        {
          "output_type": "execute_result",
          "data": {
            "text/html": [
              "<div>\n",
              "<style scoped>\n",
              "    .dataframe tbody tr th:only-of-type {\n",
              "        vertical-align: middle;\n",
              "    }\n",
              "\n",
              "    .dataframe tbody tr th {\n",
              "        vertical-align: top;\n",
              "    }\n",
              "\n",
              "    .dataframe thead th {\n",
              "        text-align: right;\n",
              "    }\n",
              "</style>\n",
              "<table border=\"1\" class=\"dataframe\">\n",
              "  <thead>\n",
              "    <tr style=\"text-align: right;\">\n",
              "      <th></th>\n",
              "      <th>Portal</th>\n",
              "      <th>Ref fiche</th>\n",
              "      <th>Online since</th>\n",
              "      <th>Company name</th>\n",
              "      <th>Data collection date / per month</th>\n",
              "      <th>Month</th>\n",
              "      <th>URL statco</th>\n",
              "      <th>Online stand URL</th>\n",
              "      <th>Main category</th>\n",
              "      <th>Portal&amp;MainCat</th>\n",
              "      <th>Number of product pages</th>\n",
              "      <th>View\\ndisplay</th>\n",
              "      <th>Click</th>\n",
              "      <th>ADVERTISEMENT\\nDisplay</th>\n",
              "      <th>ADVERTISEMENT\\nClick</th>\n",
              "      <th>Sourcing &amp; Website Traffic\\nSearch Results page prospects</th>\n",
              "      <th>Sourcing &amp; Website Traffic\\nClick Throughs</th>\n",
              "      <th>Unique Visitor\\nstand prospect</th>\n",
              "      <th>See\\n Price Options/Where to Buy Prospects</th>\n",
              "      <th>Requests</th>\n",
              "    </tr>\n",
              "    <tr>\n",
              "      <th>Portal &amp; REF</th>\n",
              "      <th></th>\n",
              "      <th></th>\n",
              "      <th></th>\n",
              "      <th></th>\n",
              "      <th></th>\n",
              "      <th></th>\n",
              "      <th></th>\n",
              "      <th></th>\n",
              "      <th></th>\n",
              "      <th></th>\n",
              "      <th></th>\n",
              "      <th></th>\n",
              "      <th></th>\n",
              "      <th></th>\n",
              "      <th></th>\n",
              "      <th></th>\n",
              "      <th></th>\n",
              "      <th></th>\n",
              "      <th></th>\n",
              "      <th></th>\n",
              "    </tr>\n",
              "  </thead>\n",
              "  <tbody>\n",
              "    <tr>\n",
              "      <th>AE133867</th>\n",
              "      <td>AE</td>\n",
              "      <td>133867</td>\n",
              "      <td>2021-02-11</td>\n",
              "      <td>USTECH CORPORATION</td>\n",
              "      <td>2021-02-28</td>\n",
              "      <td>2</td>\n",
              "      <td>https://secure.archiexpo.com/statsco-backoffic...</td>\n",
              "      <td>https://www.archiexpo.com/prod/ustech-corporat...</td>\n",
              "      <td>Bathroom</td>\n",
              "      <td>AE-Bathroom</td>\n",
              "      <td>3</td>\n",
              "      <td>9810</td>\n",
              "      <td>205</td>\n",
              "      <td>2334</td>\n",
              "      <td>1</td>\n",
              "      <td>61</td>\n",
              "      <td>2</td>\n",
              "      <td>13</td>\n",
              "      <td>0</td>\n",
              "      <td>0</td>\n",
              "    </tr>\n",
              "    <tr>\n",
              "      <th>AE133867</th>\n",
              "      <td>AE</td>\n",
              "      <td>133867</td>\n",
              "      <td>2021-02-11</td>\n",
              "      <td>USTECH CORPORATION</td>\n",
              "      <td>2021-03-16</td>\n",
              "      <td>3</td>\n",
              "      <td>https://secure.archiexpo.com/statsco-backoffic...</td>\n",
              "      <td>https://www.archiexpo.com/prod/ustech-corporat...</td>\n",
              "      <td>Bathroom</td>\n",
              "      <td>AE-Bathroom</td>\n",
              "      <td>3</td>\n",
              "      <td>2825</td>\n",
              "      <td>82</td>\n",
              "      <td>5684</td>\n",
              "      <td>13</td>\n",
              "      <td>57</td>\n",
              "      <td>3</td>\n",
              "      <td>6</td>\n",
              "      <td>0</td>\n",
              "      <td>0</td>\n",
              "    </tr>\n",
              "  </tbody>\n",
              "</table>\n",
              "</div>"
            ],
            "text/plain": [
              "             Portal  ...  Requests\n",
              "Portal & REF         ...          \n",
              "AE133867         AE  ...         0\n",
              "AE133867         AE  ...         0\n",
              "\n",
              "[2 rows x 20 columns]"
            ]
          },
          "metadata": {
            "tags": []
          },
          "execution_count": 26
        }
      ]
    },
    {
      "cell_type": "code",
      "metadata": {
        "colab": {
          "base_uri": "https://localhost:8080/",
          "height": 296
        },
        "id": "5dCWfZzyAqhj",
        "outputId": "05c2bdca-0d82-4bec-b6d6-10ea6d9718db"
      },
      "source": [
        "Jetro.loc['AE133867','Click'].plot()"
      ],
      "execution_count": null,
      "outputs": [
        {
          "output_type": "execute_result",
          "data": {
            "text/plain": [
              "<matplotlib.axes._subplots.AxesSubplot at 0x7f2afcd713d0>"
            ]
          },
          "metadata": {
            "tags": []
          },
          "execution_count": 30
        },
        {
          "output_type": "display_data",
          "data": {
            "image/png": "[encoded data removed]",
            "text/plain": [
              "<Figure size 432x288 with 1 Axes>"
            ]
          },
          "metadata": {
            "tags": [],
            "needs_background": "light"
          }
        }
      ]
    },
    {
      "cell_type": "code",
      "metadata": {
        "colab": {
          "base_uri": "https://localhost:8080/",
          "height": 380
        },
        "id": "QBrmxB8fBIuW",
        "outputId": "b310ca45-9bd7-4297-c9dd-42c259ef9cd9"
      },
      "source": [
        "Jetro.boxplot(column=\"Unique Visitor\\nstand prospect\",by=\"Portal & REF\")"
      ],
      "execution_count": null,
      "outputs": [
        {
          "output_type": "stream",
          "text": [
            "/usr/local/lib/python3.7/dist-packages/numpy/core/_asarray.py:83: VisibleDeprecationWarning: Creating an ndarray from ragged nested sequences (which is a list-or-tuple of lists-or-tuples-or ndarrays with different lengths or shapes) is deprecated. If you meant to do this, you must specify 'dtype=object' when creating the ndarray\n",
            "  return array(a, dtype, copy=False, order=order)\n"
          ],
          "name": "stderr"
        },
        {
          "output_type": "execute_result",
          "data": {
            "text/plain": [
              "<matplotlib.axes._subplots.AxesSubplot at 0x7f2afcd79210>"
            ]
          },
          "metadata": {
            "tags": []
          },
          "execution_count": 31
        },
        {
          "output_type": "display_data",
          "data": {
            "image/png": "[encoded data removed]",
            "text/plain": [
              "<Figure size 432x288 with 1 Axes>"
            ]
          },
          "metadata": {
            "tags": [],
            "needs_background": "light"
          }
        }
      ]
    },
    {
      "cell_type": "code",
      "metadata": {
        "id": "msMlmrnWDlTa"
      },
      "source": [
        "Jetro.hist(column=\"Unique Visitor\\nstand prospect\",by=\"Portal & REF\")"
      ],
      "execution_count": null,
      "outputs": []
    },
    {
      "cell_type": "markdown",
      "metadata": {
        "id": "BPkc3_ZSEP5E"
      },
      "source": [
        "#LES TOPS"
      ]
    },
    {
      "cell_type": "code",
      "metadata": {
        "colab": {
          "base_uri": "https://localhost:8080/",
          "height": 476
        },
        "id": "96MvnUDPD-Jf",
        "outputId": "7d32f1f8-4c6c-4cec-83b1-fd52b13f914e"
      },
      "source": [
        "Jetro.sort_values(by=['Unique Visitor\\nstand prospect']).head(5)"
      ],
      "execution_count": null,
      "outputs": [
        {
          "output_type": "execute_result",
          "data": {
            "text/html": [
              "<div>\n",
              "<style scoped>\n",
              "    .dataframe tbody tr th:only-of-type {\n",
              "        vertical-align: middle;\n",
              "    }\n",
              "\n",
              "    .dataframe tbody tr th {\n",
              "        vertical-align: top;\n",
              "    }\n",
              "\n",
              "    .dataframe thead th {\n",
              "        text-align: right;\n",
              "    }\n",
              "</style>\n",
              "<table border=\"1\" class=\"dataframe\">\n",
              "  <thead>\n",
              "    <tr style=\"text-align: right;\">\n",
              "      <th></th>\n",
              "      <th>Portal</th>\n",
              "      <th>Ref fiche</th>\n",
              "      <th>Online since</th>\n",
              "      <th>Company name</th>\n",
              "      <th>Data collection date / per month</th>\n",
              "      <th>Month</th>\n",
              "      <th>URL statco</th>\n",
              "      <th>Online stand URL</th>\n",
              "      <th>Main category</th>\n",
              "      <th>Portal&amp;MainCat</th>\n",
              "      <th>Number of product pages</th>\n",
              "      <th>View\\ndisplay</th>\n",
              "      <th>Click</th>\n",
              "      <th>ADVERTISEMENT\\nDisplay</th>\n",
              "      <th>ADVERTISEMENT\\nClick</th>\n",
              "      <th>Sourcing &amp; Website Traffic\\nSearch Results page prospects</th>\n",
              "      <th>Sourcing &amp; Website Traffic\\nClick Throughs</th>\n",
              "      <th>Unique Visitor\\nstand prospect</th>\n",
              "      <th>See\\n Price Options/Where to Buy Prospects</th>\n",
              "      <th>Requests</th>\n",
              "    </tr>\n",
              "    <tr>\n",
              "      <th>Portal &amp; REF</th>\n",
              "      <th></th>\n",
              "      <th></th>\n",
              "      <th></th>\n",
              "      <th></th>\n",
              "      <th></th>\n",
              "      <th></th>\n",
              "      <th></th>\n",
              "      <th></th>\n",
              "      <th></th>\n",
              "      <th></th>\n",
              "      <th></th>\n",
              "      <th></th>\n",
              "      <th></th>\n",
              "      <th></th>\n",
              "      <th></th>\n",
              "      <th></th>\n",
              "      <th></th>\n",
              "      <th></th>\n",
              "      <th></th>\n",
              "      <th></th>\n",
              "    </tr>\n",
              "  </thead>\n",
              "  <tbody>\n",
              "    <tr>\n",
              "      <th>AE167299</th>\n",
              "      <td>AE</td>\n",
              "      <td>167299</td>\n",
              "      <td>2020-12-01</td>\n",
              "      <td>nagasawa mfg</td>\n",
              "      <td>2020-12-31</td>\n",
              "      <td>12</td>\n",
              "      <td>https://secure.archiexpo.com/statsco-backoffic...</td>\n",
              "      <td>https://www.archiexpo.com/prod/nagasawa-manufa...</td>\n",
              "      <td>Doors, Garage doors, Gates</td>\n",
              "      <td>AE-Doors, Garage doors, Gates</td>\n",
              "      <td>1</td>\n",
              "      <td>1814</td>\n",
              "      <td>35</td>\n",
              "      <td>5019</td>\n",
              "      <td>9</td>\n",
              "      <td>13</td>\n",
              "      <td>4</td>\n",
              "      <td>0</td>\n",
              "      <td>0</td>\n",
              "      <td>0</td>\n",
              "    </tr>\n",
              "    <tr>\n",
              "      <th>ME131320</th>\n",
              "      <td>ME</td>\n",
              "      <td>131320</td>\n",
              "      <td>2020-12-01</td>\n",
              "      <td>nagasawa mfg</td>\n",
              "      <td>2020-12-31</td>\n",
              "      <td>12</td>\n",
              "      <td>https://secure.medicalexpo.com/statsco-backoff...</td>\n",
              "      <td>https://www.medicalexpo.com/prod/nagasawa-manu...</td>\n",
              "      <td>Hospital infrastructure</td>\n",
              "      <td>ME-Hospital infrastructure</td>\n",
              "      <td>1</td>\n",
              "      <td>191</td>\n",
              "      <td>13</td>\n",
              "      <td>964</td>\n",
              "      <td>2</td>\n",
              "      <td>2</td>\n",
              "      <td>0</td>\n",
              "      <td>0</td>\n",
              "      <td>0</td>\n",
              "      <td>0</td>\n",
              "    </tr>\n",
              "    <tr>\n",
              "      <th>DI233379</th>\n",
              "      <td>DI</td>\n",
              "      <td>233379</td>\n",
              "      <td>2021-02-11</td>\n",
              "      <td>ULVAC, Inc.</td>\n",
              "      <td>2021-02-28</td>\n",
              "      <td>2</td>\n",
              "      <td>https://secure.directindustry.com/statsco-back...</td>\n",
              "      <td>https://www.directindustry.com/prod/ulvac-inc-...</td>\n",
              "      <td>Pumps</td>\n",
              "      <td>DI-Pumps</td>\n",
              "      <td>3</td>\n",
              "      <td>1060</td>\n",
              "      <td>36</td>\n",
              "      <td>1261</td>\n",
              "      <td>7</td>\n",
              "      <td>4</td>\n",
              "      <td>0</td>\n",
              "      <td>0</td>\n",
              "      <td>0</td>\n",
              "      <td>0</td>\n",
              "    </tr>\n",
              "    <tr>\n",
              "      <th>DI234227</th>\n",
              "      <td>DI</td>\n",
              "      <td>234227</td>\n",
              "      <td>2021-02-11</td>\n",
              "      <td>Kumahira</td>\n",
              "      <td>2021-02-28</td>\n",
              "      <td>2</td>\n",
              "      <td>https://secure.directindustry.com/statsco-back...</td>\n",
              "      <td>https://www.directindustry.com/prod/kumahira-2...</td>\n",
              "      <td>Industrial Building Equipment</td>\n",
              "      <td>DI-Industrial Building Equipment</td>\n",
              "      <td>18</td>\n",
              "      <td>1346</td>\n",
              "      <td>7</td>\n",
              "      <td>1485</td>\n",
              "      <td>0</td>\n",
              "      <td>18</td>\n",
              "      <td>0</td>\n",
              "      <td>0</td>\n",
              "      <td>0</td>\n",
              "      <td>0</td>\n",
              "    </tr>\n",
              "    <tr>\n",
              "      <th>DI234259</th>\n",
              "      <td>DI</td>\n",
              "      <td>234259</td>\n",
              "      <td>2021-02-11</td>\n",
              "      <td>Pi Photonics</td>\n",
              "      <td>2021-03-16</td>\n",
              "      <td>3</td>\n",
              "      <td>https://secure.directindustry.com/statsco-back...</td>\n",
              "      <td>https://www.directindustry.com/prod/pi-photoni...</td>\n",
              "      <td>Industrial Building Equipment</td>\n",
              "      <td>DI-Industrial Building Equipment</td>\n",
              "      <td>6</td>\n",
              "      <td>812</td>\n",
              "      <td>14</td>\n",
              "      <td>1498</td>\n",
              "      <td>1</td>\n",
              "      <td>12</td>\n",
              "      <td>1</td>\n",
              "      <td>0</td>\n",
              "      <td>0</td>\n",
              "      <td>0</td>\n",
              "    </tr>\n",
              "  </tbody>\n",
              "</table>\n",
              "</div>"
            ],
            "text/plain": [
              "             Portal  ...  Requests\n",
              "Portal & REF         ...          \n",
              "AE167299         AE  ...         0\n",
              "ME131320         ME  ...         0\n",
              "DI233379         DI  ...         0\n",
              "DI234227         DI  ...         0\n",
              "DI234259         DI  ...         0\n",
              "\n",
              "[5 rows x 20 columns]"
            ]
          },
          "metadata": {
            "tags": []
          },
          "execution_count": 115
        }
      ]
    },
    {
      "cell_type": "markdown",
      "metadata": {
        "id": "mp8HD-TMEV-3"
      },
      "source": [
        "#PIVOT"
      ]
    },
    {
      "cell_type": "code",
      "metadata": {
        "colab": {
          "base_uri": "https://localhost:8080/",
          "height": 481
        },
        "id": "vl_VFDDPEPIv",
        "outputId": "0f9748db-9f2a-4643-8008-1efe8e3612f1"
      },
      "source": [
        "df_pivot = pd.pivot_table(Jetro, index=['Portal & REF'], columns = ['Month'],values=['Unique Visitor\\nstand prospect'], fill_value=0)\n",
        "df_pivot"
      ],
      "execution_count": null,
      "outputs": [
        {
          "output_type": "execute_result",
          "data": {
            "text/html": [
              "<div>\n",
              "<style scoped>\n",
              "    .dataframe tbody tr th:only-of-type {\n",
              "        vertical-align: middle;\n",
              "    }\n",
              "\n",
              "    .dataframe tbody tr th {\n",
              "        vertical-align: top;\n",
              "    }\n",
              "\n",
              "    .dataframe thead tr th {\n",
              "        text-align: left;\n",
              "    }\n",
              "\n",
              "    .dataframe thead tr:last-of-type th {\n",
              "        text-align: right;\n",
              "    }\n",
              "</style>\n",
              "<table border=\"1\" class=\"dataframe\">\n",
              "  <thead>\n",
              "    <tr>\n",
              "      <th></th>\n",
              "      <th colspan=\"4\" halign=\"left\">Unique Visitor\\nstand prospect</th>\n",
              "    </tr>\n",
              "    <tr>\n",
              "      <th>Month</th>\n",
              "      <th>1</th>\n",
              "      <th>2</th>\n",
              "      <th>3</th>\n",
              "      <th>12</th>\n",
              "    </tr>\n",
              "    <tr>\n",
              "      <th>Portal &amp; REF</th>\n",
              "      <th></th>\n",
              "      <th></th>\n",
              "      <th></th>\n",
              "      <th></th>\n",
              "    </tr>\n",
              "  </thead>\n",
              "  <tbody>\n",
              "    <tr>\n",
              "      <th>AE133867</th>\n",
              "      <td>0</td>\n",
              "      <td>13</td>\n",
              "      <td>6</td>\n",
              "      <td>0</td>\n",
              "    </tr>\n",
              "    <tr>\n",
              "      <th>AE162535</th>\n",
              "      <td>64</td>\n",
              "      <td>1</td>\n",
              "      <td>195</td>\n",
              "      <td>0</td>\n",
              "    </tr>\n",
              "    <tr>\n",
              "      <th>AE167235</th>\n",
              "      <td>28</td>\n",
              "      <td>14</td>\n",
              "      <td>4</td>\n",
              "      <td>15</td>\n",
              "    </tr>\n",
              "    <tr>\n",
              "      <th>AE167236</th>\n",
              "      <td>96</td>\n",
              "      <td>7</td>\n",
              "      <td>6</td>\n",
              "      <td>0</td>\n",
              "    </tr>\n",
              "    <tr>\n",
              "      <th>AE167299</th>\n",
              "      <td>5</td>\n",
              "      <td>2</td>\n",
              "      <td>869</td>\n",
              "      <td>0</td>\n",
              "    </tr>\n",
              "    <tr>\n",
              "      <th>...</th>\n",
              "      <td>...</td>\n",
              "      <td>...</td>\n",
              "      <td>...</td>\n",
              "      <td>...</td>\n",
              "    </tr>\n",
              "    <tr>\n",
              "      <th>ME205006</th>\n",
              "      <td>0</td>\n",
              "      <td>18</td>\n",
              "      <td>314</td>\n",
              "      <td>0</td>\n",
              "    </tr>\n",
              "    <tr>\n",
              "      <th>ME68996</th>\n",
              "      <td>6</td>\n",
              "      <td>3</td>\n",
              "      <td>178</td>\n",
              "      <td>4</td>\n",
              "    </tr>\n",
              "    <tr>\n",
              "      <th>ME70272</th>\n",
              "      <td>36</td>\n",
              "      <td>20</td>\n",
              "      <td>339</td>\n",
              "      <td>8</td>\n",
              "    </tr>\n",
              "    <tr>\n",
              "      <th>NE199051</th>\n",
              "      <td>22</td>\n",
              "      <td>603</td>\n",
              "      <td>21</td>\n",
              "      <td>440</td>\n",
              "    </tr>\n",
              "    <tr>\n",
              "      <th>NE47368</th>\n",
              "      <td>0</td>\n",
              "      <td>105</td>\n",
              "      <td>9</td>\n",
              "      <td>0</td>\n",
              "    </tr>\n",
              "  </tbody>\n",
              "</table>\n",
              "<p>76 rows × 4 columns</p>\n",
              "</div>"
            ],
            "text/plain": [
              "             Unique Visitor\\nstand prospect               \n",
              "Month                                    1    2    3    12\n",
              "Portal & REF                                              \n",
              "AE133867                                  0   13    6    0\n",
              "AE162535                                 64    1  195    0\n",
              "AE167235                                 28   14    4   15\n",
              "AE167236                                 96    7    6    0\n",
              "AE167299                                  5    2  869    0\n",
              "...                                     ...  ...  ...  ...\n",
              "ME205006                                  0   18  314    0\n",
              "ME68996                                   6    3  178    4\n",
              "ME70272                                  36   20  339    8\n",
              "NE199051                                 22  603   21  440\n",
              "NE47368                                   0  105    9    0\n",
              "\n",
              "[76 rows x 4 columns]"
            ]
          },
          "metadata": {
            "tags": []
          },
          "execution_count": 33
        }
      ]
    },
    {
      "cell_type": "code",
      "metadata": {
        "colab": {
          "base_uri": "https://localhost:8080/",
          "height": 266
        },
        "id": "XNcN4j39juV8",
        "outputId": "4953f1bb-c9e7-43fe-e526-68e51c0043cf"
      },
      "source": [
        "df_pivot.head()"
      ],
      "execution_count": null,
      "outputs": [
        {
          "output_type": "execute_result",
          "data": {
            "text/html": [
              "<div>\n",
              "<style scoped>\n",
              "    .dataframe tbody tr th:only-of-type {\n",
              "        vertical-align: middle;\n",
              "    }\n",
              "\n",
              "    .dataframe tbody tr th {\n",
              "        vertical-align: top;\n",
              "    }\n",
              "\n",
              "    .dataframe thead tr th {\n",
              "        text-align: left;\n",
              "    }\n",
              "\n",
              "    .dataframe thead tr:last-of-type th {\n",
              "        text-align: right;\n",
              "    }\n",
              "</style>\n",
              "<table border=\"1\" class=\"dataframe\">\n",
              "  <thead>\n",
              "    <tr>\n",
              "      <th></th>\n",
              "      <th colspan=\"4\" halign=\"left\">Unique Visitor\\nstand prospect</th>\n",
              "    </tr>\n",
              "    <tr>\n",
              "      <th>Month</th>\n",
              "      <th>1</th>\n",
              "      <th>2</th>\n",
              "      <th>3</th>\n",
              "      <th>12</th>\n",
              "    </tr>\n",
              "    <tr>\n",
              "      <th>Portal &amp; REF</th>\n",
              "      <th></th>\n",
              "      <th></th>\n",
              "      <th></th>\n",
              "      <th></th>\n",
              "    </tr>\n",
              "  </thead>\n",
              "  <tbody>\n",
              "    <tr>\n",
              "      <th>AE133867</th>\n",
              "      <td>0</td>\n",
              "      <td>13</td>\n",
              "      <td>6</td>\n",
              "      <td>0</td>\n",
              "    </tr>\n",
              "    <tr>\n",
              "      <th>AE162535</th>\n",
              "      <td>64</td>\n",
              "      <td>1</td>\n",
              "      <td>195</td>\n",
              "      <td>0</td>\n",
              "    </tr>\n",
              "    <tr>\n",
              "      <th>AE167235</th>\n",
              "      <td>28</td>\n",
              "      <td>14</td>\n",
              "      <td>4</td>\n",
              "      <td>15</td>\n",
              "    </tr>\n",
              "    <tr>\n",
              "      <th>AE167236</th>\n",
              "      <td>96</td>\n",
              "      <td>7</td>\n",
              "      <td>6</td>\n",
              "      <td>0</td>\n",
              "    </tr>\n",
              "    <tr>\n",
              "      <th>AE167299</th>\n",
              "      <td>5</td>\n",
              "      <td>2</td>\n",
              "      <td>869</td>\n",
              "      <td>0</td>\n",
              "    </tr>\n",
              "  </tbody>\n",
              "</table>\n",
              "</div>"
            ],
            "text/plain": [
              "             Unique Visitor\\nstand prospect             \n",
              "Month                                    1   2    3   12\n",
              "Portal & REF                                            \n",
              "AE133867                                  0  13    6   0\n",
              "AE162535                                 64   1  195   0\n",
              "AE167235                                 28  14    4  15\n",
              "AE167236                                 96   7    6   0\n",
              "AE167299                                  5   2  869   0"
            ]
          },
          "metadata": {
            "tags": []
          },
          "execution_count": 51
        }
      ]
    },
    {
      "cell_type": "code",
      "metadata": {
        "colab": {
          "base_uri": "https://localhost:8080/"
        },
        "id": "DAd95qcykWLO",
        "outputId": "5ae39f26-ab89-465e-d32b-aafef5f284ca"
      },
      "source": [
        "df_pivot.columns.values"
      ],
      "execution_count": null,
      "outputs": [
        {
          "output_type": "execute_result",
          "data": {
            "text/plain": [
              "array([('Unique Visitor\\nstand prospect', 1),\n",
              "       ('Unique Visitor\\nstand prospect', 2),\n",
              "       ('Unique Visitor\\nstand prospect', 3),\n",
              "       ('Unique Visitor\\nstand prospect', 12)], dtype=object)"
            ]
          },
          "metadata": {
            "tags": []
          },
          "execution_count": 52
        }
      ]
    },
    {
      "cell_type": "code",
      "metadata": {
        "colab": {
          "base_uri": "https://localhost:8080/",
          "height": 282
        },
        "id": "0vfzGTP3kjk9",
        "outputId": "ff6abaab-0f2d-478b-e76d-07f29ecde193"
      },
      "source": [
        "plt.plot(['Portal & REF'],['Unique Visitor\\nstand prospect'] , label=\"line L\") #on se rapproche"
      ],
      "execution_count": null,
      "outputs": [
        {
          "output_type": "execute_result",
          "data": {
            "text/plain": [
              "[<matplotlib.lines.Line2D at 0x7f2af8585310>]"
            ]
          },
          "metadata": {
            "tags": []
          },
          "execution_count": 56
        },
        {
          "output_type": "display_data",
          "data": {
            "image/png": "[encoded data removed]",
            "text/plain": [
              "<Figure size 432x288 with 1 Axes>"
            ]
          },
          "metadata": {
            "tags": [],
            "needs_background": "light"
          }
        }
      ]
    },
    {
      "cell_type": "code",
      "metadata": {
        "colab": {
          "base_uri": "https://localhost:8080/",
          "height": 542
        },
        "id": "1kBD8iz8lT5E",
        "outputId": "ddde778c-235d-4d1c-be45-1a57daa5e5c4"
      },
      "source": [
        "import pandas as pd\n",
        "import plotly.express as px\n",
        "fig = px.line(df_pivot, ('Unique Visitor\\nstand prospect', 1), ('Unique Visitor\\nstand prospect', 2), title='Tentative ')\n",
        "fig.show()"
      ],
      "execution_count": null,
      "outputs": [
        {
          "output_type": "display_data",
          "data": {
            "text/html": [
              "<html>\n",
              "<head><meta charset=\"utf-8\" /></head>\n",
              "<body>\n",
              "    <div>\n",
              "            <script src=\"https://cdnjs.cloudflare.com/ajax/libs/mathjax/2.7.5/MathJax.js?config=TeX-AMS-MML_SVG\"></script><script type=\"text/javascript\">if (window.MathJax) {MathJax.Hub.Config({SVG: {font: \"STIX-Web\"}});}</script>\n",
              "                <script type=\"text/javascript\">window.PlotlyConfig = {MathJaxConfig: 'local'};</script>\n",
              "        <script src=\"https://cdn.plot.ly/plotly-latest.min.js\"></script>    \n",
              "            <div id=\"7e6cbff2-a9c8-4692-824f-c41b8c8d5422\" class=\"plotly-graph-div\" style=\"height:525px; width:100%;\"></div>\n",
              "            <script type=\"text/javascript\">\n",
              "                \n",
              "                    window.PLOTLYENV=window.PLOTLYENV || {};\n",
              "                    \n",
              "                if (document.getElementById(\"7e6cbff2-a9c8-4692-824f-c41b8c8d5422\")) {\n",
              "                    Plotly.newPlot(\n",
              "                        '7e6cbff2-a9c8-4692-824f-c41b8c8d5422',\n",
              "                        [{\"hoverlabel\": {\"namelength\": 0}, \"hovertemplate\": \"x=%{x}<br>y=%{y}\", \"legendgroup\": \"\", \"line\": {\"color\": \"#636efa\", \"dash\": \"solid\"}, \"mode\": \"lines\", \"name\": \"\", \"showlegend\": false, \"type\": \"scatter\", \"x\": [\"Unique Visitor\\nstand prospect\", \"1\"], \"xaxis\": \"x\", \"y\": [\"Unique Visitor\\nstand prospect\", \"2\"], \"yaxis\": \"y\"}],\n",
              "                        {\"legend\": {\"tracegroupgap\": 0}, \"template\": {\"data\": {\"bar\": [{\"error_x\": {\"color\": \"#2a3f5f\"}, \"error_y\": {\"color\": \"#2a3f5f\"}, \"marker\": {\"line\": {\"color\": \"#E5ECF6\", \"width\": 0.5}}, \"type\": \"bar\"}], \"barpolar\": [{\"marker\": {\"line\": {\"color\": \"#E5ECF6\", \"width\": 0.5}}, \"type\": \"barpolar\"}], \"carpet\": [{\"aaxis\": {\"endlinecolor\": \"#2a3f5f\", \"gridcolor\": \"white\", \"linecolor\": \"white\", \"minorgridcolor\": \"white\", \"startlinecolor\": \"#2a3f5f\"}, \"baxis\": {\"endlinecolor\": \"#2a3f5f\", \"gridcolor\": \"white\", \"linecolor\": \"white\", \"minorgridcolor\": \"white\", \"startlinecolor\": \"#2a3f5f\"}, \"type\": \"carpet\"}], \"choropleth\": [{\"colorbar\": {\"outlinewidth\": 0, \"ticks\": \"\"}, \"type\": \"choropleth\"}], \"contour\": [{\"colorbar\": {\"outlinewidth\": 0, \"ticks\": \"\"}, \"colorscale\": [[0.0, \"#0d0887\"], [0.1111111111111111, \"#46039f\"], [0.2222222222222222, \"#7201a8\"], [0.3333333333333333, \"#9c179e\"], [0.4444444444444444, \"#bd3786\"], [0.5555555555555556, \"#d8576b\"], [0.6666666666666666, \"#ed7953\"], [0.7777777777777778, \"#fb9f3a\"], [0.8888888888888888, \"#fdca26\"], [1.0, \"#f0f921\"]], \"type\": \"contour\"}], \"contourcarpet\": [{\"colorbar\": {\"outlinewidth\": 0, \"ticks\": \"\"}, \"type\": \"contourcarpet\"}], \"heatmap\": [{\"colorbar\": {\"outlinewidth\": 0, \"ticks\": \"\"}, \"colorscale\": [[0.0, \"#0d0887\"], [0.1111111111111111, \"#46039f\"], [0.2222222222222222, \"#7201a8\"], [0.3333333333333333, \"#9c179e\"], [0.4444444444444444, \"#bd3786\"], [0.5555555555555556, \"#d8576b\"], [0.6666666666666666, \"#ed7953\"], [0.7777777777777778, \"#fb9f3a\"], [0.8888888888888888, \"#fdca26\"], [1.0, \"#f0f921\"]], \"type\": \"heatmap\"}], \"heatmapgl\": [{\"colorbar\": {\"outlinewidth\": 0, \"ticks\": \"\"}, \"colorscale\": [[0.0, \"#0d0887\"], [0.1111111111111111, \"#46039f\"], [0.2222222222222222, \"#7201a8\"], [0.3333333333333333, \"#9c179e\"], [0.4444444444444444, \"#bd3786\"], [0.5555555555555556, \"#d8576b\"], [0.6666666666666666, \"#ed7953\"], [0.7777777777777778, \"#fb9f3a\"], [0.8888888888888888, \"#fdca26\"], [1.0, \"#f0f921\"]], \"type\": \"heatmapgl\"}], \"histogram\": [{\"marker\": {\"colorbar\": {\"outlinewidth\": 0, \"ticks\": \"\"}}, \"type\": \"histogram\"}], \"histogram2d\": [{\"colorbar\": {\"outlinewidth\": 0, \"ticks\": \"\"}, \"colorscale\": [[0.0, \"#0d0887\"], [0.1111111111111111, \"#46039f\"], [0.2222222222222222, \"#7201a8\"], [0.3333333333333333, \"#9c179e\"], [0.4444444444444444, \"#bd3786\"], [0.5555555555555556, \"#d8576b\"], [0.6666666666666666, \"#ed7953\"], [0.7777777777777778, \"#fb9f3a\"], [0.8888888888888888, \"#fdca26\"], [1.0, \"#f0f921\"]], \"type\": \"histogram2d\"}], \"histogram2dcontour\": [{\"colorbar\": {\"outlinewidth\": 0, \"ticks\": \"\"}, \"colorscale\": [[0.0, \"#0d0887\"], [0.1111111111111111, \"#46039f\"], [0.2222222222222222, \"#7201a8\"], [0.3333333333333333, \"#9c179e\"], [0.4444444444444444, \"#bd3786\"], [0.5555555555555556, \"#d8576b\"], [0.6666666666666666, \"#ed7953\"], [0.7777777777777778, \"#fb9f3a\"], [0.8888888888888888, \"#fdca26\"], [1.0, \"#f0f921\"]], \"type\": \"histogram2dcontour\"}], \"mesh3d\": [{\"colorbar\": {\"outlinewidth\": 0, \"ticks\": \"\"}, \"type\": \"mesh3d\"}], \"parcoords\": [{\"line\": {\"colorbar\": {\"outlinewidth\": 0, \"ticks\": \"\"}}, \"type\": \"parcoords\"}], \"pie\": [{\"automargin\": true, \"type\": \"pie\"}], \"scatter\": [{\"marker\": {\"colorbar\": {\"outlinewidth\": 0, \"ticks\": \"\"}}, \"type\": \"scatter\"}], \"scatter3d\": [{\"line\": {\"colorbar\": {\"outlinewidth\": 0, \"ticks\": \"\"}}, \"marker\": {\"colorbar\": {\"outlinewidth\": 0, \"ticks\": \"\"}}, \"type\": \"scatter3d\"}], \"scattercarpet\": [{\"marker\": {\"colorbar\": {\"outlinewidth\": 0, \"ticks\": \"\"}}, \"type\": \"scattercarpet\"}], \"scattergeo\": [{\"marker\": {\"colorbar\": {\"outlinewidth\": 0, \"ticks\": \"\"}}, \"type\": \"scattergeo\"}], \"scattergl\": [{\"marker\": {\"colorbar\": {\"outlinewidth\": 0, \"ticks\": \"\"}}, \"type\": \"scattergl\"}], \"scattermapbox\": [{\"marker\": {\"colorbar\": {\"outlinewidth\": 0, \"ticks\": \"\"}}, \"type\": \"scattermapbox\"}], \"scatterpolar\": [{\"marker\": {\"colorbar\": {\"outlinewidth\": 0, \"ticks\": \"\"}}, \"type\": \"scatterpolar\"}], \"scatterpolargl\": [{\"marker\": {\"colorbar\": {\"outlinewidth\": 0, \"ticks\": \"\"}}, \"type\": \"scatterpolargl\"}], \"scatterternary\": [{\"marker\": {\"colorbar\": {\"outlinewidth\": 0, \"ticks\": \"\"}}, \"type\": \"scatterternary\"}], \"surface\": [{\"colorbar\": {\"outlinewidth\": 0, \"ticks\": \"\"}, \"colorscale\": [[0.0, \"#0d0887\"], [0.1111111111111111, \"#46039f\"], [0.2222222222222222, \"#7201a8\"], [0.3333333333333333, \"#9c179e\"], [0.4444444444444444, \"#bd3786\"], [0.5555555555555556, \"#d8576b\"], [0.6666666666666666, \"#ed7953\"], [0.7777777777777778, \"#fb9f3a\"], [0.8888888888888888, \"#fdca26\"], [1.0, \"#f0f921\"]], \"type\": \"surface\"}], \"table\": [{\"cells\": {\"fill\": {\"color\": \"#EBF0F8\"}, \"line\": {\"color\": \"white\"}}, \"header\": {\"fill\": {\"color\": \"#C8D4E3\"}, \"line\": {\"color\": \"white\"}}, \"type\": \"table\"}]}, \"layout\": {\"annotationdefaults\": {\"arrowcolor\": \"#2a3f5f\", \"arrowhead\": 0, \"arrowwidth\": 1}, \"coloraxis\": {\"colorbar\": {\"outlinewidth\": 0, \"ticks\": \"\"}}, \"colorscale\": {\"diverging\": [[0, \"#8e0152\"], [0.1, \"#c51b7d\"], [0.2, \"#de77ae\"], [0.3, \"#f1b6da\"], [0.4, \"#fde0ef\"], [0.5, \"#f7f7f7\"], [0.6, \"#e6f5d0\"], [0.7, \"#b8e186\"], [0.8, \"#7fbc41\"], [0.9, \"#4d9221\"], [1, \"#276419\"]], \"sequential\": [[0.0, \"#0d0887\"], [0.1111111111111111, \"#46039f\"], [0.2222222222222222, \"#7201a8\"], [0.3333333333333333, \"#9c179e\"], [0.4444444444444444, \"#bd3786\"], [0.5555555555555556, \"#d8576b\"], [0.6666666666666666, \"#ed7953\"], [0.7777777777777778, \"#fb9f3a\"], [0.8888888888888888, \"#fdca26\"], [1.0, \"#f0f921\"]], \"sequentialminus\": [[0.0, \"#0d0887\"], [0.1111111111111111, \"#46039f\"], [0.2222222222222222, \"#7201a8\"], [0.3333333333333333, \"#9c179e\"], [0.4444444444444444, \"#bd3786\"], [0.5555555555555556, \"#d8576b\"], [0.6666666666666666, \"#ed7953\"], [0.7777777777777778, \"#fb9f3a\"], [0.8888888888888888, \"#fdca26\"], [1.0, \"#f0f921\"]]}, \"colorway\": [\"#636efa\", \"#EF553B\", \"#00cc96\", \"#ab63fa\", \"#FFA15A\", \"#19d3f3\", \"#FF6692\", \"#B6E880\", \"#FF97FF\", \"#FECB52\"], \"font\": {\"color\": \"#2a3f5f\"}, \"geo\": {\"bgcolor\": \"white\", \"lakecolor\": \"white\", \"landcolor\": \"#E5ECF6\", \"showlakes\": true, \"showland\": true, \"subunitcolor\": \"white\"}, \"hoverlabel\": {\"align\": \"left\"}, \"hovermode\": \"closest\", \"mapbox\": {\"style\": \"light\"}, \"paper_bgcolor\": \"white\", \"plot_bgcolor\": \"#E5ECF6\", \"polar\": {\"angularaxis\": {\"gridcolor\": \"white\", \"linecolor\": \"white\", \"ticks\": \"\"}, \"bgcolor\": \"#E5ECF6\", \"radialaxis\": {\"gridcolor\": \"white\", \"linecolor\": \"white\", \"ticks\": \"\"}}, \"scene\": {\"xaxis\": {\"backgroundcolor\": \"#E5ECF6\", \"gridcolor\": \"white\", \"gridwidth\": 2, \"linecolor\": \"white\", \"showbackground\": true, \"ticks\": \"\", \"zerolinecolor\": \"white\"}, \"yaxis\": {\"backgroundcolor\": \"#E5ECF6\", \"gridcolor\": \"white\", \"gridwidth\": 2, \"linecolor\": \"white\", \"showbackground\": true, \"ticks\": \"\", \"zerolinecolor\": \"white\"}, \"zaxis\": {\"backgroundcolor\": \"#E5ECF6\", \"gridcolor\": \"white\", \"gridwidth\": 2, \"linecolor\": \"white\", \"showbackground\": true, \"ticks\": \"\", \"zerolinecolor\": \"white\"}}, \"shapedefaults\": {\"line\": {\"color\": \"#2a3f5f\"}}, \"ternary\": {\"aaxis\": {\"gridcolor\": \"white\", \"linecolor\": \"white\", \"ticks\": \"\"}, \"baxis\": {\"gridcolor\": \"white\", \"linecolor\": \"white\", \"ticks\": \"\"}, \"bgcolor\": \"#E5ECF6\", \"caxis\": {\"gridcolor\": \"white\", \"linecolor\": \"white\", \"ticks\": \"\"}}, \"title\": {\"x\": 0.05}, \"xaxis\": {\"automargin\": true, \"gridcolor\": \"white\", \"linecolor\": \"white\", \"ticks\": \"\", \"title\": {\"standoff\": 15}, \"zerolinecolor\": \"white\", \"zerolinewidth\": 2}, \"yaxis\": {\"automargin\": true, \"gridcolor\": \"white\", \"linecolor\": \"white\", \"ticks\": \"\", \"title\": {\"standoff\": 15}, \"zerolinecolor\": \"white\", \"zerolinewidth\": 2}}}, \"title\": {\"text\": \"Tentative \"}, \"xaxis\": {\"anchor\": \"y\", \"domain\": [0.0, 1.0], \"title\": {\"text\": \"x\"}}, \"yaxis\": {\"anchor\": \"x\", \"domain\": [0.0, 1.0], \"title\": {\"text\": \"y\"}}},\n",
              "                        {\"responsive\": true}\n",
              "                    ).then(function(){\n",
              "                            \n",
              "var gd = document.getElementById('7e6cbff2-a9c8-4692-824f-c41b8c8d5422');\n",
              "var x = new MutationObserver(function (mutations, observer) {{\n",
              "        var display = window.getComputedStyle(gd).display;\n",
              "        if (!display || display === 'none') {{\n",
              "            console.log([gd, 'removed!']);\n",
              "            Plotly.purge(gd);\n",
              "            observer.disconnect();\n",
              "        }}\n",
              "}});\n",
              "\n",
              "// Listen for the removal of the full notebook cells\n",
              "var notebookContainer = gd.closest('#notebook-container');\n",
              "if (notebookContainer) {{\n",
              "    x.observe(notebookContainer, {childList: true});\n",
              "}}\n",
              "\n",
              "// Listen for the clearing of the current output cell\n",
              "var outputEl = gd.closest('.output');\n",
              "if (outputEl) {{\n",
              "    x.observe(outputEl, {childList: true});\n",
              "}}\n",
              "\n",
              "                        })\n",
              "                };\n",
              "                \n",
              "            </script>\n",
              "        </div>\n",
              "</body>\n",
              "</html>"
            ]
          },
          "metadata": {
            "tags": []
          }
        }
      ]
    },
    {
      "cell_type": "markdown",
      "metadata": {
        "id": "LfWvpWkrixuZ"
      },
      "source": [
        "#PieChart\n"
      ]
    },
    {
      "cell_type": "code",
      "metadata": {
        "colab": {
          "base_uri": "https://localhost:8080/",
          "height": 264
        },
        "id": "ZdEG-d4g4U6v",
        "outputId": "00e0ab59-bb63-416e-8a0b-cd641bd20b49"
      },
      "source": [
        "labels = 'S1', 'S2', 'S3'\n",
        "sections = [56, 66, 24]\n",
        "colors = ['c', 'g', 'y']\n",
        "\n",
        "plt.pie(sections, labels=labels, colors=colors,\n",
        "        startangle=90,\n",
        "        explode = (0, 0.1, 0),\n",
        "        autopct = '%1.2f%%')\n",
        "\n",
        "plt.axis('equal') # Try commenting this out.\n",
        "plt.title('Pie Chart Example')\n",
        "plt.show()"
      ],
      "execution_count": null,
      "outputs": [
        {
          "output_type": "display_data",
          "data": {
            "image/png": "[encoded data removed]",
            "text/plain": [
              "<Figure size 432x288 with 1 Axes>"
            ]
          },
          "metadata": {
            "tags": []
          }
        }
      ]
    },
    {
      "cell_type": "markdown",
      "metadata": {
        "id": "cfA8EprXcpyf"
      },
      "source": [
        "#Fin "
      ]
    },
    {
      "cell_type": "code",
      "metadata": {
        "colab": {
          "base_uri": "https://localhost:8080/",
          "height": 476
        },
        "id": "uRrPc7DKE2lX",
        "outputId": "4b4985b6-536a-4fd8-fa58-254da1df5eb3"
      },
      "source": [
        "Jetro.sort_values(by=['Portal & REF']).head(5)"
      ],
      "execution_count": null,
      "outputs": [
        {
          "output_type": "execute_result",
          "data": {
            "text/html": [
              "<div>\n",
              "<style scoped>\n",
              "    .dataframe tbody tr th:only-of-type {\n",
              "        vertical-align: middle;\n",
              "    }\n",
              "\n",
              "    .dataframe tbody tr th {\n",
              "        vertical-align: top;\n",
              "    }\n",
              "\n",
              "    .dataframe thead th {\n",
              "        text-align: right;\n",
              "    }\n",
              "</style>\n",
              "<table border=\"1\" class=\"dataframe\">\n",
              "  <thead>\n",
              "    <tr style=\"text-align: right;\">\n",
              "      <th></th>\n",
              "      <th>Portal</th>\n",
              "      <th>Ref fiche</th>\n",
              "      <th>Online since</th>\n",
              "      <th>Company name</th>\n",
              "      <th>Data collection date / per month</th>\n",
              "      <th>Month</th>\n",
              "      <th>URL statco</th>\n",
              "      <th>Online stand URL</th>\n",
              "      <th>Main category</th>\n",
              "      <th>Portal&amp;MainCat</th>\n",
              "      <th>Number of product pages</th>\n",
              "      <th>View\\ndisplay</th>\n",
              "      <th>Click</th>\n",
              "      <th>ADVERTISEMENT\\nDisplay</th>\n",
              "      <th>ADVERTISEMENT\\nClick</th>\n",
              "      <th>Sourcing &amp; Website Traffic\\nSearch Results page prospects</th>\n",
              "      <th>Sourcing &amp; Website Traffic\\nClick Throughs</th>\n",
              "      <th>Unique Visitor\\nstand prospect</th>\n",
              "      <th>See\\n Price Options/Where to Buy Prospects</th>\n",
              "      <th>Requests</th>\n",
              "    </tr>\n",
              "    <tr>\n",
              "      <th>Portal &amp; REF</th>\n",
              "      <th></th>\n",
              "      <th></th>\n",
              "      <th></th>\n",
              "      <th></th>\n",
              "      <th></th>\n",
              "      <th></th>\n",
              "      <th></th>\n",
              "      <th></th>\n",
              "      <th></th>\n",
              "      <th></th>\n",
              "      <th></th>\n",
              "      <th></th>\n",
              "      <th></th>\n",
              "      <th></th>\n",
              "      <th></th>\n",
              "      <th></th>\n",
              "      <th></th>\n",
              "      <th></th>\n",
              "      <th></th>\n",
              "      <th></th>\n",
              "    </tr>\n",
              "  </thead>\n",
              "  <tbody>\n",
              "    <tr>\n",
              "      <th>AE133867</th>\n",
              "      <td>AE</td>\n",
              "      <td>133867</td>\n",
              "      <td>2021-02-11</td>\n",
              "      <td>USTECH CORPORATION</td>\n",
              "      <td>2021-02-28</td>\n",
              "      <td>2</td>\n",
              "      <td>https://secure.archiexpo.com/statsco-backoffic...</td>\n",
              "      <td>https://www.archiexpo.com/prod/ustech-corporat...</td>\n",
              "      <td>Bathroom</td>\n",
              "      <td>AE-Bathroom</td>\n",
              "      <td>3</td>\n",
              "      <td>9810</td>\n",
              "      <td>205</td>\n",
              "      <td>2334</td>\n",
              "      <td>1</td>\n",
              "      <td>61</td>\n",
              "      <td>2</td>\n",
              "      <td>13</td>\n",
              "      <td>0</td>\n",
              "      <td>0</td>\n",
              "    </tr>\n",
              "    <tr>\n",
              "      <th>AE133867</th>\n",
              "      <td>AE</td>\n",
              "      <td>133867</td>\n",
              "      <td>2021-02-11</td>\n",
              "      <td>USTECH CORPORATION</td>\n",
              "      <td>2021-03-16</td>\n",
              "      <td>3</td>\n",
              "      <td>https://secure.archiexpo.com/statsco-backoffic...</td>\n",
              "      <td>https://www.archiexpo.com/prod/ustech-corporat...</td>\n",
              "      <td>Bathroom</td>\n",
              "      <td>AE-Bathroom</td>\n",
              "      <td>3</td>\n",
              "      <td>2825</td>\n",
              "      <td>82</td>\n",
              "      <td>5684</td>\n",
              "      <td>13</td>\n",
              "      <td>57</td>\n",
              "      <td>3</td>\n",
              "      <td>6</td>\n",
              "      <td>0</td>\n",
              "      <td>0</td>\n",
              "    </tr>\n",
              "    <tr>\n",
              "      <th>AE162535</th>\n",
              "      <td>AE</td>\n",
              "      <td>162535</td>\n",
              "      <td>2020-12-01</td>\n",
              "      <td>O.N. Industries Ltd.</td>\n",
              "      <td>2020-12-31</td>\n",
              "      <td>12</td>\n",
              "      <td>https://secure.archiexpo.com/statsco-backoffic...</td>\n",
              "      <td>https://www.archiexpo.com/prod/industries-ltd-...</td>\n",
              "      <td>Planting and accessories</td>\n",
              "      <td>AE-Planting and accessories</td>\n",
              "      <td>2</td>\n",
              "      <td>8183</td>\n",
              "      <td>49</td>\n",
              "      <td>1972</td>\n",
              "      <td>3</td>\n",
              "      <td>0</td>\n",
              "      <td>2</td>\n",
              "      <td>0</td>\n",
              "      <td>0</td>\n",
              "      <td>0</td>\n",
              "    </tr>\n",
              "    <tr>\n",
              "      <th>AE162535</th>\n",
              "      <td>AE</td>\n",
              "      <td>162535</td>\n",
              "      <td>2020-12-01</td>\n",
              "      <td>O.N. Industries Ltd.</td>\n",
              "      <td>2021-01-31</td>\n",
              "      <td>1</td>\n",
              "      <td>https://secure.archiexpo.com/statsco-backoffic...</td>\n",
              "      <td>https://www.archiexpo.com/prod/industries-ltd-...</td>\n",
              "      <td>Planting and accessories</td>\n",
              "      <td>AE-Planting and accessories</td>\n",
              "      <td>2</td>\n",
              "      <td>7735</td>\n",
              "      <td>36</td>\n",
              "      <td>4119</td>\n",
              "      <td>7</td>\n",
              "      <td>3</td>\n",
              "      <td>4</td>\n",
              "      <td>64</td>\n",
              "      <td>3</td>\n",
              "      <td>1</td>\n",
              "    </tr>\n",
              "    <tr>\n",
              "      <th>AE162535</th>\n",
              "      <td>AE</td>\n",
              "      <td>162535</td>\n",
              "      <td>2020-12-01</td>\n",
              "      <td>O.N. Industries Ltd.</td>\n",
              "      <td>2021-02-28</td>\n",
              "      <td>2</td>\n",
              "      <td>https://secure.archiexpo.com/statsco-backoffic...</td>\n",
              "      <td>https://www.archiexpo.com/prod/industries-ltd-...</td>\n",
              "      <td>Planting and accessories</td>\n",
              "      <td>AE-Planting and accessories</td>\n",
              "      <td>2</td>\n",
              "      <td>170</td>\n",
              "      <td>9</td>\n",
              "      <td>3504</td>\n",
              "      <td>6</td>\n",
              "      <td>0</td>\n",
              "      <td>2</td>\n",
              "      <td>1</td>\n",
              "      <td>0</td>\n",
              "      <td>0</td>\n",
              "    </tr>\n",
              "  </tbody>\n",
              "</table>\n",
              "</div>"
            ],
            "text/plain": [
              "             Portal  ...  Requests\n",
              "Portal & REF         ...          \n",
              "AE133867         AE  ...         0\n",
              "AE133867         AE  ...         0\n",
              "AE162535         AE  ...         0\n",
              "AE162535         AE  ...         1\n",
              "AE162535         AE  ...         0\n",
              "\n",
              "[5 rows x 20 columns]"
            ]
          },
          "metadata": {
            "tags": []
          },
          "execution_count": 50
        }
      ]
    },
    {
      "cell_type": "markdown",
      "metadata": {
        "id": "jxWI5tYncA4P"
      },
      "source": [
        "#Correlation"
      ]
    },
    {
      "cell_type": "code",
      "metadata": {
        "colab": {
          "base_uri": "https://localhost:8080/",
          "height": 250
        },
        "id": "jjGJiPa4bo1f",
        "outputId": "7a23ce67-b2da-4780-fa6f-a11ead8e52b4"
      },
      "source": [
        "rs = np.random.RandomState(0)\n",
        "df = pd.DataFrame(rs.rand(10, 10))\n",
        "corr = df.corr()\n",
        "corr.style.background_gradient(cmap='coolwarm')\n",
        "# 'RdBu_r' & 'BrBG' are other good diverging colormaps"
      ],
      "execution_count": null,
      "outputs": [
        {
          "output_type": "execute_result",
          "data": {
            "text/html": [
              "<style  type=\"text/css\" >\n",
              "#T_ca2a6848_bbf2_11eb_81bc_0242ac1c0002row0_col0,#T_ca2a6848_bbf2_11eb_81bc_0242ac1c0002row1_col1,#T_ca2a6848_bbf2_11eb_81bc_0242ac1c0002row2_col2,#T_ca2a6848_bbf2_11eb_81bc_0242ac1c0002row3_col3,#T_ca2a6848_bbf2_11eb_81bc_0242ac1c0002row4_col4,#T_ca2a6848_bbf2_11eb_81bc_0242ac1c0002row5_col5,#T_ca2a6848_bbf2_11eb_81bc_0242ac1c0002row6_col6,#T_ca2a6848_bbf2_11eb_81bc_0242ac1c0002row7_col7,#T_ca2a6848_bbf2_11eb_81bc_0242ac1c0002row8_col8,#T_ca2a6848_bbf2_11eb_81bc_0242ac1c0002row9_col9{\n",
              "            background-color:  #b40426;\n",
              "            color:  #f1f1f1;\n",
              "        }#T_ca2a6848_bbf2_11eb_81bc_0242ac1c0002row0_col1{\n",
              "            background-color:  #e2dad5;\n",
              "            color:  #000000;\n",
              "        }#T_ca2a6848_bbf2_11eb_81bc_0242ac1c0002row0_col2{\n",
              "            background-color:  #f2c9b4;\n",
              "            color:  #000000;\n",
              "        }#T_ca2a6848_bbf2_11eb_81bc_0242ac1c0002row0_col3,#T_ca2a6848_bbf2_11eb_81bc_0242ac1c0002row8_col6{\n",
              "            background-color:  #f6bfa6;\n",
              "            color:  #000000;\n",
              "        }#T_ca2a6848_bbf2_11eb_81bc_0242ac1c0002row0_col4{\n",
              "            background-color:  #c9d7f0;\n",
              "            color:  #000000;\n",
              "        }#T_ca2a6848_bbf2_11eb_81bc_0242ac1c0002row0_col5,#T_ca2a6848_bbf2_11eb_81bc_0242ac1c0002row0_col6,#T_ca2a6848_bbf2_11eb_81bc_0242ac1c0002row2_col3,#T_ca2a6848_bbf2_11eb_81bc_0242ac1c0002row2_col9,#T_ca2a6848_bbf2_11eb_81bc_0242ac1c0002row3_col2,#T_ca2a6848_bbf2_11eb_81bc_0242ac1c0002row4_col7,#T_ca2a6848_bbf2_11eb_81bc_0242ac1c0002row4_col8,#T_ca2a6848_bbf2_11eb_81bc_0242ac1c0002row6_col0,#T_ca2a6848_bbf2_11eb_81bc_0242ac1c0002row6_col1,#T_ca2a6848_bbf2_11eb_81bc_0242ac1c0002row8_col4{\n",
              "            background-color:  #3b4cc0;\n",
              "            color:  #f1f1f1;\n",
              "        }#T_ca2a6848_bbf2_11eb_81bc_0242ac1c0002row0_col7{\n",
              "            background-color:  #f7ba9f;\n",
              "            color:  #000000;\n",
              "        }#T_ca2a6848_bbf2_11eb_81bc_0242ac1c0002row0_col8{\n",
              "            background-color:  #5b7ae5;\n",
              "            color:  #000000;\n",
              "        }#T_ca2a6848_bbf2_11eb_81bc_0242ac1c0002row0_col9,#T_ca2a6848_bbf2_11eb_81bc_0242ac1c0002row5_col0{\n",
              "            background-color:  #9abbff;\n",
              "            color:  #000000;\n",
              "        }#T_ca2a6848_bbf2_11eb_81bc_0242ac1c0002row1_col0{\n",
              "            background-color:  #f4c5ad;\n",
              "            color:  #000000;\n",
              "        }#T_ca2a6848_bbf2_11eb_81bc_0242ac1c0002row1_col2{\n",
              "            background-color:  #6c8ff1;\n",
              "            color:  #000000;\n",
              "        }#T_ca2a6848_bbf2_11eb_81bc_0242ac1c0002row1_col3{\n",
              "            background-color:  #f7a688;\n",
              "            color:  #000000;\n",
              "        }#T_ca2a6848_bbf2_11eb_81bc_0242ac1c0002row1_col4{\n",
              "            background-color:  #7da0f9;\n",
              "            color:  #000000;\n",
              "        }#T_ca2a6848_bbf2_11eb_81bc_0242ac1c0002row1_col5{\n",
              "            background-color:  #dcdddd;\n",
              "            color:  #000000;\n",
              "        }#T_ca2a6848_bbf2_11eb_81bc_0242ac1c0002row1_col6{\n",
              "            background-color:  #80a3fa;\n",
              "            color:  #000000;\n",
              "        }#T_ca2a6848_bbf2_11eb_81bc_0242ac1c0002row1_col7{\n",
              "            background-color:  #f39475;\n",
              "            color:  #000000;\n",
              "        }#T_ca2a6848_bbf2_11eb_81bc_0242ac1c0002row1_col8{\n",
              "            background-color:  #e6d7cf;\n",
              "            color:  #000000;\n",
              "        }#T_ca2a6848_bbf2_11eb_81bc_0242ac1c0002row1_col9{\n",
              "            background-color:  #c5d6f2;\n",
              "            color:  #000000;\n",
              "        }#T_ca2a6848_bbf2_11eb_81bc_0242ac1c0002row2_col0,#T_ca2a6848_bbf2_11eb_81bc_0242ac1c0002row3_col7,#T_ca2a6848_bbf2_11eb_81bc_0242ac1c0002row7_col3{\n",
              "            background-color:  #f7bca1;\n",
              "            color:  #000000;\n",
              "        }#T_ca2a6848_bbf2_11eb_81bc_0242ac1c0002row2_col1,#T_ca2a6848_bbf2_11eb_81bc_0242ac1c0002row4_col1,#T_ca2a6848_bbf2_11eb_81bc_0242ac1c0002row7_col4{\n",
              "            background-color:  #4b64d5;\n",
              "            color:  #f1f1f1;\n",
              "        }#T_ca2a6848_bbf2_11eb_81bc_0242ac1c0002row2_col4,#T_ca2a6848_bbf2_11eb_81bc_0242ac1c0002row9_col8{\n",
              "            background-color:  #d6dce4;\n",
              "            color:  #000000;\n",
              "        }#T_ca2a6848_bbf2_11eb_81bc_0242ac1c0002row2_col5{\n",
              "            background-color:  #516ddb;\n",
              "            color:  #000000;\n",
              "        }#T_ca2a6848_bbf2_11eb_81bc_0242ac1c0002row2_col6{\n",
              "            background-color:  #b6cefa;\n",
              "            color:  #000000;\n",
              "        }#T_ca2a6848_bbf2_11eb_81bc_0242ac1c0002row2_col7,#T_ca2a6848_bbf2_11eb_81bc_0242ac1c0002row7_col2{\n",
              "            background-color:  #b1cbfc;\n",
              "            color:  #000000;\n",
              "        }#T_ca2a6848_bbf2_11eb_81bc_0242ac1c0002row2_col8{\n",
              "            background-color:  #5d7ce6;\n",
              "            color:  #000000;\n",
              "        }#T_ca2a6848_bbf2_11eb_81bc_0242ac1c0002row3_col0,#T_ca2a6848_bbf2_11eb_81bc_0242ac1c0002row3_col1{\n",
              "            background-color:  #f7b194;\n",
              "            color:  #000000;\n",
              "        }#T_ca2a6848_bbf2_11eb_81bc_0242ac1c0002row3_col4{\n",
              "            background-color:  #89acfd;\n",
              "            color:  #000000;\n",
              "        }#T_ca2a6848_bbf2_11eb_81bc_0242ac1c0002row3_col5{\n",
              "            background-color:  #3c4ec2;\n",
              "            color:  #f1f1f1;\n",
              "        }#T_ca2a6848_bbf2_11eb_81bc_0242ac1c0002row3_col6{\n",
              "            background-color:  #6788ee;\n",
              "            color:  #000000;\n",
              "        }#T_ca2a6848_bbf2_11eb_81bc_0242ac1c0002row3_col8{\n",
              "            background-color:  #ead5c9;\n",
              "            color:  #000000;\n",
              "        }#T_ca2a6848_bbf2_11eb_81bc_0242ac1c0002row3_col9{\n",
              "            background-color:  #f2cbb7;\n",
              "            color:  #000000;\n",
              "        }#T_ca2a6848_bbf2_11eb_81bc_0242ac1c0002row4_col0{\n",
              "            background-color:  #d3dbe7;\n",
              "            color:  #000000;\n",
              "        }#T_ca2a6848_bbf2_11eb_81bc_0242ac1c0002row4_col2{\n",
              "            background-color:  #cdd9ec;\n",
              "            color:  #000000;\n",
              "        }#T_ca2a6848_bbf2_11eb_81bc_0242ac1c0002row4_col3{\n",
              "            background-color:  #7a9df8;\n",
              "            color:  #000000;\n",
              "        }#T_ca2a6848_bbf2_11eb_81bc_0242ac1c0002row4_col5{\n",
              "            background-color:  #5a78e4;\n",
              "            color:  #000000;\n",
              "        }#T_ca2a6848_bbf2_11eb_81bc_0242ac1c0002row4_col6{\n",
              "            background-color:  #abc8fd;\n",
              "            color:  #000000;\n",
              "        }#T_ca2a6848_bbf2_11eb_81bc_0242ac1c0002row4_col9,#T_ca2a6848_bbf2_11eb_81bc_0242ac1c0002row7_col6{\n",
              "            background-color:  #6687ed;\n",
              "            color:  #000000;\n",
              "        }#T_ca2a6848_bbf2_11eb_81bc_0242ac1c0002row5_col1{\n",
              "            background-color:  #e9d5cb;\n",
              "            color:  #000000;\n",
              "        }#T_ca2a6848_bbf2_11eb_81bc_0242ac1c0002row5_col2{\n",
              "            background-color:  #8db0fe;\n",
              "            color:  #000000;\n",
              "        }#T_ca2a6848_bbf2_11eb_81bc_0242ac1c0002row5_col3{\n",
              "            background-color:  #799cf8;\n",
              "            color:  #000000;\n",
              "        }#T_ca2a6848_bbf2_11eb_81bc_0242ac1c0002row5_col4{\n",
              "            background-color:  #a3c2fe;\n",
              "            color:  #000000;\n",
              "        }#T_ca2a6848_bbf2_11eb_81bc_0242ac1c0002row5_col6,#T_ca2a6848_bbf2_11eb_81bc_0242ac1c0002row9_col1{\n",
              "            background-color:  #c1d4f4;\n",
              "            color:  #000000;\n",
              "        }#T_ca2a6848_bbf2_11eb_81bc_0242ac1c0002row5_col7,#T_ca2a6848_bbf2_11eb_81bc_0242ac1c0002row9_col7{\n",
              "            background-color:  #f4c6af;\n",
              "            color:  #000000;\n",
              "        }#T_ca2a6848_bbf2_11eb_81bc_0242ac1c0002row5_col8{\n",
              "            background-color:  #dfdbd9;\n",
              "            color:  #000000;\n",
              "        }#T_ca2a6848_bbf2_11eb_81bc_0242ac1c0002row5_col9{\n",
              "            background-color:  #aec9fc;\n",
              "            color:  #000000;\n",
              "        }#T_ca2a6848_bbf2_11eb_81bc_0242ac1c0002row6_col2{\n",
              "            background-color:  #98b9ff;\n",
              "            color:  #000000;\n",
              "        }#T_ca2a6848_bbf2_11eb_81bc_0242ac1c0002row6_col3{\n",
              "            background-color:  #4358cb;\n",
              "            color:  #f1f1f1;\n",
              "        }#T_ca2a6848_bbf2_11eb_81bc_0242ac1c0002row6_col4{\n",
              "            background-color:  #9bbcff;\n",
              "            color:  #000000;\n",
              "        }#T_ca2a6848_bbf2_11eb_81bc_0242ac1c0002row6_col5,#T_ca2a6848_bbf2_11eb_81bc_0242ac1c0002row8_col0{\n",
              "            background-color:  #6f92f3;\n",
              "            color:  #000000;\n",
              "        }#T_ca2a6848_bbf2_11eb_81bc_0242ac1c0002row6_col7{\n",
              "            background-color:  #3f53c6;\n",
              "            color:  #f1f1f1;\n",
              "        }#T_ca2a6848_bbf2_11eb_81bc_0242ac1c0002row6_col8,#T_ca2a6848_bbf2_11eb_81bc_0242ac1c0002row7_col8{\n",
              "            background-color:  #f3c7b1;\n",
              "            color:  #000000;\n",
              "        }#T_ca2a6848_bbf2_11eb_81bc_0242ac1c0002row6_col9{\n",
              "            background-color:  #4055c8;\n",
              "            color:  #f1f1f1;\n",
              "        }#T_ca2a6848_bbf2_11eb_81bc_0242ac1c0002row7_col0{\n",
              "            background-color:  #f7ad90;\n",
              "            color:  #000000;\n",
              "        }#T_ca2a6848_bbf2_11eb_81bc_0242ac1c0002row7_col1{\n",
              "            background-color:  #f59f80;\n",
              "            color:  #000000;\n",
              "        }#T_ca2a6848_bbf2_11eb_81bc_0242ac1c0002row7_col5{\n",
              "            background-color:  #e4d9d2;\n",
              "            color:  #000000;\n",
              "        }#T_ca2a6848_bbf2_11eb_81bc_0242ac1c0002row7_col9{\n",
              "            background-color:  #efcfbf;\n",
              "            color:  #000000;\n",
              "        }#T_ca2a6848_bbf2_11eb_81bc_0242ac1c0002row8_col1{\n",
              "            background-color:  #cfdaea;\n",
              "            color:  #000000;\n",
              "        }#T_ca2a6848_bbf2_11eb_81bc_0242ac1c0002row8_col2{\n",
              "            background-color:  #4c66d6;\n",
              "            color:  #000000;\n",
              "        }#T_ca2a6848_bbf2_11eb_81bc_0242ac1c0002row8_col3{\n",
              "            background-color:  #e3d9d3;\n",
              "            color:  #000000;\n",
              "        }#T_ca2a6848_bbf2_11eb_81bc_0242ac1c0002row8_col5{\n",
              "            background-color:  #b2ccfb;\n",
              "            color:  #000000;\n",
              "        }#T_ca2a6848_bbf2_11eb_81bc_0242ac1c0002row8_col7{\n",
              "            background-color:  #f1cdba;\n",
              "            color:  #000000;\n",
              "        }#T_ca2a6848_bbf2_11eb_81bc_0242ac1c0002row8_col9{\n",
              "            background-color:  #bbd1f8;\n",
              "            color:  #000000;\n",
              "        }#T_ca2a6848_bbf2_11eb_81bc_0242ac1c0002row9_col0{\n",
              "            background-color:  #cad8ef;\n",
              "            color:  #000000;\n",
              "        }#T_ca2a6848_bbf2_11eb_81bc_0242ac1c0002row9_col2{\n",
              "            background-color:  #5673e0;\n",
              "            color:  #000000;\n",
              "        }#T_ca2a6848_bbf2_11eb_81bc_0242ac1c0002row9_col3{\n",
              "            background-color:  #f5c0a7;\n",
              "            color:  #000000;\n",
              "        }#T_ca2a6848_bbf2_11eb_81bc_0242ac1c0002row9_col4{\n",
              "            background-color:  #92b4fe;\n",
              "            color:  #000000;\n",
              "        }#T_ca2a6848_bbf2_11eb_81bc_0242ac1c0002row9_col5{\n",
              "            background-color:  #93b5fe;\n",
              "            color:  #000000;\n",
              "        }#T_ca2a6848_bbf2_11eb_81bc_0242ac1c0002row9_col6{\n",
              "            background-color:  #81a4fb;\n",
              "            color:  #000000;\n",
              "        }</style><table id=\"T_ca2a6848_bbf2_11eb_81bc_0242ac1c0002\" ><thead>    <tr>        <th class=\"blank level0\" ></th>        <th class=\"col_heading level0 col0\" >0</th>        <th class=\"col_heading level0 col1\" >1</th>        <th class=\"col_heading level0 col2\" >2</th>        <th class=\"col_heading level0 col3\" >3</th>        <th class=\"col_heading level0 col4\" >4</th>        <th class=\"col_heading level0 col5\" >5</th>        <th class=\"col_heading level0 col6\" >6</th>        <th class=\"col_heading level0 col7\" >7</th>        <th class=\"col_heading level0 col8\" >8</th>        <th class=\"col_heading level0 col9\" >9</th>    </tr></thead><tbody>\n",
              "                <tr>\n",
              "                        <th id=\"T_ca2a6848_bbf2_11eb_81bc_0242ac1c0002level0_row0\" class=\"row_heading level0 row0\" >0</th>\n",
              "                        <td id=\"T_ca2a6848_bbf2_11eb_81bc_0242ac1c0002row0_col0\" class=\"data row0 col0\" >1.000000</td>\n",
              "                        <td id=\"T_ca2a6848_bbf2_11eb_81bc_0242ac1c0002row0_col1\" class=\"data row0 col1\" >0.347533</td>\n",
              "                        <td id=\"T_ca2a6848_bbf2_11eb_81bc_0242ac1c0002row0_col2\" class=\"data row0 col2\" >0.398948</td>\n",
              "                        <td id=\"T_ca2a6848_bbf2_11eb_81bc_0242ac1c0002row0_col3\" class=\"data row0 col3\" >0.455743</td>\n",
              "                        <td id=\"T_ca2a6848_bbf2_11eb_81bc_0242ac1c0002row0_col4\" class=\"data row0 col4\" >0.072914</td>\n",
              "                        <td id=\"T_ca2a6848_bbf2_11eb_81bc_0242ac1c0002row0_col5\" class=\"data row0 col5\" >-0.233402</td>\n",
              "                        <td id=\"T_ca2a6848_bbf2_11eb_81bc_0242ac1c0002row0_col6\" class=\"data row0 col6\" >-0.731222</td>\n",
              "                        <td id=\"T_ca2a6848_bbf2_11eb_81bc_0242ac1c0002row0_col7\" class=\"data row0 col7\" >0.477978</td>\n",
              "                        <td id=\"T_ca2a6848_bbf2_11eb_81bc_0242ac1c0002row0_col8\" class=\"data row0 col8\" >-0.442621</td>\n",
              "                        <td id=\"T_ca2a6848_bbf2_11eb_81bc_0242ac1c0002row0_col9\" class=\"data row0 col9\" >0.015185</td>\n",
              "            </tr>\n",
              "            <tr>\n",
              "                        <th id=\"T_ca2a6848_bbf2_11eb_81bc_0242ac1c0002level0_row1\" class=\"row_heading level0 row1\" >1</th>\n",
              "                        <td id=\"T_ca2a6848_bbf2_11eb_81bc_0242ac1c0002row1_col0\" class=\"data row1 col0\" >0.347533</td>\n",
              "                        <td id=\"T_ca2a6848_bbf2_11eb_81bc_0242ac1c0002row1_col1\" class=\"data row1 col1\" >1.000000</td>\n",
              "                        <td id=\"T_ca2a6848_bbf2_11eb_81bc_0242ac1c0002row1_col2\" class=\"data row1 col2\" >-0.284056</td>\n",
              "                        <td id=\"T_ca2a6848_bbf2_11eb_81bc_0242ac1c0002row1_col3\" class=\"data row1 col3\" >0.571003</td>\n",
              "                        <td id=\"T_ca2a6848_bbf2_11eb_81bc_0242ac1c0002row1_col4\" class=\"data row1 col4\" >-0.285483</td>\n",
              "                        <td id=\"T_ca2a6848_bbf2_11eb_81bc_0242ac1c0002row1_col5\" class=\"data row1 col5\" >0.382480</td>\n",
              "                        <td id=\"T_ca2a6848_bbf2_11eb_81bc_0242ac1c0002row1_col6\" class=\"data row1 col6\" >-0.362842</td>\n",
              "                        <td id=\"T_ca2a6848_bbf2_11eb_81bc_0242ac1c0002row1_col7\" class=\"data row1 col7\" >0.642578</td>\n",
              "                        <td id=\"T_ca2a6848_bbf2_11eb_81bc_0242ac1c0002row1_col8\" class=\"data row1 col8\" >0.252556</td>\n",
              "                        <td id=\"T_ca2a6848_bbf2_11eb_81bc_0242ac1c0002row1_col9\" class=\"data row1 col9\" >0.190047</td>\n",
              "            </tr>\n",
              "            <tr>\n",
              "                        <th id=\"T_ca2a6848_bbf2_11eb_81bc_0242ac1c0002level0_row2\" class=\"row_heading level0 row2\" >2</th>\n",
              "                        <td id=\"T_ca2a6848_bbf2_11eb_81bc_0242ac1c0002row2_col0\" class=\"data row2 col0\" >0.398948</td>\n",
              "                        <td id=\"T_ca2a6848_bbf2_11eb_81bc_0242ac1c0002row2_col1\" class=\"data row2 col1\" >-0.284056</td>\n",
              "                        <td id=\"T_ca2a6848_bbf2_11eb_81bc_0242ac1c0002row2_col2\" class=\"data row2 col2\" >1.000000</td>\n",
              "                        <td id=\"T_ca2a6848_bbf2_11eb_81bc_0242ac1c0002row2_col3\" class=\"data row2 col3\" >-0.523649</td>\n",
              "                        <td id=\"T_ca2a6848_bbf2_11eb_81bc_0242ac1c0002row2_col4\" class=\"data row2 col4\" >0.152937</td>\n",
              "                        <td id=\"T_ca2a6848_bbf2_11eb_81bc_0242ac1c0002row2_col5\" class=\"data row2 col5\" >-0.139176</td>\n",
              "                        <td id=\"T_ca2a6848_bbf2_11eb_81bc_0242ac1c0002row2_col6\" class=\"data row2 col6\" >-0.092895</td>\n",
              "                        <td id=\"T_ca2a6848_bbf2_11eb_81bc_0242ac1c0002row2_col7\" class=\"data row2 col7\" >0.016266</td>\n",
              "                        <td id=\"T_ca2a6848_bbf2_11eb_81bc_0242ac1c0002row2_col8\" class=\"data row2 col8\" >-0.434016</td>\n",
              "                        <td id=\"T_ca2a6848_bbf2_11eb_81bc_0242ac1c0002row2_col9\" class=\"data row2 col9\" >-0.383585</td>\n",
              "            </tr>\n",
              "            <tr>\n",
              "                        <th id=\"T_ca2a6848_bbf2_11eb_81bc_0242ac1c0002level0_row3\" class=\"row_heading level0 row3\" >3</th>\n",
              "                        <td id=\"T_ca2a6848_bbf2_11eb_81bc_0242ac1c0002row3_col0\" class=\"data row3 col0\" >0.455743</td>\n",
              "                        <td id=\"T_ca2a6848_bbf2_11eb_81bc_0242ac1c0002row3_col1\" class=\"data row3 col1\" >0.571003</td>\n",
              "                        <td id=\"T_ca2a6848_bbf2_11eb_81bc_0242ac1c0002row3_col2\" class=\"data row3 col2\" >-0.523649</td>\n",
              "                        <td id=\"T_ca2a6848_bbf2_11eb_81bc_0242ac1c0002row3_col3\" class=\"data row3 col3\" >1.000000</td>\n",
              "                        <td id=\"T_ca2a6848_bbf2_11eb_81bc_0242ac1c0002row3_col4\" class=\"data row3 col4\" >-0.225343</td>\n",
              "                        <td id=\"T_ca2a6848_bbf2_11eb_81bc_0242ac1c0002row3_col5\" class=\"data row3 col5\" >-0.227577</td>\n",
              "                        <td id=\"T_ca2a6848_bbf2_11eb_81bc_0242ac1c0002row3_col6\" class=\"data row3 col6\" >-0.481548</td>\n",
              "                        <td id=\"T_ca2a6848_bbf2_11eb_81bc_0242ac1c0002row3_col7\" class=\"data row3 col7\" >0.473286</td>\n",
              "                        <td id=\"T_ca2a6848_bbf2_11eb_81bc_0242ac1c0002row3_col8\" class=\"data row3 col8\" >0.279258</td>\n",
              "                        <td id=\"T_ca2a6848_bbf2_11eb_81bc_0242ac1c0002row3_col9\" class=\"data row3 col9\" >0.446650</td>\n",
              "            </tr>\n",
              "            <tr>\n",
              "                        <th id=\"T_ca2a6848_bbf2_11eb_81bc_0242ac1c0002level0_row4\" class=\"row_heading level0 row4\" >4</th>\n",
              "                        <td id=\"T_ca2a6848_bbf2_11eb_81bc_0242ac1c0002row4_col0\" class=\"data row4 col0\" >0.072914</td>\n",
              "                        <td id=\"T_ca2a6848_bbf2_11eb_81bc_0242ac1c0002row4_col1\" class=\"data row4 col1\" >-0.285483</td>\n",
              "                        <td id=\"T_ca2a6848_bbf2_11eb_81bc_0242ac1c0002row4_col2\" class=\"data row4 col2\" >0.152937</td>\n",
              "                        <td id=\"T_ca2a6848_bbf2_11eb_81bc_0242ac1c0002row4_col3\" class=\"data row4 col3\" >-0.225343</td>\n",
              "                        <td id=\"T_ca2a6848_bbf2_11eb_81bc_0242ac1c0002row4_col4\" class=\"data row4 col4\" >1.000000</td>\n",
              "                        <td id=\"T_ca2a6848_bbf2_11eb_81bc_0242ac1c0002row4_col5\" class=\"data row4 col5\" >-0.104438</td>\n",
              "                        <td id=\"T_ca2a6848_bbf2_11eb_81bc_0242ac1c0002row4_col6\" class=\"data row4 col6\" >-0.147477</td>\n",
              "                        <td id=\"T_ca2a6848_bbf2_11eb_81bc_0242ac1c0002row4_col7\" class=\"data row4 col7\" >-0.523283</td>\n",
              "                        <td id=\"T_ca2a6848_bbf2_11eb_81bc_0242ac1c0002row4_col8\" class=\"data row4 col8\" >-0.614603</td>\n",
              "                        <td id=\"T_ca2a6848_bbf2_11eb_81bc_0242ac1c0002row4_col9\" class=\"data row4 col9\" >-0.189916</td>\n",
              "            </tr>\n",
              "            <tr>\n",
              "                        <th id=\"T_ca2a6848_bbf2_11eb_81bc_0242ac1c0002level0_row5\" class=\"row_heading level0 row5\" >5</th>\n",
              "                        <td id=\"T_ca2a6848_bbf2_11eb_81bc_0242ac1c0002row5_col0\" class=\"data row5 col0\" >-0.233402</td>\n",
              "                        <td id=\"T_ca2a6848_bbf2_11eb_81bc_0242ac1c0002row5_col1\" class=\"data row5 col1\" >0.382480</td>\n",
              "                        <td id=\"T_ca2a6848_bbf2_11eb_81bc_0242ac1c0002row5_col2\" class=\"data row5 col2\" >-0.139176</td>\n",
              "                        <td id=\"T_ca2a6848_bbf2_11eb_81bc_0242ac1c0002row5_col3\" class=\"data row5 col3\" >-0.227577</td>\n",
              "                        <td id=\"T_ca2a6848_bbf2_11eb_81bc_0242ac1c0002row5_col4\" class=\"data row5 col4\" >-0.104438</td>\n",
              "                        <td id=\"T_ca2a6848_bbf2_11eb_81bc_0242ac1c0002row5_col5\" class=\"data row5 col5\" >1.000000</td>\n",
              "                        <td id=\"T_ca2a6848_bbf2_11eb_81bc_0242ac1c0002row5_col6\" class=\"data row5 col6\" >-0.030252</td>\n",
              "                        <td id=\"T_ca2a6848_bbf2_11eb_81bc_0242ac1c0002row5_col7\" class=\"data row5 col7\" >0.417640</td>\n",
              "                        <td id=\"T_ca2a6848_bbf2_11eb_81bc_0242ac1c0002row5_col8\" class=\"data row5 col8\" >0.205851</td>\n",
              "                        <td id=\"T_ca2a6848_bbf2_11eb_81bc_0242ac1c0002row5_col9\" class=\"data row5 col9\" >0.095084</td>\n",
              "            </tr>\n",
              "            <tr>\n",
              "                        <th id=\"T_ca2a6848_bbf2_11eb_81bc_0242ac1c0002level0_row6\" class=\"row_heading level0 row6\" >6</th>\n",
              "                        <td id=\"T_ca2a6848_bbf2_11eb_81bc_0242ac1c0002row6_col0\" class=\"data row6 col0\" >-0.731222</td>\n",
              "                        <td id=\"T_ca2a6848_bbf2_11eb_81bc_0242ac1c0002row6_col1\" class=\"data row6 col1\" >-0.362842</td>\n",
              "                        <td id=\"T_ca2a6848_bbf2_11eb_81bc_0242ac1c0002row6_col2\" class=\"data row6 col2\" >-0.092895</td>\n",
              "                        <td id=\"T_ca2a6848_bbf2_11eb_81bc_0242ac1c0002row6_col3\" class=\"data row6 col3\" >-0.481548</td>\n",
              "                        <td id=\"T_ca2a6848_bbf2_11eb_81bc_0242ac1c0002row6_col4\" class=\"data row6 col4\" >-0.147477</td>\n",
              "                        <td id=\"T_ca2a6848_bbf2_11eb_81bc_0242ac1c0002row6_col5\" class=\"data row6 col5\" >-0.030252</td>\n",
              "                        <td id=\"T_ca2a6848_bbf2_11eb_81bc_0242ac1c0002row6_col6\" class=\"data row6 col6\" >1.000000</td>\n",
              "                        <td id=\"T_ca2a6848_bbf2_11eb_81bc_0242ac1c0002row6_col7\" class=\"data row6 col7\" >-0.494440</td>\n",
              "                        <td id=\"T_ca2a6848_bbf2_11eb_81bc_0242ac1c0002row6_col8\" class=\"data row6 col8\" >0.381407</td>\n",
              "                        <td id=\"T_ca2a6848_bbf2_11eb_81bc_0242ac1c0002row6_col9\" class=\"data row6 col9\" >-0.353652</td>\n",
              "            </tr>\n",
              "            <tr>\n",
              "                        <th id=\"T_ca2a6848_bbf2_11eb_81bc_0242ac1c0002level0_row7\" class=\"row_heading level0 row7\" >7</th>\n",
              "                        <td id=\"T_ca2a6848_bbf2_11eb_81bc_0242ac1c0002row7_col0\" class=\"data row7 col0\" >0.477978</td>\n",
              "                        <td id=\"T_ca2a6848_bbf2_11eb_81bc_0242ac1c0002row7_col1\" class=\"data row7 col1\" >0.642578</td>\n",
              "                        <td id=\"T_ca2a6848_bbf2_11eb_81bc_0242ac1c0002row7_col2\" class=\"data row7 col2\" >0.016266</td>\n",
              "                        <td id=\"T_ca2a6848_bbf2_11eb_81bc_0242ac1c0002row7_col3\" class=\"data row7 col3\" >0.473286</td>\n",
              "                        <td id=\"T_ca2a6848_bbf2_11eb_81bc_0242ac1c0002row7_col4\" class=\"data row7 col4\" >-0.523283</td>\n",
              "                        <td id=\"T_ca2a6848_bbf2_11eb_81bc_0242ac1c0002row7_col5\" class=\"data row7 col5\" >0.417640</td>\n",
              "                        <td id=\"T_ca2a6848_bbf2_11eb_81bc_0242ac1c0002row7_col6\" class=\"data row7 col6\" >-0.494440</td>\n",
              "                        <td id=\"T_ca2a6848_bbf2_11eb_81bc_0242ac1c0002row7_col7\" class=\"data row7 col7\" >1.000000</td>\n",
              "                        <td id=\"T_ca2a6848_bbf2_11eb_81bc_0242ac1c0002row7_col8\" class=\"data row7 col8\" >0.375873</td>\n",
              "                        <td id=\"T_ca2a6848_bbf2_11eb_81bc_0242ac1c0002row7_col9\" class=\"data row7 col9\" >0.417863</td>\n",
              "            </tr>\n",
              "            <tr>\n",
              "                        <th id=\"T_ca2a6848_bbf2_11eb_81bc_0242ac1c0002level0_row8\" class=\"row_heading level0 row8\" >8</th>\n",
              "                        <td id=\"T_ca2a6848_bbf2_11eb_81bc_0242ac1c0002row8_col0\" class=\"data row8 col0\" >-0.442621</td>\n",
              "                        <td id=\"T_ca2a6848_bbf2_11eb_81bc_0242ac1c0002row8_col1\" class=\"data row8 col1\" >0.252556</td>\n",
              "                        <td id=\"T_ca2a6848_bbf2_11eb_81bc_0242ac1c0002row8_col2\" class=\"data row8 col2\" >-0.434016</td>\n",
              "                        <td id=\"T_ca2a6848_bbf2_11eb_81bc_0242ac1c0002row8_col3\" class=\"data row8 col3\" >0.279258</td>\n",
              "                        <td id=\"T_ca2a6848_bbf2_11eb_81bc_0242ac1c0002row8_col4\" class=\"data row8 col4\" >-0.614603</td>\n",
              "                        <td id=\"T_ca2a6848_bbf2_11eb_81bc_0242ac1c0002row8_col5\" class=\"data row8 col5\" >0.205851</td>\n",
              "                        <td id=\"T_ca2a6848_bbf2_11eb_81bc_0242ac1c0002row8_col6\" class=\"data row8 col6\" >0.381407</td>\n",
              "                        <td id=\"T_ca2a6848_bbf2_11eb_81bc_0242ac1c0002row8_col7\" class=\"data row8 col7\" >0.375873</td>\n",
              "                        <td id=\"T_ca2a6848_bbf2_11eb_81bc_0242ac1c0002row8_col8\" class=\"data row8 col8\" >1.000000</td>\n",
              "                        <td id=\"T_ca2a6848_bbf2_11eb_81bc_0242ac1c0002row8_col9\" class=\"data row8 col9\" >0.150421</td>\n",
              "            </tr>\n",
              "            <tr>\n",
              "                        <th id=\"T_ca2a6848_bbf2_11eb_81bc_0242ac1c0002level0_row9\" class=\"row_heading level0 row9\" >9</th>\n",
              "                        <td id=\"T_ca2a6848_bbf2_11eb_81bc_0242ac1c0002row9_col0\" class=\"data row9 col0\" >0.015185</td>\n",
              "                        <td id=\"T_ca2a6848_bbf2_11eb_81bc_0242ac1c0002row9_col1\" class=\"data row9 col1\" >0.190047</td>\n",
              "                        <td id=\"T_ca2a6848_bbf2_11eb_81bc_0242ac1c0002row9_col2\" class=\"data row9 col2\" >-0.383585</td>\n",
              "                        <td id=\"T_ca2a6848_bbf2_11eb_81bc_0242ac1c0002row9_col3\" class=\"data row9 col3\" >0.446650</td>\n",
              "                        <td id=\"T_ca2a6848_bbf2_11eb_81bc_0242ac1c0002row9_col4\" class=\"data row9 col4\" >-0.189916</td>\n",
              "                        <td id=\"T_ca2a6848_bbf2_11eb_81bc_0242ac1c0002row9_col5\" class=\"data row9 col5\" >0.095084</td>\n",
              "                        <td id=\"T_ca2a6848_bbf2_11eb_81bc_0242ac1c0002row9_col6\" class=\"data row9 col6\" >-0.353652</td>\n",
              "                        <td id=\"T_ca2a6848_bbf2_11eb_81bc_0242ac1c0002row9_col7\" class=\"data row9 col7\" >0.417863</td>\n",
              "                        <td id=\"T_ca2a6848_bbf2_11eb_81bc_0242ac1c0002row9_col8\" class=\"data row9 col8\" >0.150421</td>\n",
              "                        <td id=\"T_ca2a6848_bbf2_11eb_81bc_0242ac1c0002row9_col9\" class=\"data row9 col9\" >1.000000</td>\n",
              "            </tr>\n",
              "    </tbody></table>"
            ],
            "text/plain": [
              "<pandas.io.formats.style.Styler at 0x7f2afdd6c810>"
            ]
          },
          "metadata": {
            "tags": []
          },
          "execution_count": 39
        }
      ]
    },
    {
      "cell_type": "code",
      "metadata": {
        "id": "m9bGGonBnT7I"
      },
      "source": [
        ""
      ],
      "execution_count": null,
      "outputs": []
    },
    {
      "cell_type": "markdown",
      "metadata": {
        "id": "47Q9A5qSnVk_"
      },
      "source": [
        "# SEABORN\n"
      ]
    },
    {
      "cell_type": "markdown",
      "metadata": {
        "id": "ECOQNj4snYXH"
      },
      "source": [
        "### Pariplot(): une vue d'ensemble"
      ]
    },
    {
      "cell_type": "code",
      "metadata": {
        "id": "OO1BKlA3nc2T"
      },
      "source": [
        "sns.pairplot(data,hue='Click')"
      ],
      "execution_count": null,
      "outputs": []
    }
  ]
}